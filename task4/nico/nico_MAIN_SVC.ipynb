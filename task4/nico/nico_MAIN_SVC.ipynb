{
 "cells": [
  {
   "cell_type": "markdown",
   "metadata": {},
   "source": [
    "# 15/12/2019 -- SVC "
   ]
  },
  {
   "cell_type": "code",
   "execution_count": 438,
   "metadata": {},
   "outputs": [],
   "source": [
    "import pandas as pd\n",
    "import numpy as np\n",
    "import matplotlib.pyplot as plt\n",
    "import seaborn as sns\n",
    "from scipy.stats import kurtosis,skew\n",
    "\n",
    "from sklearn.preprocessing import StandardScaler\n",
    "from sklearn.svm import SVC\n",
    "from sklearn.pipeline import Pipeline, make_pipeline\n",
    "from sklearn.model_selection import KFold, GridSearchCV\n",
    "from sklearn.metrics import balanced_accuracy_score\n",
    "from sklearn.metrics import make_scorer\n",
    "from tqdm import tqdm_notebook as tqdm\n",
    "import pyeeg\n",
    "\n",
    "import yasa"
   ]
  },
  {
   "cell_type": "markdown",
   "metadata": {},
   "source": [
    "# Load Data"
   ]
  },
  {
   "cell_type": "code",
   "execution_count": 775,
   "metadata": {},
   "outputs": [],
   "source": [
    "xtrain_eeg1 = pd.read_csv(\"train_eeg1.csv\").drop(\"Id\", axis = 1)\n",
    "xtrain_eeg2 = pd.read_csv(\"train_eeg2.csv\").drop(\"Id\", axis = 1)\n",
    "xtrain_emg = pd.read_csv(\"train_emg.csv\").drop(\"Id\", axis = 1)\n",
    "\n",
    "ytrain = pd.read_csv(\"train_labels.csv\").drop(\"Id\", axis = 1)\n",
    "\n",
    "xtest_eeg1 = pd.read_csv(\"test_eeg1.csv\").drop(\"Id\", axis = 1)\n",
    "xtest_eeg2 = pd.read_csv(\"test_eeg2.csv\").drop(\"Id\", axis = 1)\n",
    "xtest_emg = pd.read_csv(\"test_emg.csv\").drop(\"Id\", axis = 1)"
   ]
  },
  {
   "cell_type": "code",
   "execution_count": 440,
   "metadata": {},
   "outputs": [
    {
     "name": "stdout",
     "output_type": "stream",
     "text": [
      "(64800, 512)\n",
      "(64800, 512)\n",
      "(64800, 512)\n",
      "(43200, 512)\n",
      "(43200, 512)\n",
      "(43200, 512)\n",
      "(64800, 1)\n"
     ]
    }
   ],
   "source": [
    "print(xtrain_eeg1.shape)\n",
    "print(xtrain_eeg2.shape)\n",
    "print(xtrain_emg.shape)\n",
    "print(xtest_eeg1.shape)\n",
    "print(xtest_eeg2.shape)\n",
    "print(xtest_emg.shape)\n",
    "print(ytrain.shape)"
   ]
  },
  {
   "cell_type": "code",
   "execution_count": 441,
   "metadata": {},
   "outputs": [
    {
     "data": {
      "text/html": [
       "<div>\n",
       "<style scoped>\n",
       "    .dataframe tbody tr th:only-of-type {\n",
       "        vertical-align: middle;\n",
       "    }\n",
       "\n",
       "    .dataframe tbody tr th {\n",
       "        vertical-align: top;\n",
       "    }\n",
       "\n",
       "    .dataframe thead th {\n",
       "        text-align: right;\n",
       "    }\n",
       "</style>\n",
       "<table border=\"1\" class=\"dataframe\">\n",
       "  <thead>\n",
       "    <tr style=\"text-align: right;\">\n",
       "      <th></th>\n",
       "      <th>x1</th>\n",
       "      <th>x2</th>\n",
       "      <th>x3</th>\n",
       "      <th>x4</th>\n",
       "      <th>x5</th>\n",
       "      <th>x6</th>\n",
       "      <th>x7</th>\n",
       "      <th>x8</th>\n",
       "      <th>x9</th>\n",
       "      <th>x10</th>\n",
       "      <th>...</th>\n",
       "      <th>x503</th>\n",
       "      <th>x504</th>\n",
       "      <th>x505</th>\n",
       "      <th>x506</th>\n",
       "      <th>x507</th>\n",
       "      <th>x508</th>\n",
       "      <th>x509</th>\n",
       "      <th>x510</th>\n",
       "      <th>x511</th>\n",
       "      <th>x512</th>\n",
       "    </tr>\n",
       "  </thead>\n",
       "  <tbody>\n",
       "    <tr>\n",
       "      <td>0</td>\n",
       "      <td>0.000400</td>\n",
       "      <td>0.000470</td>\n",
       "      <td>0.000067</td>\n",
       "      <td>-0.00016</td>\n",
       "      <td>-0.000003</td>\n",
       "      <td>0.00031</td>\n",
       "      <td>0.000360</td>\n",
       "      <td>0.00019</td>\n",
       "      <td>-0.000072</td>\n",
       "      <td>-0.00007</td>\n",
       "      <td>...</td>\n",
       "      <td>-0.000086</td>\n",
       "      <td>0.000033</td>\n",
       "      <td>-0.000046</td>\n",
       "      <td>-0.000270</td>\n",
       "      <td>-0.000390</td>\n",
       "      <td>-0.00034</td>\n",
       "      <td>-0.00032</td>\n",
       "      <td>-0.00021</td>\n",
       "      <td>0.000042</td>\n",
       "      <td>0.000053</td>\n",
       "    </tr>\n",
       "    <tr>\n",
       "      <td>1</td>\n",
       "      <td>0.000067</td>\n",
       "      <td>0.000095</td>\n",
       "      <td>0.000270</td>\n",
       "      <td>0.00028</td>\n",
       "      <td>0.000250</td>\n",
       "      <td>0.00012</td>\n",
       "      <td>0.000094</td>\n",
       "      <td>-0.00034</td>\n",
       "      <td>-0.000960</td>\n",
       "      <td>-0.00120</td>\n",
       "      <td>...</td>\n",
       "      <td>0.000046</td>\n",
       "      <td>0.000300</td>\n",
       "      <td>0.000630</td>\n",
       "      <td>0.000710</td>\n",
       "      <td>0.000520</td>\n",
       "      <td>0.00041</td>\n",
       "      <td>0.00066</td>\n",
       "      <td>0.00088</td>\n",
       "      <td>0.000770</td>\n",
       "      <td>0.000410</td>\n",
       "    </tr>\n",
       "    <tr>\n",
       "      <td>2</td>\n",
       "      <td>0.000160</td>\n",
       "      <td>-0.000210</td>\n",
       "      <td>-0.000840</td>\n",
       "      <td>-0.00120</td>\n",
       "      <td>-0.001200</td>\n",
       "      <td>-0.00140</td>\n",
       "      <td>-0.001400</td>\n",
       "      <td>-0.00091</td>\n",
       "      <td>-0.000600</td>\n",
       "      <td>-0.00027</td>\n",
       "      <td>...</td>\n",
       "      <td>-0.000680</td>\n",
       "      <td>-0.000880</td>\n",
       "      <td>-0.001000</td>\n",
       "      <td>-0.000770</td>\n",
       "      <td>-0.000680</td>\n",
       "      <td>-0.00073</td>\n",
       "      <td>-0.00073</td>\n",
       "      <td>-0.00062</td>\n",
       "      <td>-0.000550</td>\n",
       "      <td>-0.000540</td>\n",
       "    </tr>\n",
       "    <tr>\n",
       "      <td>3</td>\n",
       "      <td>-0.000140</td>\n",
       "      <td>0.000260</td>\n",
       "      <td>0.000390</td>\n",
       "      <td>0.00043</td>\n",
       "      <td>0.000280</td>\n",
       "      <td>0.00023</td>\n",
       "      <td>0.000390</td>\n",
       "      <td>0.00022</td>\n",
       "      <td>0.000150</td>\n",
       "      <td>0.00022</td>\n",
       "      <td>...</td>\n",
       "      <td>0.000720</td>\n",
       "      <td>0.000760</td>\n",
       "      <td>0.000380</td>\n",
       "      <td>0.000052</td>\n",
       "      <td>-0.000260</td>\n",
       "      <td>-0.00058</td>\n",
       "      <td>-0.00075</td>\n",
       "      <td>-0.00110</td>\n",
       "      <td>-0.001200</td>\n",
       "      <td>-0.001200</td>\n",
       "    </tr>\n",
       "    <tr>\n",
       "      <td>4</td>\n",
       "      <td>-0.001100</td>\n",
       "      <td>-0.000790</td>\n",
       "      <td>-0.000081</td>\n",
       "      <td>0.00014</td>\n",
       "      <td>0.000200</td>\n",
       "      <td>-0.00014</td>\n",
       "      <td>-0.000430</td>\n",
       "      <td>-0.00053</td>\n",
       "      <td>-0.000580</td>\n",
       "      <td>-0.00041</td>\n",
       "      <td>...</td>\n",
       "      <td>0.000290</td>\n",
       "      <td>0.000600</td>\n",
       "      <td>0.000670</td>\n",
       "      <td>0.000190</td>\n",
       "      <td>-0.000055</td>\n",
       "      <td>-0.00016</td>\n",
       "      <td>-0.00023</td>\n",
       "      <td>-0.00023</td>\n",
       "      <td>-0.000330</td>\n",
       "      <td>-0.000810</td>\n",
       "    </tr>\n",
       "  </tbody>\n",
       "</table>\n",
       "<p>5 rows × 512 columns</p>\n",
       "</div>"
      ],
      "text/plain": [
       "         x1        x2        x3       x4        x5       x6        x7  \\\n",
       "0  0.000400  0.000470  0.000067 -0.00016 -0.000003  0.00031  0.000360   \n",
       "1  0.000067  0.000095  0.000270  0.00028  0.000250  0.00012  0.000094   \n",
       "2  0.000160 -0.000210 -0.000840 -0.00120 -0.001200 -0.00140 -0.001400   \n",
       "3 -0.000140  0.000260  0.000390  0.00043  0.000280  0.00023  0.000390   \n",
       "4 -0.001100 -0.000790 -0.000081  0.00014  0.000200 -0.00014 -0.000430   \n",
       "\n",
       "        x8        x9      x10  ...      x503      x504      x505      x506  \\\n",
       "0  0.00019 -0.000072 -0.00007  ... -0.000086  0.000033 -0.000046 -0.000270   \n",
       "1 -0.00034 -0.000960 -0.00120  ...  0.000046  0.000300  0.000630  0.000710   \n",
       "2 -0.00091 -0.000600 -0.00027  ... -0.000680 -0.000880 -0.001000 -0.000770   \n",
       "3  0.00022  0.000150  0.00022  ...  0.000720  0.000760  0.000380  0.000052   \n",
       "4 -0.00053 -0.000580 -0.00041  ...  0.000290  0.000600  0.000670  0.000190   \n",
       "\n",
       "       x507     x508     x509     x510      x511      x512  \n",
       "0 -0.000390 -0.00034 -0.00032 -0.00021  0.000042  0.000053  \n",
       "1  0.000520  0.00041  0.00066  0.00088  0.000770  0.000410  \n",
       "2 -0.000680 -0.00073 -0.00073 -0.00062 -0.000550 -0.000540  \n",
       "3 -0.000260 -0.00058 -0.00075 -0.00110 -0.001200 -0.001200  \n",
       "4 -0.000055 -0.00016 -0.00023 -0.00023 -0.000330 -0.000810  \n",
       "\n",
       "[5 rows x 512 columns]"
      ]
     },
     "execution_count": 441,
     "metadata": {},
     "output_type": "execute_result"
    }
   ],
   "source": [
    "xtrain_eeg1.head()"
   ]
  },
  {
   "cell_type": "code",
   "execution_count": 754,
   "metadata": {},
   "outputs": [
    {
     "data": {
      "image/png": "[encoded data removed]",
      "text/plain": [
       "<Figure size 864x288 with 1 Axes>"
      ]
     },
     "metadata": {
      "needs_background": "light"
     },
     "output_type": "display_data"
    }
   ],
   "source": [
    "signal = xtrain_emg.iloc[14000,:].values\n",
    "# Define sampling frequency and time vector\n",
    "sf = 128.\n",
    "time = np.arange(signal.size) / sf\n",
    "\n",
    "# Plot the signal\n",
    "fig, ax = plt.subplots(1, 1, figsize=(12, 4))\n",
    "plt.plot(time, abs(signal), lw=1.5, color='k')\n",
    "plt.xlabel('Time (seconds)')\n",
    "plt.ylabel('Voltage')\n",
    "plt.xlim([time.min(), time.max()])\n",
    "plt.title('EEG data')\n",
    "sns.despine()"
   ]
  },
  {
   "cell_type": "markdown",
   "metadata": {},
   "source": [
    "# Functions for Feature Extraction"
   ]
  },
  {
   "cell_type": "code",
   "execution_count": 776,
   "metadata": {},
   "outputs": [],
   "source": [
    "###############################################################################\n",
    "###############################################################################\n",
    "'''  ## EEG FEATURES ##   '''\n",
    "###############################################################################\n",
    "###############################################################################\n",
    "\n",
    "'''NOTE TO SELF: remember to chance features_num whenever playing around with features'''\n",
    "'''extracting bandpower from eeg signal'''\n",
    "\n",
    "# Note that yasa's bandpower function limits the row length to the amount of columns divided by 2\n",
    "# Therefore, iterate in for loop 100 rows at a time\n",
    "\n",
    "def extract_bandpower_eeg(signal, frequency = 128):\n",
    "    for i in (np.arange(signal.shape[0] / 100) + 1):\n",
    "        if i == 1:\n",
    "            df = yasa.bandpower(signal.iloc[0:int(100*i),:].values, sf=frequency)\n",
    "        else:\n",
    "            df = df.append(yasa.bandpower(signal.iloc[int(100*(i-1)):int(100*i),:].values, sf=frequency))\n",
    "    \n",
    "    df = df.set_index(np.arange(signal.shape[0]))\n",
    "    df = df.drop(columns = [\"FreqRes\",\"Relative\"], axis = 1)\n",
    "    return df\n",
    "\n",
    "###############################################################################\n",
    "\n",
    "'''extracting descriptive statistics for eeg signals'''\n",
    "\n",
    "def descriptive_statistics_EEG(signal, fs = 128):\n",
    "    K_boundary = 10         # to be tuned\n",
    "    t_fisher = 12          # to be tuned\n",
    "    d_fisher = 40          # to be tuned\n",
    "    features_num = 7\n",
    "    threshold =  0.0009\n",
    "   \n",
    "    '''simple statistics'''\n",
    "    \"\"\" TESTED for (nxd) matrix input \"\"\"\n",
    "    # Check if it is not a 1d array\n",
    "    if (len(signal.shape) > 1) and (signal.shape[1]!=1):\n",
    "        simple_stats = np.array([np.mean(signal, axis=1), \n",
    "                        np.median(signal, axis=1),\n",
    "                        np.std(signal, axis=1), \n",
    "                        np.max(signal, axis=1),\n",
    "                        np.min(signal, axis=1), \n",
    "                        kurtosis(signal, axis=1),\n",
    "                        skew(signal, axis=1), \n",
    "                        pd.Series(np.sum(np.abs(signal), axis = 1))]).T\n",
    "                        \n",
    "    else:\n",
    "        print(\"Not Tested with this input!\")\n",
    "        simple_stats =  np.array([np.mean(signal), \n",
    "                        np.median(signal), \n",
    "                        np.std(sigal),\n",
    "                        np.max(signal), \n",
    "                        np.min(signal), \n",
    "                        float(kurtosis(signal)),\n",
    "                        float(skew(signal))])\n",
    "        \n",
    "        \n",
    "    '''Advanced statistics: Higuchi Fractal Dimension, Fisher Infromation,\n",
    "    Petrosian Fractal Dimension, Detrended Fluctuation Analysis'''\n",
    "        \n",
    "    advanced_stats = np.zeros((signal.shape[0],features_num))\n",
    "    for i in tqdm((np.arange(signal.shape[0]))):\n",
    "        feat_array = np.array([\n",
    "                               pyeeg.fisher_info(signal.iloc[i,:], t_fisher, d_fisher), \n",
    "                               pyeeg.pfd(signal.iloc[i,:]), \n",
    "                               pyeeg.dfa(signal.iloc[i,:]),\n",
    "                               pyeeg.hfd(signal.iloc[i,:], K_boundary),\n",
    "                               np.sum((abs(signal.iloc[i,:]) ** (-0.3)).values > 20),\n",
    "                               np.sum((abs(signal.iloc[i,:])).values > threshold),\n",
    "                               np.std(abs(signal.iloc[i,:].values) ** (0.05))])\n",
    "        advanced_stats[i, :] = feat_array \n",
    "\n",
    "    union_smpl_adv = np.concatenate((simple_stats, advanced_stats), axis = 1)\n",
    "\n",
    "    return (union_smpl_adv)\n",
    "\n",
    "###############################################################################\n",
    "\n",
    "'''joining bandpower and descriptive statistics'''\n",
    "\n",
    "def EEG_feature_extraction(signal, fs = 128): \n",
    "    eeg_features = np.concatenate((extract_bandpower_eeg(signal, 128), descriptive_statistics_EEG(signal, fs = 128)), axis = 1)\n",
    "    \n",
    "    return(eeg_features)\n",
    "\n",
    "\n",
    "\n",
    "###############################################################################\n",
    "###############################################################################\n",
    "'''  ## EMG FEATURES ##   '''\n",
    "###############################################################################\n",
    "###############################################################################\n",
    "\n",
    "'''extracting descriptive statistics for emg signals'''\n",
    "\n",
    "def EMG_feature_extraction(signal, fs = 128):\n",
    "    features_num = 6\n",
    "    \n",
    "    '''simple statistics'''\n",
    "    \"\"\" TESTED for (nxd) matrix input \"\"\"\n",
    "    # Check if it is not a 1d array\n",
    "    if (len(signal.shape) > 1) and (signal.shape[1]!=1):\n",
    "        simple_stats = np.array([np.mean(signal, axis=1), \n",
    "                        np.median(signal, axis=1),\n",
    "                        np.std(signal, axis=1), \n",
    "                        np.max(signal, axis=1),\n",
    "                        np.min(signal, axis=1), \n",
    "                        kurtosis(signal, axis=1),\n",
    "                        skew(signal, axis=1), \n",
    "                        pd.Series(np.sum(np.abs(signal), axis = 1))]).T\n",
    "                        \n",
    "    else:\n",
    "        print(\"Not Tested with this input!\")\n",
    "        simple_stats =  np.array([np.mean(signal), \n",
    "                        np.median(signal), \n",
    "                        np.std(sigal),\n",
    "                        np.max(signal), \n",
    "                        np.min(signal), \n",
    "                        float(kurtosis(signal)),\n",
    "                        float(skew(signal))])\n",
    "\n",
    "    '''\n",
    "    TO BE UPDATED:\n",
    "    Advanced statistics -- these include: \n",
    "    Median values for second, third, fourth and fifth powers of initial emg signal,\n",
    "    Median of changes in amplitude, \n",
    "    Std of changes in amplitude, \n",
    "    Lengths of waves, \n",
    "    Mean of squared differences of emg signal\n",
    "    '''\n",
    "    advanced_stats = np.zeros((signal.shape[0],features_num))\n",
    "    for i in tqdm((np.arange(signal.shape[0]))):\n",
    "        feat_array = np.array([\n",
    "                              np.median(signal.iloc[i,:] ** 2), \n",
    "                              #np.median(signal.iloc[i,:] ** 3), \n",
    "                              np.median(np.abs(np.diff(signal.iloc[i,:]))), \n",
    "                              np.std(np.abs(np.diff(signal.iloc[i,:]))), \n",
    "                              np.sum(np.abs(np.diff(signal.iloc[i,:]))), \n",
    "                              np.mean(np.power(np.diff(signal.iloc[i,:]), 2)),\n",
    "                              np.std(abs(signal.iloc[i,:].values))])\n",
    "        advanced_stats[i, :] = feat_array \n",
    "        \n",
    "        union_smpl_adv = np.concatenate((simple_stats, advanced_stats), axis = 1)\n",
    "\n",
    "    return(union_smpl_adv)\n"
   ]
  },
  {
   "cell_type": "markdown",
   "metadata": {},
   "source": [
    "# Feature Extraction"
   ]
  },
  {
   "cell_type": "code",
   "execution_count": 773,
   "metadata": {},
   "outputs": [
    {
     "data": {
      "application/vnd.jupyter.widget-view+json": {
       "model_id": "fb7f1688101c4d4d8ec34701f32dfe24",
       "version_major": 2,
       "version_minor": 0
      },
      "text/plain": [
       "HBox(children=(IntProgress(value=0, max=21599), HTML(value='')))"
      ]
     },
     "metadata": {},
     "output_type": "display_data"
    },
    {
     "name": "stdout",
     "output_type": "stream",
     "text": [
      "\n"
     ]
    },
    {
     "data": {
      "application/vnd.jupyter.widget-view+json": {
       "model_id": "d729101f72cb41b79882d15d046ecb8f",
       "version_major": 2,
       "version_minor": 0
      },
      "text/plain": [
       "HBox(children=(IntProgress(value=0, max=21599), HTML(value='')))"
      ]
     },
     "metadata": {},
     "output_type": "display_data"
    },
    {
     "name": "stdout",
     "output_type": "stream",
     "text": [
      "\n"
     ]
    },
    {
     "data": {
      "application/vnd.jupyter.widget-view+json": {
       "model_id": "abc0ac7fd5ee40e09c66a979f2b71ccf",
       "version_major": 2,
       "version_minor": 0
      },
      "text/plain": [
       "HBox(children=(IntProgress(value=0, max=21599), HTML(value='')))"
      ]
     },
     "metadata": {},
     "output_type": "display_data"
    },
    {
     "name": "stdout",
     "output_type": "stream",
     "text": [
      "\n",
      "(21599, 19) (21599, 19) [[-1.08082031e-05 -1.00000000e-05  1.03004708e-05 ...  4.16320000e-03\n",
      "   1.64071076e-10  9.52993407e-06]\n",
      " [-1.05593750e-05 -9.50000000e-06  9.00428446e-06 ...  3.68040000e-03\n",
      "   1.29920352e-10  8.58781155e-06]\n",
      " [-9.91113281e-06 -9.20000000e-06  8.31664447e-06 ...  3.34400000e-03\n",
      "   1.01551076e-10  7.46010959e-06]\n",
      " ...\n",
      " [-4.88320313e-06 -4.50000000e-06  5.13549907e-06 ...  2.36480000e-03\n",
      "   4.48091977e-11  4.63503621e-06]\n",
      " [-5.05625000e-06 -4.60000000e-06  4.67491644e-06 ...  2.17370000e-03\n",
      "   3.36606067e-11  4.14632227e-06]\n",
      " [-4.96660156e-06 -4.75000000e-06  4.44436504e-06 ...  2.09590000e-03\n",
      "   3.33125049e-11  3.80641327e-06]]\n",
      "(21599, 51)\n"
     ]
    },
    {
     "data": {
      "application/vnd.jupyter.widget-view+json": {
       "model_id": "a90827a7f8124a148ec7b0cb79a5305e",
       "version_major": 2,
       "version_minor": 0
      },
      "text/plain": [
       "HBox(children=(IntProgress(value=0, max=21599), HTML(value='')))"
      ]
     },
     "metadata": {},
     "output_type": "display_data"
    },
    {
     "name": "stdout",
     "output_type": "stream",
     "text": [
      "\n"
     ]
    },
    {
     "data": {
      "application/vnd.jupyter.widget-view+json": {
       "model_id": "aa2a537b1a134d1b9c00822dbb182b71",
       "version_major": 2,
       "version_minor": 0
      },
      "text/plain": [
       "HBox(children=(IntProgress(value=0, max=21599), HTML(value='')))"
      ]
     },
     "metadata": {},
     "output_type": "display_data"
    },
    {
     "name": "stdout",
     "output_type": "stream",
     "text": [
      "\n"
     ]
    },
    {
     "data": {
      "application/vnd.jupyter.widget-view+json": {
       "model_id": "efa9d4a9a4a04689b956fd0e90ab311d",
       "version_major": 2,
       "version_minor": 0
      },
      "text/plain": [
       "HBox(children=(IntProgress(value=0, max=21599), HTML(value='')))"
      ]
     },
     "metadata": {},
     "output_type": "display_data"
    },
    {
     "name": "stdout",
     "output_type": "stream",
     "text": [
      "\n"
     ]
    }
   ],
   "source": [
    "'''added to conduct some experiments  --- training of 1st subj and testing on 2nd subj'''\n",
    "'''create training data'''\n",
    "\n",
    "subj1_eeg1 = xtrain_eeg1.iloc[0:21599,:]\n",
    "subj1_eeg2 = xtrain_eeg2.iloc[0:21599,:]\n",
    "subj1_emg = xtrain_emg.iloc[0:21599,:]\n",
    "ytrain_subj1 = ytrain.iloc[0:21599,:]\n",
    "\n",
    "xtrain_subj1_eeg_1 = EEG_feature_extraction(subj1_eeg1, 128)  #take the whole xtrain in place of subj1_eeg1\n",
    "xtrain_subj1_eeg_2 = EEG_feature_extraction(subj1_eeg2, 128)\n",
    "xtrain_subj1_emg = EMG_feature_extraction(subj1_emg, 128)\n",
    "xtrain_subj1 = np.concatenate((xtrain_subj1_eeg_1, xtrain_subj1_eeg_2, xtrain_subj1_emg), axis = 1)\n",
    "\n",
    "print(xtrain_subj1_eeg_1.shape, xtrain_subj1_eeg_2.shape, xtrain_subj1_emg)\n",
    "print(xtrain_subj1.shape)\n",
    "\n",
    "'''creating test data'''\n",
    "\n",
    "subj2_eeg1 = xtrain_eeg1.iloc[21600:43199,:]\n",
    "subj2_eeg2 = xtrain_eeg2.iloc[21600:43199,:]\n",
    "subj2_emg = xtrain_emg.iloc[21600:43199,:]\n",
    "ytest_subj2 = ytrain.iloc[21600:43199,:]\n",
    "\n",
    "xtest_subj2_eeg_1 = EEG_feature_extraction(subj2_eeg1, 128)\n",
    "xtest_subj2_eeg_2 = EEG_feature_extraction(subj2_eeg2, 128)\n",
    "xtest_subj2_emg = EMG_feature_extraction(subj2_emg, 128)\n",
    "xtest_subj2 = np.concatenate((xtest_subj2_eeg_1, xtest_subj2_eeg_2, xtest_subj2_emg), axis = 1)"
   ]
  },
  {
   "cell_type": "markdown",
   "metadata": {},
   "source": [
    "# Experiments on Features"
   ]
  },
  {
   "cell_type": "code",
   "execution_count": 774,
   "metadata": {},
   "outputs": [
    {
     "name": "stderr",
     "output_type": "stream",
     "text": [
      "C:\\Users\\Nicolò Grometto\\Anaconda3\\lib\\site-packages\\sklearn\\utils\\validation.py:724: DataConversionWarning: A column-vector y was passed when a 1d array was expected. Please change the shape of y to (n_samples, ), for example using ravel().\n",
      "  y = column_or_1d(y, warn=True)\n"
     ]
    },
    {
     "name": "stdout",
     "output_type": "stream",
     "text": [
      "0.9457852577539478\n"
     ]
    }
   ],
   "source": [
    "from sklearn.svm import SVC\n",
    "from sklearn import preprocessing\n",
    "from sklearn.metrics import balanced_accuracy_score\n",
    "\n",
    "clf = svm.SVC(kernel='rbf', C = 0.3, gamma = 'auto', class_weight = 'balanced')\n",
    "scaler = preprocessing.StandardScaler()\n",
    "\n",
    "xtrain_subj1_rescaled = scaler.fit_transform(xtrain_subj1)\n",
    "xtest_subj2 = scaler.fit_transform(xtest_subj2)\n",
    "\n",
    "clf.fit(xtrain_subj1_rescaled, ytrain_subj1)\n",
    "ypred = clf.predict(xtest_subj2)\n",
    "\n",
    "BMAC = balanced_accuracy_score(ytest_subj2, ypred)\n",
    "\n",
    "print(BMAC)"
   ]
  },
  {
   "cell_type": "markdown",
   "metadata": {},
   "source": [
    "# Experiments for Submission -- main part follows"
   ]
  },
  {
   "cell_type": "code",
   "execution_count": null,
   "metadata": {},
   "outputs": [],
   "source": [
    "'''prepare training data'''\n",
    "\n",
    "xtrain_trial_eeg_1 = EEG_feature_extraction(xtrain_eeg1, 128)  #take the whole xtrain in place of subj1_eeg1\n",
    "xtrain_traial_eeg_2 = EEG_feature_extraction(xtrain_eeg2, 128)\n",
    "xtrain_trial_emg = EMG_feature_extraction(xtrain_emg, 128)\n",
    "xtrain_trial = np.concatenate((xtrain_trial_eeg_1, xtrain_traial_eeg_2, xtrain_trial_emg), axis = 1)\n",
    "\n",
    "'''prepare test data'''\n",
    "\n",
    "xtest_trial_eeg_1 = EEG_feature_extraction(xtest_eeg1, 128)  #take the whole xtrain in place of subj1_eeg1\n",
    "xtest_trial_eeg_2 = EEG_feature_extraction(xtest_eeg2, 128)\n",
    "xtest_trial_emg = EMG_feature_extraction(xtest_emg, 128)\n",
    "xtest_trial = np.concatenate((xtest_trial_eeg_1, xtest_trial_eeg_2, xtest_trial_emg), axis = 1)\n",
    "\n",
    "\n",
    "'''train and predict'''\n",
    "\n",
    "clf = svm.SVC(kernel='rbf', C = 0.3, gamma = 'auto', class_weight = 'balanced')\n",
    "scaler = preprocessing.StandardScaler()\n",
    "\n",
    "xtrain_trial_rescaled = scaler.fit_transform(xtrain_trial)\n",
    "xtest_trial_rescaled = scaler.fit_transform(xtest_trial)\n",
    "\n",
    "clf.fit(xtrain_trial_rescaled, ytrain)\n",
    "ypred = clf.predict(xtest_trial_rescaled)\n",
    "\n",
    "index = pd.read_csv(\"sample.csv\")\n",
    "index['y'] = ypred\n",
    "index.to_csv(\"trail_svc_feature_extraction.csv\")"
   ]
  },
  {
   "cell_type": "markdown",
   "metadata": {},
   "source": [
    "# Model Selection -- Grid Search CV"
   ]
  },
  {
   "cell_type": "code",
   "execution_count": 779,
   "metadata": {
    "scrolled": true
   },
   "outputs": [
    {
     "data": {
      "application/vnd.jupyter.widget-view+json": {
       "model_id": "4bec5d1f40c14405b06957c827033f37",
       "version_major": 2,
       "version_minor": 0
      },
      "text/plain": [
       "HBox(children=(IntProgress(value=0, max=64800), HTML(value='')))"
      ]
     },
     "metadata": {},
     "output_type": "display_data"
    },
    {
     "name": "stdout",
     "output_type": "stream",
     "text": [
      "\n"
     ]
    },
    {
     "data": {
      "application/vnd.jupyter.widget-view+json": {
       "model_id": "e748f1e5af90488c804acf9b7ecd2509",
       "version_major": 2,
       "version_minor": 0
      },
      "text/plain": [
       "HBox(children=(IntProgress(value=0, max=64800), HTML(value='')))"
      ]
     },
     "metadata": {},
     "output_type": "display_data"
    },
    {
     "name": "stdout",
     "output_type": "stream",
     "text": [
      "\n"
     ]
    },
    {
     "data": {
      "application/vnd.jupyter.widget-view+json": {
       "model_id": "08d2b46074bb42f5bca55360a0b830bb",
       "version_major": 2,
       "version_minor": 0
      },
      "text/plain": [
       "HBox(children=(IntProgress(value=0, max=64800), HTML(value='')))"
      ]
     },
     "metadata": {},
     "output_type": "display_data"
    },
    {
     "name": "stdout",
     "output_type": "stream",
     "text": [
      "\n",
      "(64800, 54)\n"
     ]
    }
   ],
   "source": [
    "#############################################################################\n",
    "'''prepare training data'''\n",
    "#############################################################################\n",
    "\n",
    "xtrain_eeg1_processed = EEG_feature_extraction(xtrain_eeg1, 128)\n",
    "xtrain_eeg2_processed = EEG_feature_extraction(xtrain_eeg2, 128)\n",
    "xtrain_emg_processed = EMG_feature_extraction(xtrain_emg, 128)\n",
    "xtrain = np.concatenate((xtrain_eeg1_processed, \n",
    "                         xtrain_eeg2_processed, \n",
    "                         xtrain_emg_processed), \n",
    "                         axis = 1)\n",
    "print(xtrain.shape)\n"
   ]
  },
  {
   "cell_type": "code",
   "execution_count": 781,
   "metadata": {},
   "outputs": [
    {
     "name": "stdout",
     "output_type": "stream",
     "text": [
      "Fitting 3 folds for each of 4 candidates, totalling 12 fits\n"
     ]
    },
    {
     "name": "stderr",
     "output_type": "stream",
     "text": [
      "[Parallel(n_jobs=1)]: Using backend SequentialBackend with 1 concurrent workers.\n",
      "[Parallel(n_jobs=1)]: Done  12 out of  12 | elapsed:  6.8min finished\n"
     ]
    },
    {
     "name": "stdout",
     "output_type": "stream",
     "text": [
      "0.9198817939813404\n",
      "{'classifier__C': 0.1, 'classifier__class_weight': 'balanced', 'classifier__gamma': 'auto', 'classifier__kernel': 'rbf'}\n"
     ]
    }
   ],
   "source": [
    "#############################################################################\n",
    "'''perform grid search'''\n",
    "#############################################################################\n",
    "\n",
    "steps = [(\"scaler\", StandardScaler()), (\"classifier\", SVC())]\n",
    "pipeline = Pipeline(steps = steps)\n",
    "\n",
    "parameters = {\"classifier__kernel\": [\"rbf\"],\n",
    "              \"classifier__gamma\": [\"auto\"],\n",
    "              \"classifier__C\": [0.1, 0.3, 0.5, 0.7],  \n",
    "              \"classifier__class_weight\": [\"balanced\"]\n",
    "             }\n",
    "grid = GridSearchCV(pipeline, parameters, cv = 3, scoring = 'balanced_accuracy', verbose = 1)\n",
    "\n",
    "grid.fit(xtrain, ytrain.values.ravel())\n",
    "print(grid.best_score_)\n",
    "print(grid.best_params_)"
   ]
  },
  {
   "cell_type": "markdown",
   "metadata": {},
   "source": [
    "# Make Submission"
   ]
  },
  {
   "cell_type": "code",
   "execution_count": null,
   "metadata": {},
   "outputs": [
    {
     "data": {
      "application/vnd.jupyter.widget-view+json": {
       "model_id": "6a64752432c346f194e12dd75b9e2607",
       "version_major": 2,
       "version_minor": 0
      },
      "text/plain": [
       "HBox(children=(IntProgress(value=0, max=43200), HTML(value='')))"
      ]
     },
     "metadata": {},
     "output_type": "display_data"
    },
    {
     "name": "stderr",
     "output_type": "stream",
     "text": [
      "C:\\Users\\Nicolò Grometto\\AppData\\Roaming\\Python\\Python37\\site-packages\\pyeeg-0.4.4-py3.7.egg\\pyeeg\\detrended_fluctuation_analysis.py:125: FutureWarning: `rcond` parameter will change to the default of machine precision times ``max(M, N)`` where M and N are the input matrix dimensions.\n",
      "To use the future default and silence this warning we advise to pass `rcond=None`, to keep using the old, explicitly pass `rcond=-1`.\n",
      "  F[i] += numpy.linalg.lstsq(c, y)[1]\n",
      "C:\\Users\\Nicolò Grometto\\AppData\\Roaming\\Python\\Python37\\site-packages\\pyeeg-0.4.4-py3.7.egg\\pyeeg\\detrended_fluctuation_analysis.py:131: FutureWarning: `rcond` parameter will change to the default of machine precision times ``max(M, N)`` where M and N are the input matrix dimensions.\n",
      "To use the future default and silence this warning we advise to pass `rcond=None`, to keep using the old, explicitly pass `rcond=-1`.\n",
      "  ).T, numpy.log(F))[0][0]\n",
      "C:\\Users\\Nicolò Grometto\\AppData\\Roaming\\Python\\Python37\\site-packages\\pyeeg-0.4.4-py3.7.egg\\pyeeg\\fractal_dimension.py:22: FutureWarning: `rcond` parameter will change to the default of machine precision times ``max(M, N)`` where M and N are the input matrix dimensions.\n",
      "To use the future default and silence this warning we advise to pass `rcond=None`, to keep using the old, explicitly pass `rcond=-1`.\n",
      "  (p, _, _, _) = numpy.linalg.lstsq(x, L)\n"
     ]
    }
   ],
   "source": [
    "##############################################################################\n",
    "'''prepare test data'''\n",
    "##############################################################################\n",
    "\n",
    "xtest_eeg1_processed = EEG_feature_extraction(xtest_eeg1, 128)\n",
    "xtest_eeg2_processed = EEG_feature_extraction(xtest_eeg2, 128)\n",
    "xtest_emg_processed = EMG_feature_extraction(xtest_emg, 128)\n",
    "xtest = np.concatenate((xtest_eeg1_processed, \n",
    "                         xtest_eeg2_processed, \n",
    "                         xtest_emg_processed), \n",
    "                         axis = 1)\n",
    "print(xtest.shape)\n",
    "\n",
    "##############################################################################\n",
    "'''train and predict'''\n",
    "##############################################################################\n",
    "\n",
    "clf = svm.SVC(kernel='rbf', C = 0.1, gamma = 'auto', class_weight = 'balanced')\n",
    "scaler = preprocessing.StandardScaler()\n",
    "\n",
    "xtrain_rescaled = scaler.fit_transform(xtrain)\n",
    "xtest_rescaled = scaler.fit_transform(xtest)\n",
    "\n",
    "clf.fit(xtrain_rescaled, ytrain)\n",
    "ypred = clf.predict(xtest_rescaled)\n",
    "\n",
    "index = pd.read_csv(\"sample.csv\")\n",
    "index['y'] = ypred\n",
    "index.to_csv(\"trail_svc_feature_extraction.csv\")"
   ]
  }
 ],
 "metadata": {
  "kernelspec": {
   "display_name": "Python 3",
   "language": "python",
   "name": "python3"
  },
  "language_info": {
   "codemirror_mode": {
    "name": "ipython",
    "version": 3
   },
   "file_extension": ".py",
   "mimetype": "text/x-python",
   "name": "python",
   "nbconvert_exporter": "python",
   "pygments_lexer": "ipython3",
   "version": "3.7.4"
  }
 },
 "nbformat": 4,
 "nbformat_minor": 2
}
