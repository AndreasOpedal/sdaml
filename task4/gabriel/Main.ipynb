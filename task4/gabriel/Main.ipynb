{
 "cells": [
  {
   "cell_type": "markdown",
   "metadata": {},
   "source": [
    "# Objectives:\n",
    "\n",
    "1. Implement data preprocessing to summarize the features in the time series. The features hypothesized to be useful are as follows:\n",
    "    * Band Spectrum Energy (eeg.get_power) (for EEG)\n",
    "    * Fractal Dimension of Time Series (pyEEG)\n",
    "    * Skewness and Kurtosis of the distributions (scipy.stats)\n",
    "    * Regular stats (mean, median, max, min of time series)\n",
    "    \n",
    "2. Models to train:\n",
    "    * Linear Chain Conditional Random Field with structured SVM solver with a 1-slack QP with L1 slack penalty (pystruct)\n",
    "    * A simple SVM like Andreas (sklearn SVC)\n",
    "    * A Hidden Markov model?\n",
    "    \n",
    "3. Cross Validate:\n",
    "    * Build a proper function/system for leave-one-subject-out CV\n",
    "    * Test models and ensembles on it\n"
   ]
  },
  {
   "cell_type": "code",
   "execution_count": 1,
   "metadata": {},
   "outputs": [
    {
     "name": "stderr",
     "output_type": "stream",
     "text": [
      "/anaconda3/lib/python3.6/site-packages/tensorflow/python/framework/dtypes.py:526: FutureWarning: Passing (type, 1) or '1type' as a synonym of type is deprecated; in a future version of numpy, it will be understood as (type, (1,)) / '(1,)type'.\n",
      "  _np_qint8 = np.dtype([(\"qint8\", np.int8, 1)])\n",
      "/anaconda3/lib/python3.6/site-packages/tensorflow/python/framework/dtypes.py:527: FutureWarning: Passing (type, 1) or '1type' as a synonym of type is deprecated; in a future version of numpy, it will be understood as (type, (1,)) / '(1,)type'.\n",
      "  _np_quint8 = np.dtype([(\"quint8\", np.uint8, 1)])\n",
      "/anaconda3/lib/python3.6/site-packages/tensorflow/python/framework/dtypes.py:528: FutureWarning: Passing (type, 1) or '1type' as a synonym of type is deprecated; in a future version of numpy, it will be understood as (type, (1,)) / '(1,)type'.\n",
      "  _np_qint16 = np.dtype([(\"qint16\", np.int16, 1)])\n",
      "/anaconda3/lib/python3.6/site-packages/tensorflow/python/framework/dtypes.py:529: FutureWarning: Passing (type, 1) or '1type' as a synonym of type is deprecated; in a future version of numpy, it will be understood as (type, (1,)) / '(1,)type'.\n",
      "  _np_quint16 = np.dtype([(\"quint16\", np.uint16, 1)])\n",
      "/anaconda3/lib/python3.6/site-packages/tensorflow/python/framework/dtypes.py:530: FutureWarning: Passing (type, 1) or '1type' as a synonym of type is deprecated; in a future version of numpy, it will be understood as (type, (1,)) / '(1,)type'.\n",
      "  _np_qint32 = np.dtype([(\"qint32\", np.int32, 1)])\n",
      "/anaconda3/lib/python3.6/site-packages/tensorflow/python/framework/dtypes.py:535: FutureWarning: Passing (type, 1) or '1type' as a synonym of type is deprecated; in a future version of numpy, it will be understood as (type, (1,)) / '(1,)type'.\n",
      "  np_resource = np.dtype([(\"resource\", np.ubyte, 1)])\n",
      "/anaconda3/lib/python3.6/site-packages/h5py/__init__.py:36: FutureWarning: Conversion of the second argument of issubdtype from `float` to `np.floating` is deprecated. In future, it will be treated as `np.float64 == np.dtype(float).type`.\n",
      "  from ._conv import register_converters as _register_converters\n",
      "/anaconda3/lib/python3.6/site-packages/sklearn/externals/joblib/__init__.py:15: DeprecationWarning: sklearn.externals.joblib is deprecated in 0.21 and will be removed in 0.23. Please import this functionality directly from joblib, which can be installed with: pip install joblib. If this warning is raised when loading pickled models, you may need to re-serialize those models with scikit-learn 0.21+.\n",
      "  warnings.warn(msg, category=DeprecationWarning)\n"
     ]
    }
   ],
   "source": [
    "import importlib\n",
    "import utils\n",
    "importlib.reload(utils)\n",
    "import utils\n",
    "from utils import *"
   ]
  },
  {
   "cell_type": "code",
   "execution_count": 2,
   "metadata": {},
   "outputs": [
    {
     "name": "stdout",
     "output_type": "stream",
     "text": [
      "Loading xtrain...\n",
      "Shapes: (64800, 512) (64800, 512) (64800, 512)\n",
      "Loading ytrain...\n",
      "Shape: (64800, 1)\n",
      "Loading xtest...\n",
      "Shapes: (43200, 512) (43200, 512) (43200, 512)\n"
     ]
    }
   ],
   "source": [
    "xtrain_eeg1, xtrain_eeg2, xtrain_emg, ytrain, xtest_eeg1, xtest_eeg2, xtest_emg = load_data()"
   ]
  },
  {
   "cell_type": "markdown",
   "metadata": {},
   "source": [
    "# Model Implementation: Conditional "
   ]
  },
  {
   "cell_type": "code",
   "execution_count": null,
   "metadata": {},
   "outputs": [],
   "source": [
    "idx = 21600*2\n",
    "xtrain_eeg1_ = xtrain_eeg1[0:idx]\n",
    "xtrain_eeg2_ = xtrain_eeg2[0:idx]\n",
    "xtrain_emg_ = xtrain_emg[0:idx]\n",
    "eeg1_ = process_EEG(xtrain_eeg1_)\n",
    "eeg2_ = process_EEG(xtrain_eeg2_)\n",
    "emg_ = process_EMG(xtrain_emg_)\n",
    "xtrain_ = np.concatenate((eeg1_, eeg2_, emg_), axis=1)\n",
    "# ytrain_classes = ytrain[0:idx]['y']\n",
    "ytrain_classes = ytrain.values[0:idx]\n",
    "ytrain_ = ytrain.values[0:idx]\n",
    "\n",
    "xtest_eeg1_ = xtrain_eeg1[idx:-1]\n",
    "xtest_eeg2_ = xtrain_eeg2[idx:-1]\n",
    "xtest_emg_ = xtrain_emg[idx:-1]\n",
    "eeg1_ = process_EEG(xtest_eeg1_)\n",
    "eeg2_ = process_EEG(xtest_eeg2_)\n",
    "emg_ = process_EEG(xtest_emg_)\n",
    "xtest_ = np.concatenate((eeg1_, eeg2_, emg_), axis=1)\n",
    "ytest_ = ytrain.values[idx:-1]\n",
    "\n",
    "# xtest_eeg1_ = xtrain_eeg1[idx:-1]\n",
    "# xtest_eeg2_ = xtrain_eeg2[idx:-1]\n",
    "# xtest_final = "
   ]
  },
  {
   "cell_type": "code",
   "execution_count": null,
   "metadata": {},
   "outputs": [],
   "source": [
    "# CRF\n",
    "\n",
    "# xtrain_ = np.reshape(xtrain_, (xtrain_.shape[0], 1, xtrain_[0].shape[0])) # Reshape so that it works with CRF\n",
    "xtrain_crf = np.reshape(xtrain_, (2, -1, xtrain_.shape[1])) # Reshape so that it works with CRF\n",
    "ytrain_crf = np.reshape(ytrain_, (2, -1)) -1 # Reshape so that it works with CRF\n",
    "# X_test_crf = X_test.reshape(2, -1, 49)\n",
    "print(xtrain_crf.shape, ytrain_crf.shape)\n",
    "\n",
    "print(\"Starting CRF...\")\n",
    "classes = np.array([1, 2, 3])\n",
    "lmao = np.reshape(ytrain_classes, (-1,))\n",
    "weights_crf = compute_class_weight(\"balanced\", list(classes), list(lmao))\n",
    "weights_crf[0] = weights_crf[0]+2.5\n",
    "weights_crf[1] = weights_crf[1]+1.5\n",
    "    \n",
    "model = ChainCRF(class_weight=weights_crf)\n",
    "ssvm = OneSlackSSVM(model=model, C=0.5, max_iter=2000)\n",
    "    \n",
    "ssvm.fit(xtrain_crf, ytrain_crf)   \n",
    "   \n",
    "\n",
    "# Test on the third guy\n",
    "xtest_crf = np.reshape(xtest_, (1, -1, xtest_.shape[1]))\n",
    "ytest_crf = np.reshape(ytest_, (1, -1)) -1\n",
    "print(xtest_crf.shape, ytest_crf.shape)\n",
    "y_pred_crf = ssvm.predict(xtest_crf)\n",
    "y_pred_crf = np.asarray(y_pred_crf).reshape(-1) + 1  \n",
    "\n",
    "print(\"BMAC:\", sklearn.metrics.balanced_accuracy_score(ytest_, y_pred_crf))\n",
    "\n",
    "\n",
    "# y_pred_filtered_crf = medfilt(y_pred_crf, FILTER_WINDOW)\n",
    "\n",
    "\n",
    "# print(f\"CRF unique predictions {np.unique(y_pred_filtered_crf)}\")\n"
   ]
  },
  {
   "cell_type": "markdown",
   "metadata": {},
   "source": [
    "# CRF Simply run model on CV"
   ]
  },
  {
   "cell_type": "code",
   "execution_count": null,
   "metadata": {},
   "outputs": [],
   "source": [
    "res = losocv_CRF(xtrain_eeg1, xtrain_eeg2, xtrain_emg, ytrain, C=0.1, weight_shift=1, fs=128)\n",
    "print(res)\n",
    "\n",
    "# Dec 18, c=0.1, w = 0, simple EMG feats, 0.94 avg. with weight_shift = 1, the thing actually converges, else it does not. "
   ]
  },
  {
   "cell_type": "markdown",
   "metadata": {},
   "source": [
    "# CRF Submission"
   ]
  },
  {
   "cell_type": "code",
   "execution_count": 8,
   "metadata": {},
   "outputs": [
    {
     "name": "stderr",
     "output_type": "stream",
     "text": [
      "/Users/gabrielarpino/Documents/ETH_Semester_1/Advanced_Machine_Learning/sdaml/task4/gabriel/utils.py:462: FutureWarning: `rcond` parameter will change to the default of machine precision times ``max(M, N)`` where M and N are the input matrix dimensions.\n",
      "To use the future default and silence this warning we advise to pass `rcond=None`, to keep using the old, explicitly pass `rcond=-1`.\n",
      "  (p, _, _, _) = numpy.linalg.lstsq(x, L)\n",
      "/Users/gabrielarpino/Documents/ETH_Semester_1/Advanced_Machine_Learning/sdaml/task4/gabriel/utils.py:145: RuntimeWarning: divide by zero encountered in power\n",
      "  np.sum((np.power(np.abs(signal),(-0.3)) > 20), axis=1),\n"
     ]
    }
   ],
   "source": [
    "pred = CRF_submit(xtrain_eeg1, xtrain_eeg2, xtrain_emg, ytrain, xtest_eeg1, xtest_eeg2, xtest_emg, C=0.1, weight_shift=1, fs=128)\n",
    "make_submission('CRFc0.6w1.csv', pred)\n"
   ]
  },
  {
   "cell_type": "markdown",
   "metadata": {},
   "source": [
    "# CRF Grid Search"
   ]
  },
  {
   "cell_type": "code",
   "execution_count": 5,
   "metadata": {},
   "outputs": [
    {
     "name": "stderr",
     "output_type": "stream",
     "text": [
      "/Users/gabrielarpino/Documents/ETH_Semester_1/Advanced_Machine_Learning/sdaml/task4/gabriel/utils.py:462: FutureWarning: `rcond` parameter will change to the default of machine precision times ``max(M, N)`` where M and N are the input matrix dimensions.\n",
      "To use the future default and silence this warning we advise to pass `rcond=None`, to keep using the old, explicitly pass `rcond=-1`.\n",
      "  (p, _, _, _) = numpy.linalg.lstsq(x, L)\n",
      "/Users/gabrielarpino/Documents/ETH_Semester_1/Advanced_Machine_Learning/sdaml/task4/gabriel/utils.py:145: RuntimeWarning: divide by zero encountered in power\n",
      "  np.sum((np.power(np.abs(signal),(-0.3)) > 20), axis=1),\n"
     ]
    },
    {
     "name": "stdout",
     "output_type": "stream",
     "text": [
      "Iteration, result: 0 0.9272650591985349\n"
     ]
    },
    {
     "ename": "KeyboardInterrupt",
     "evalue": "",
     "output_type": "error",
     "traceback": [
      "\u001b[0;31m---------------------------------------------------------------------------\u001b[0m",
      "\u001b[0;31mKeyboardInterrupt\u001b[0m                         Traceback (most recent call last)",
      "\u001b[0;32m<ipython-input-5-3c8f6ea6323f>\u001b[0m in \u001b[0;36m<module>\u001b[0;34m()\u001b[0m\n\u001b[1;32m      3\u001b[0m \u001b[0mtotal_res\u001b[0m \u001b[0;34m=\u001b[0m \u001b[0;34m[\u001b[0m\u001b[0;34m]\u001b[0m\u001b[0;34m\u001b[0m\u001b[0m\n\u001b[1;32m      4\u001b[0m \u001b[0;32mfor\u001b[0m \u001b[0mc\u001b[0m\u001b[0;34m,\u001b[0m \u001b[0mw\u001b[0m \u001b[0;32min\u001b[0m \u001b[0mitertools\u001b[0m\u001b[0;34m.\u001b[0m\u001b[0mproduct\u001b[0m\u001b[0;34m(\u001b[0m\u001b[0mCs\u001b[0m\u001b[0;34m,\u001b[0m \u001b[0mweight_shifts\u001b[0m\u001b[0;34m)\u001b[0m\u001b[0;34m:\u001b[0m\u001b[0;34m\u001b[0m\u001b[0m\n\u001b[0;32m----> 5\u001b[0;31m     \u001b[0mres\u001b[0m \u001b[0;34m=\u001b[0m \u001b[0mlosocv_CRF\u001b[0m\u001b[0;34m(\u001b[0m\u001b[0mxtrain_eeg1\u001b[0m\u001b[0;34m,\u001b[0m \u001b[0mxtrain_eeg2\u001b[0m\u001b[0;34m,\u001b[0m \u001b[0mxtrain_emg\u001b[0m\u001b[0;34m,\u001b[0m \u001b[0mytrain\u001b[0m\u001b[0;34m,\u001b[0m \u001b[0mC\u001b[0m\u001b[0;34m=\u001b[0m\u001b[0mc\u001b[0m\u001b[0;34m,\u001b[0m \u001b[0mweight_shift\u001b[0m\u001b[0;34m=\u001b[0m\u001b[0mw\u001b[0m\u001b[0;34m,\u001b[0m \u001b[0mfs\u001b[0m\u001b[0;34m=\u001b[0m\u001b[0;36m128\u001b[0m\u001b[0;34m)\u001b[0m\u001b[0;34m\u001b[0m\u001b[0m\n\u001b[0m\u001b[1;32m      6\u001b[0m     \u001b[0mtotal_res\u001b[0m\u001b[0;34m.\u001b[0m\u001b[0mappend\u001b[0m\u001b[0;34m(\u001b[0m\u001b[0mres\u001b[0m\u001b[0;34m)\u001b[0m\u001b[0;34m\u001b[0m\u001b[0m\n\u001b[1;32m      7\u001b[0m     \u001b[0mprint\u001b[0m\u001b[0;34m(\u001b[0m\u001b[0;34m\"C:\"\u001b[0m\u001b[0;34m,\u001b[0m \u001b[0mc\u001b[0m\u001b[0;34m,\u001b[0m \u001b[0;34m\", w:\"\u001b[0m\u001b[0;34m,\u001b[0m \u001b[0mw\u001b[0m\u001b[0;34m,\u001b[0m \u001b[0;34m\", BMAC (Mean, Std, full):\"\u001b[0m\u001b[0;34m,\u001b[0m \u001b[0;34m(\u001b[0m\u001b[0mnp\u001b[0m\u001b[0;34m.\u001b[0m\u001b[0mmean\u001b[0m\u001b[0;34m(\u001b[0m\u001b[0mres\u001b[0m\u001b[0;34m)\u001b[0m\u001b[0;34m,\u001b[0m \u001b[0mnp\u001b[0m\u001b[0;34m.\u001b[0m\u001b[0mstd\u001b[0m\u001b[0;34m(\u001b[0m\u001b[0mres\u001b[0m\u001b[0;34m)\u001b[0m\u001b[0;34m,\u001b[0m \u001b[0mres\u001b[0m\u001b[0;34m)\u001b[0m\u001b[0;34m)\u001b[0m\u001b[0;34m\u001b[0m\u001b[0m\n",
      "\u001b[0;32m~/Documents/ETH_Semester_1/Advanced_Machine_Learning/sdaml/task4/gabriel/utils.py\u001b[0m in \u001b[0;36mlosocv_CRF\u001b[0;34m(eeg1, eeg2, emg, y, C, weight_shift, fs)\u001b[0m\n\u001b[1;32m    352\u001b[0m         \u001b[0;31m# CRF Model Preprocessing\u001b[0m\u001b[0;34m\u001b[0m\u001b[0;34m\u001b[0m\u001b[0m\n\u001b[1;32m    353\u001b[0m         \u001b[0meeg1_\u001b[0m \u001b[0;34m=\u001b[0m \u001b[0mprocess_EEG\u001b[0m\u001b[0;34m(\u001b[0m\u001b[0meeg1_train\u001b[0m\u001b[0;34m)\u001b[0m\u001b[0;34m\u001b[0m\u001b[0m\n\u001b[0;32m--> 354\u001b[0;31m         \u001b[0meeg2_\u001b[0m \u001b[0;34m=\u001b[0m \u001b[0mprocess_EEG\u001b[0m\u001b[0;34m(\u001b[0m\u001b[0meeg2_train\u001b[0m\u001b[0;34m)\u001b[0m\u001b[0;34m\u001b[0m\u001b[0m\n\u001b[0m\u001b[1;32m    355\u001b[0m         \u001b[0memg_\u001b[0m \u001b[0;34m=\u001b[0m \u001b[0mprocess_EMG\u001b[0m\u001b[0;34m(\u001b[0m\u001b[0memg_train\u001b[0m\u001b[0;34m)\u001b[0m\u001b[0;34m\u001b[0m\u001b[0m\n\u001b[1;32m    356\u001b[0m         \u001b[0mxtrain_\u001b[0m \u001b[0;34m=\u001b[0m \u001b[0mnp\u001b[0m\u001b[0;34m.\u001b[0m\u001b[0mconcatenate\u001b[0m\u001b[0;34m(\u001b[0m\u001b[0;34m(\u001b[0m\u001b[0meeg1_\u001b[0m\u001b[0;34m,\u001b[0m \u001b[0meeg2_\u001b[0m\u001b[0;34m,\u001b[0m \u001b[0memg_\u001b[0m\u001b[0;34m)\u001b[0m\u001b[0;34m,\u001b[0m \u001b[0maxis\u001b[0m\u001b[0;34m=\u001b[0m\u001b[0;36m1\u001b[0m\u001b[0;34m)\u001b[0m\u001b[0;34m\u001b[0m\u001b[0m\n",
      "\u001b[0;32m~/Documents/ETH_Semester_1/Advanced_Machine_Learning/sdaml/task4/gabriel/utils.py\u001b[0m in \u001b[0;36mprocess_EEG\u001b[0;34m(eeg_sig, fs)\u001b[0m\n\u001b[1;32m    279\u001b[0m     \u001b[0mpower_feats\u001b[0m \u001b[0;34m=\u001b[0m \u001b[0mandreas_power_features\u001b[0m\u001b[0;34m(\u001b[0m\u001b[0meeg_sig\u001b[0m\u001b[0;34m,\u001b[0m \u001b[0mfs\u001b[0m\u001b[0;34m=\u001b[0m\u001b[0mfs\u001b[0m\u001b[0;34m)\u001b[0m\u001b[0;34m\u001b[0m\u001b[0m\n\u001b[1;32m    280\u001b[0m     \u001b[0;31m# power_stats = power_statistics(eeg_sig, fs=fs)\u001b[0m\u001b[0;34m\u001b[0m\u001b[0;34m\u001b[0m\u001b[0m\n\u001b[0;32m--> 281\u001b[0;31m     \u001b[0madvanced_feats\u001b[0m \u001b[0;34m=\u001b[0m \u001b[0mvectorized_adv_stat\u001b[0m\u001b[0;34m(\u001b[0m\u001b[0meeg_sig\u001b[0m\u001b[0;34m,\u001b[0m \u001b[0mfs\u001b[0m\u001b[0;34m=\u001b[0m\u001b[0mfs\u001b[0m\u001b[0;34m)\u001b[0m\u001b[0;34m\u001b[0m\u001b[0m\n\u001b[0m\u001b[1;32m    282\u001b[0m     \u001b[0;32mreturn\u001b[0m \u001b[0mnp\u001b[0m\u001b[0;34m.\u001b[0m\u001b[0mconcatenate\u001b[0m\u001b[0;34m(\u001b[0m\u001b[0;34m(\u001b[0m\u001b[0msimple_stats\u001b[0m\u001b[0;34m,\u001b[0m \u001b[0mpower_feats\u001b[0m\u001b[0;34m,\u001b[0m \u001b[0madvanced_feats\u001b[0m\u001b[0;34m)\u001b[0m\u001b[0;34m,\u001b[0m \u001b[0maxis\u001b[0m\u001b[0;34m=\u001b[0m\u001b[0;36m1\u001b[0m\u001b[0;34m)\u001b[0m\u001b[0;34m\u001b[0m\u001b[0m\n\u001b[1;32m    283\u001b[0m \u001b[0;34m\u001b[0m\u001b[0m\n",
      "\u001b[0;32m/anaconda3/lib/python3.6/site-packages/multipledispatch/dispatcher.py\u001b[0m in \u001b[0;36m__call__\u001b[0;34m(self, *args, **kwargs)\u001b[0m\n\u001b[1;32m    162\u001b[0m             \u001b[0mself\u001b[0m\u001b[0;34m.\u001b[0m\u001b[0m_cache\u001b[0m\u001b[0;34m[\u001b[0m\u001b[0mtypes\u001b[0m\u001b[0;34m]\u001b[0m \u001b[0;34m=\u001b[0m \u001b[0mfunc\u001b[0m\u001b[0;34m\u001b[0m\u001b[0m\n\u001b[1;32m    163\u001b[0m         \u001b[0;32mtry\u001b[0m\u001b[0;34m:\u001b[0m\u001b[0;34m\u001b[0m\u001b[0m\n\u001b[0;32m--> 164\u001b[0;31m             \u001b[0;32mreturn\u001b[0m \u001b[0mfunc\u001b[0m\u001b[0;34m(\u001b[0m\u001b[0;34m*\u001b[0m\u001b[0margs\u001b[0m\u001b[0;34m,\u001b[0m \u001b[0;34m**\u001b[0m\u001b[0mkwargs\u001b[0m\u001b[0;34m)\u001b[0m\u001b[0;34m\u001b[0m\u001b[0m\n\u001b[0m\u001b[1;32m    165\u001b[0m \u001b[0;34m\u001b[0m\u001b[0m\n\u001b[1;32m    166\u001b[0m         \u001b[0;32mexcept\u001b[0m \u001b[0mMDNotImplementedError\u001b[0m\u001b[0;34m:\u001b[0m\u001b[0;34m\u001b[0m\u001b[0m\n",
      "\u001b[0;32m~/Documents/ETH_Semester_1/Advanced_Machine_Learning/sdaml/task4/gabriel/utils.py\u001b[0m in \u001b[0;36mvectorized_adv_stat\u001b[0;34m(signal, fs)\u001b[0m\n\u001b[1;32m    151\u001b[0m                            \u001b[0mnp\u001b[0m\u001b[0;34m.\u001b[0m\u001b[0msum\u001b[0m\u001b[0;34m(\u001b[0m\u001b[0mnp\u001b[0m\u001b[0;34m.\u001b[0m\u001b[0mpower\u001b[0m\u001b[0;34m(\u001b[0m\u001b[0msignal\u001b[0m\u001b[0;34m,\u001b[0m \u001b[0;36m2\u001b[0m\u001b[0;34m)\u001b[0m\u001b[0;34m,\u001b[0m \u001b[0maxis\u001b[0m\u001b[0;34m=\u001b[0m\u001b[0;36m1\u001b[0m\u001b[0;34m)\u001b[0m\u001b[0;34m\u001b[0m\u001b[0m\n\u001b[1;32m    152\u001b[0m                            ]).T\n\u001b[0;32m--> 153\u001b[0;31m     \u001b[0mfeat_array\u001b[0m \u001b[0;34m=\u001b[0m \u001b[0mnp\u001b[0m\u001b[0;34m.\u001b[0m\u001b[0mconcatenate\u001b[0m\u001b[0;34m(\u001b[0m\u001b[0;34m(\u001b[0m\u001b[0mfeat_array\u001b[0m\u001b[0;34m,\u001b[0m \u001b[0mmatrix_dfa\u001b[0m\u001b[0;34m(\u001b[0m\u001b[0msignal\u001b[0m\u001b[0;34m)\u001b[0m\u001b[0;34m)\u001b[0m\u001b[0;34m,\u001b[0m \u001b[0maxis\u001b[0m\u001b[0;34m=\u001b[0m\u001b[0;36m1\u001b[0m\u001b[0;34m)\u001b[0m \u001b[0;31m# Concatenate the lengthy dfa calculatoin\u001b[0m\u001b[0;34m\u001b[0m\u001b[0m\n\u001b[0m\u001b[1;32m    154\u001b[0m     \u001b[0;32mreturn\u001b[0m \u001b[0mfeat_array\u001b[0m\u001b[0;34m\u001b[0m\u001b[0m\n\u001b[1;32m    155\u001b[0m \u001b[0;34m\u001b[0m\u001b[0m\n",
      "\u001b[0;31mKeyboardInterrupt\u001b[0m: "
     ]
    }
   ],
   "source": [
    "Cs = [0.5, 0.55, 0.58, 0.6, 0.62, 0.64, 0.68, 0.7, 0.75]\n",
    "weight_shifts = [1]\n",
    "total_res = []\n",
    "for c, w in itertools.product(Cs, weight_shifts):\n",
    "    res = losocv_CRF(xtrain_eeg1, xtrain_eeg2, xtrain_emg, ytrain, C=c, weight_shift=w, fs=128)\n",
    "    total_res.append(res)\n",
    "    print(\"C:\", c, \", w:\", w, \", BMAC (Mean, Std, full):\", (np.mean(res), np.std(res), res))        \n",
    "    print(\"********************************\")\n",
    "\n",
    "# Res December 14th, Cs and weight shift, EEG and EMG running process_EMG .\n",
    "# C: 0.1 , w: 0 , BMAC (Mean, Std): (0.915638922375751, 0.05039793710589233)\n",
    "\n",
    "# Dec 18\n",
    "# C: 0.1 , w: 0 , BMAC (Mean, Std, full): (0.8105643639593416, 0.1823532025093181, [0.9057309406411344, 0.9705540211342516, 0.5554081301026389])\n",
    "# C: 0.2 , w: 0 , BMAC (Mean, Std, full): (0.8320971763898081, 0.15734031410977364, [0.9146093715452001, 0.9698041054523155, 0.6118780521719084])\n",
    "\n",
    "# Dec 18 grid search with EMG running process_EEG\n",
    "# Iteration, result: 0 0.9079745357325523\n",
    "# Iteration, result: 1 0.9466763536193374\n",
    "# Iteration, result: 2 0.948981772088117\n",
    "# C: 0.05 , w: 1 , BMAC (Mean, Std, full): (0.9345442204800022, 0.018811164225236095, [0.9079745357325523, 0.9466763536193374, 0.948981772088117])\n",
    "# ********************************\n",
    "# Iteration, result: 0 0.9173226358874063\n",
    "# Iteration, result: 1 0.9547583809426654\n",
    "# Iteration, result: 2 0.9575831838587567\n",
    "# C: 0.1 , w: 1 , BMAC (Mean, Std, full): (0.9432214002296094, 0.018349466363147493, [0.9173226358874063, 0.9547583809426654, 0.9575831838587567])\n",
    "# ********************************\n",
    "# Iteration, result: 0 0.9218756442880339\n",
    "# Iteration, result: 1 0.9563778895201546\n",
    "# Iteration, result: 2 0.9601677342906215\n",
    "# C: 0.15 , w: 1 , BMAC (Mean, Std, full): (0.9461404226996034, 0.01722740712484969, [0.9218756442880339, 0.9563778895201546, 0.9601677342906215])\n",
    "# ********************************\n",
    "# Iteration, result: 0 0.9239779019222256\n",
    "# Iteration, result: 1 0.9629387386786116\n",
    "# Iteration, result: 2 0.9592762662759097\n",
    "# C: 0.2 , w: 1 , BMAC (Mean, Std, full): (0.9487309689589156, 0.017566809078814704, [0.9239779019222256, 0.9629387386786116, 0.9592762662759097])\n",
    "# ********************************\n",
    "# Iteration, result: 0 0.9251862473404887\n",
    "# Iteration, result: 1 0.9639795723967083\n",
    "# Iteration, result: 2 0.9607644254552966\n",
    "# C: 0.25 , w: 1 , BMAC (Mean, Std, full): (0.9499767483974978, 0.017578604409089597, [0.9251862473404887, 0.9639795723967083, 0.9607644254552966])\n",
    "# ********************************\n",
    "# Iteration, result: 0 0.9265861484008573\n",
    "# Iteration, result: 1 0.9637316211236263\n",
    "# Iteration, result: 2 0.960730526001078\n",
    "# C: 0.3 , w: 1 , BMAC (Mean, Std, full): (0.9503494318418539, 0.016847786657926366, [0.9265861484008573, 0.9637316211236263, 0.960730526001078])\n",
    "# ********************************\n",
    "# Iteration, result: 0 0.926784099672131\n",
    "# Iteration, result: 1 0.963657873189657\n",
    "# Iteration, result: 2 0.9605292556024607\n",
    "# C: 0.4 , w: 1 , BMAC (Mean, Std, full): (0.9503237428214163, 0.016693974196268068, [0.926784099672131, 0.963657873189657, 0.9605292556024607])\n",
    "# ********************************\n",
    "# Iteration, result: 0 0.92784839763847\n",
    "# Iteration, result: 1 0.9655970286576371\n",
    "# Iteration, result: 2 0.9612160364123156\n",
    "# C: 0.6 , w: 1 , BMAC (Mean, Std, full): (0.9515538209028076, 0.016857413648390978, [0.92784839763847, 0.9655970286576371, 0.9612160364123156])\n",
    "# ********************************\n",
    "# Iteration, result: 0 0.9265366010353305\n",
    "# Iteration, result: 1 0.9656693419824388\n",
    "# Iteration, result: 2 0.9605270519131293\n",
    "# C: 0.8 , w: 1 , BMAC (Mean, Std, full): (0.9509109983102996, 0.017362684482873845, [0.9265366010353305, 0.9656693419824388, 0.9605270519131293])\n",
    "# ********************************\n",
    "# Iteration, result: 0 0.9241461733266849\n",
    "# Iteration, result: 1 0.9666668316689847\n",
    "# Iteration, result: 2 0.9609692320544577\n",
    "# C: 1.0 , w: 1 , BMAC (Mean, Std, full): (0.9505940790167092, 0.018845590941175522, [0.9241461733266849, 0.9666668316689847, 0.9609692320544577])\n",
    "# ********************************\n",
    "# Iteration, result: 0 0.9224415449966106\n",
    "# Iteration, result: 1 0.9668854781229045\n",
    "# Iteration, result: 2 0.9561918352434254\n",
    "# C: 2.0 , w: 1 , BMAC (Mean, Std, full): (0.9485062861209802, 0.0189405481602964, [0.9224415449966106, 0.9668854781229045, 0.9561918352434254])\n",
    "# ********************************\n",
    "# Iteration, result: 0 0.9180049502109369\n",
    "# Iteration, result: 1 0.9661411949814905\n",
    "# Iteration, result: 2 0.9473559863169196\n",
    "# C: 5.0 , w: 1 , BMAC (Mean, Std, full): (0.943834043836449, 0.019808711455307933, [0.9180049502109369, 0.9661411949814905, 0.9473559863169196])\n",
    "# ********************************\n",
    "# Iteration, result: 0 0.9163655769033707\n",
    "# Iteration, result: 1 0.9684931245342258\n",
    "# Iteration, result: 2 0.940308265070561\n",
    "# C: 8.0 , w: 1 , BMAC (Mean, Std, full): (0.9417223221693858, 0.021304459214146036, [0.9163655769033707, 0.9684931245342258, 0.940308265070561])\n",
    "# ********************************"
   ]
  },
  {
   "cell_type": "code",
   "execution_count": null,
   "metadata": {},
   "outputs": [],
   "source": []
  }
 ],
 "metadata": {
  "kernelspec": {
   "display_name": "Python 3",
   "language": "python",
   "name": "python3"
  },
  "language_info": {
   "codemirror_mode": {
    "name": "ipython",
    "version": 3
   },
   "file_extension": ".py",
   "mimetype": "text/x-python",
   "name": "python",
   "nbconvert_exporter": "python",
   "pygments_lexer": "ipython3",
   "version": "3.6.4"
  }
 },
 "nbformat": 4,
 "nbformat_minor": 2
}
