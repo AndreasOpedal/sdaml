{
 "cells": [
  {
   "cell_type": "markdown",
   "metadata": {},
   "source": [
    "# Objectives:\n",
    "\n",
    "1. Implement data preprocessing to summarize the features in the time series. The features hypothesized to be useful are as follows:\n",
    "    * Band Spectrum Energy (eeg.get_power) (for EEG)\n",
    "    * Fractal Dimension of Time Series (pyEEG)\n",
    "    * Skewness and Kurtosis of the distributions (scipy.stats)\n",
    "    * Regular stats (mean, median, max, min of time series)\n",
    "    \n",
    "2. Models to train:\n",
    "    * Linear Chain Conditional Random Field with structured SVM solver with a 1-slack QP with L1 slack penalty (pystruct)\n",
    "    * A simple SVM like Andreas (sklearn SVC)\n",
    "    * A Hidden Markov model?\n",
    "    \n",
    "3. Cross Validate:\n",
    "    * Build a proper function/system for leave-one-subject-out CV\n",
    "    * Test models and ensembles on it\n"
   ]
  },
  {
   "cell_type": "code",
   "execution_count": 19,
   "metadata": {},
   "outputs": [],
   "source": [
    "import importlib\n",
    "import utils\n",
    "importlib.reload(utils)\n",
    "import utils\n",
    "from utils import *"
   ]
  },
  {
   "cell_type": "code",
   "execution_count": 2,
   "metadata": {},
   "outputs": [
    {
     "name": "stdout",
     "output_type": "stream",
     "text": [
      "Loading xtrain...\n",
      "Shapes: (64800, 512) (64800, 512) (64800, 512)\n",
      "Loading ytrain...\n",
      "Shape: (64800, 1)\n",
      "Loading xtest...\n",
      "Shapes: (43200, 512) (43200, 512) (43200, 512)\n"
     ]
    }
   ],
   "source": [
    "xtrain_eeg1, xtrain_eeg2, xtrain_emg, ytrain, xtest_eeg1, xtest_eeg2, xtest_emg = load_data()"
   ]
  },
  {
   "cell_type": "markdown",
   "metadata": {},
   "source": [
    "# Model Implementation: Conditional "
   ]
  },
  {
   "cell_type": "code",
   "execution_count": null,
   "metadata": {},
   "outputs": [],
   "source": [
    "idx = 21600*2\n",
    "xtrain_eeg1_ = xtrain_eeg1[0:idx]\n",
    "xtrain_eeg2_ = xtrain_eeg2[0:idx]\n",
    "xtrain_emg_ = xtrain_emg[0:idx]\n",
    "eeg1_ = process_EEG(xtrain_eeg1_)\n",
    "eeg2_ = process_EEG(xtrain_eeg2_)\n",
    "emg_ = process_EMG(xtrain_emg_)\n",
    "xtrain_ = np.concatenate((eeg1_, eeg2_, emg_), axis=1)\n",
    "# ytrain_classes = ytrain[0:idx]['y']\n",
    "ytrain_classes = ytrain.values[0:idx]\n",
    "ytrain_ = ytrain.values[0:idx]\n",
    "\n",
    "xtest_eeg1_ = xtrain_eeg1[idx:-1]\n",
    "xtest_eeg2_ = xtrain_eeg2[idx:-1]\n",
    "xtest_emg_ = xtrain_emg[idx:-1]\n",
    "eeg1_ = process_EEG(xtest_eeg1_)\n",
    "eeg2_ = process_EEG(xtest_eeg2_)\n",
    "emg_ = process_EEG(xtest_emg_)\n",
    "xtest_ = np.concatenate((eeg1_, eeg2_, emg_), axis=1)\n",
    "ytest_ = ytrain.values[idx:-1]\n",
    "\n",
    "# xtest_eeg1_ = xtrain_eeg1[idx:-1]\n",
    "# xtest_eeg2_ = xtrain_eeg2[idx:-1]\n",
    "# xtest_final = "
   ]
  },
  {
   "cell_type": "code",
   "execution_count": null,
   "metadata": {},
   "outputs": [],
   "source": [
    "# CRF\n",
    "\n",
    "# xtrain_ = np.reshape(xtrain_, (xtrain_.shape[0], 1, xtrain_[0].shape[0])) # Reshape so that it works with CRF\n",
    "xtrain_crf = np.reshape(xtrain_, (2, -1, xtrain_.shape[1])) # Reshape so that it works with CRF\n",
    "ytrain_crf = np.reshape(ytrain_, (2, -1)) -1 # Reshape so that it works with CRF\n",
    "# X_test_crf = X_test.reshape(2, -1, 49)\n",
    "print(xtrain_crf.shape, ytrain_crf.shape)\n",
    "\n",
    "print(\"Starting CRF...\")\n",
    "classes = np.array([1, 2, 3])\n",
    "lmao = np.reshape(ytrain_classes, (-1,))\n",
    "weights_crf = compute_class_weight(\"balanced\", list(classes), list(lmao))\n",
    "weights_crf[0] = weights_crf[0]+2.5\n",
    "weights_crf[1] = weights_crf[1]+1.5\n",
    "    \n",
    "model = ChainCRF(class_weight=weights_crf)\n",
    "ssvm = OneSlackSSVM(model=model, C=0.5, max_iter=2000)\n",
    "    \n",
    "ssvm.fit(xtrain_crf, ytrain_crf)   \n",
    "   \n",
    "\n",
    "# Test on the third guy\n",
    "xtest_crf = np.reshape(xtest_, (1, -1, xtest_.shape[1]))\n",
    "ytest_crf = np.reshape(ytest_, (1, -1)) -1\n",
    "print(xtest_crf.shape, ytest_crf.shape)\n",
    "y_pred_crf = ssvm.predict(xtest_crf)\n",
    "y_pred_crf = np.asarray(y_pred_crf).reshape(-1) + 1  \n",
    "\n",
    "print(\"BMAC:\", sklearn.metrics.balanced_accuracy_score(ytest_, y_pred_crf))\n",
    "\n",
    "\n",
    "# y_pred_filtered_crf = medfilt(y_pred_crf, FILTER_WINDOW)\n",
    "\n",
    "\n",
    "# print(f\"CRF unique predictions {np.unique(y_pred_filtered_crf)}\")\n"
   ]
  },
  {
   "cell_type": "markdown",
   "metadata": {},
   "source": [
    "# CRF Simply run model on CV"
   ]
  },
  {
   "cell_type": "code",
   "execution_count": 20,
   "metadata": {},
   "outputs": [
    {
     "name": "stderr",
     "output_type": "stream",
     "text": [
      "100%|██████████| 43200/43200 [02:14<00:00, 321.92it/s]\n",
      "/Users/gabrielarpino/Documents/ETH_Semester_1/Advanced_Machine_Learning/sdaml/task4/gabriel/utils.py:462: FutureWarning: `rcond` parameter will change to the default of machine precision times ``max(M, N)`` where M and N are the input matrix dimensions.\n",
      "To use the future default and silence this warning we advise to pass `rcond=None`, to keep using the old, explicitly pass `rcond=-1`.\n",
      "  (p, _, _, _) = numpy.linalg.lstsq(x, L)\n",
      "/Users/gabrielarpino/Documents/ETH_Semester_1/Advanced_Machine_Learning/sdaml/task4/gabriel/utils.py:145: RuntimeWarning: divide by zero encountered in power\n",
      "  np.sum((np.power(np.abs(signal),(-0.3)) > 20), axis=1),\n",
      "100%|██████████| 43200/43200 [02:33<00:00, 281.98it/s]\n",
      "/Users/gabrielarpino/Documents/ETH_Semester_1/Advanced_Machine_Learning/sdaml/task4/gabriel/utils.py:462: FutureWarning: `rcond` parameter will change to the default of machine precision times ``max(M, N)`` where M and N are the input matrix dimensions.\n",
      "To use the future default and silence this warning we advise to pass `rcond=None`, to keep using the old, explicitly pass `rcond=-1`.\n",
      "  (p, _, _, _) = numpy.linalg.lstsq(x, L)\n",
      "/Users/gabrielarpino/Documents/ETH_Semester_1/Advanced_Machine_Learning/sdaml/task4/gabriel/utils.py:145: RuntimeWarning: divide by zero encountered in power\n",
      "  np.sum((np.power(np.abs(signal),(-0.3)) > 20), axis=1),\n",
      "100%|██████████| 21600/21600 [01:07<00:00, 320.22it/s]\n",
      "100%|██████████| 21600/21600 [01:07<00:00, 320.04it/s]\n"
     ]
    },
    {
     "name": "stdout",
     "output_type": "stream",
     "text": [
      "Iteration, result: 0 0.9178140759811356\n"
     ]
    },
    {
     "name": "stderr",
     "output_type": "stream",
     "text": [
      "100%|██████████| 43200/43200 [02:13<00:00, 322.92it/s]\n",
      "100%|██████████| 43200/43200 [02:16<00:00, 315.72it/s]\n",
      "100%|██████████| 21600/21600 [01:08<00:00, 317.05it/s]\n",
      "100%|██████████| 21600/21600 [01:09<00:00, 312.13it/s]\n"
     ]
    },
    {
     "name": "stdout",
     "output_type": "stream",
     "text": [
      "Iteration, result: 1 0.9569948518354073\n"
     ]
    },
    {
     "name": "stderr",
     "output_type": "stream",
     "text": [
      " 74%|███████▍  | 31999/43200 [01:41<00:32, 345.57it/s]"
     ]
    },
    {
     "ename": "KeyboardInterrupt",
     "evalue": "",
     "output_type": "error",
     "traceback": [
      "\u001b[0;31m---------------------------------------------------------------------------\u001b[0m",
      "\u001b[0;31mKeyboardInterrupt\u001b[0m                         Traceback (most recent call last)",
      "\u001b[0;32m<ipython-input-20-e0d33b91b6c1>\u001b[0m in \u001b[0;36m<module>\u001b[0;34m()\u001b[0m\n\u001b[0;32m----> 1\u001b[0;31m \u001b[0mres\u001b[0m \u001b[0;34m=\u001b[0m \u001b[0mlosocv_CRF\u001b[0m\u001b[0;34m(\u001b[0m\u001b[0mxtrain_eeg1\u001b[0m\u001b[0;34m,\u001b[0m \u001b[0mxtrain_eeg2\u001b[0m\u001b[0;34m,\u001b[0m \u001b[0mxtrain_emg\u001b[0m\u001b[0;34m,\u001b[0m \u001b[0mytrain\u001b[0m\u001b[0;34m,\u001b[0m \u001b[0mC\u001b[0m\u001b[0;34m=\u001b[0m\u001b[0;36m0.1\u001b[0m\u001b[0;34m,\u001b[0m \u001b[0mweight_shift\u001b[0m\u001b[0;34m=\u001b[0m\u001b[0;36m1\u001b[0m\u001b[0;34m,\u001b[0m \u001b[0mfs\u001b[0m\u001b[0;34m=\u001b[0m\u001b[0;36m128\u001b[0m\u001b[0;34m)\u001b[0m\u001b[0;34m\u001b[0m\u001b[0m\n\u001b[0m\u001b[1;32m      2\u001b[0m \u001b[0mprint\u001b[0m\u001b[0;34m(\u001b[0m\u001b[0mres\u001b[0m\u001b[0;34m)\u001b[0m\u001b[0;34m\u001b[0m\u001b[0m\n\u001b[1;32m      3\u001b[0m \u001b[0;34m\u001b[0m\u001b[0m\n\u001b[1;32m      4\u001b[0m \u001b[0;31m# Dec 18, c=0.1, w = 0, simple EMG feats, 0.94 avg. with weight_shift = 1, the thing actually converges, else it does not.\u001b[0m\u001b[0;34m\u001b[0m\u001b[0;34m\u001b[0m\u001b[0m\n",
      "\u001b[0;32m~/Documents/ETH_Semester_1/Advanced_Machine_Learning/sdaml/task4/gabriel/utils.py\u001b[0m in \u001b[0;36mlosocv_CRF\u001b[0;34m(eeg1, eeg2, emg, y, C, weight_shift, fs)\u001b[0m\n\u001b[1;32m    351\u001b[0m \u001b[0;34m\u001b[0m\u001b[0m\n\u001b[1;32m    352\u001b[0m         \u001b[0;31m# CRF Model Preprocessing\u001b[0m\u001b[0;34m\u001b[0m\u001b[0;34m\u001b[0m\u001b[0m\n\u001b[0;32m--> 353\u001b[0;31m         \u001b[0meeg1_\u001b[0m \u001b[0;34m=\u001b[0m \u001b[0mprocess_EEG\u001b[0m\u001b[0;34m(\u001b[0m\u001b[0meeg1_train\u001b[0m\u001b[0;34m)\u001b[0m\u001b[0;34m\u001b[0m\u001b[0m\n\u001b[0m\u001b[1;32m    354\u001b[0m         \u001b[0meeg2_\u001b[0m \u001b[0;34m=\u001b[0m \u001b[0mprocess_EEG\u001b[0m\u001b[0;34m(\u001b[0m\u001b[0meeg2_train\u001b[0m\u001b[0;34m)\u001b[0m\u001b[0;34m\u001b[0m\u001b[0m\n\u001b[1;32m    355\u001b[0m         \u001b[0memg_\u001b[0m \u001b[0;34m=\u001b[0m \u001b[0mprocess_EMG\u001b[0m\u001b[0;34m(\u001b[0m\u001b[0memg_train\u001b[0m\u001b[0;34m)\u001b[0m\u001b[0;34m\u001b[0m\u001b[0m\n",
      "\u001b[0;32m~/Documents/ETH_Semester_1/Advanced_Machine_Learning/sdaml/task4/gabriel/utils.py\u001b[0m in \u001b[0;36mprocess_EEG\u001b[0;34m(eeg_sig, fs)\u001b[0m\n\u001b[1;32m    278\u001b[0m     \u001b[0msimple_stats\u001b[0m \u001b[0;34m=\u001b[0m \u001b[0msimple_statistics\u001b[0m\u001b[0;34m(\u001b[0m\u001b[0meeg_sig\u001b[0m\u001b[0;34m,\u001b[0m \u001b[0mfs\u001b[0m\u001b[0;34m=\u001b[0m\u001b[0mfs\u001b[0m\u001b[0;34m)\u001b[0m\u001b[0;34m\u001b[0m\u001b[0m\n\u001b[1;32m    279\u001b[0m     \u001b[0mpower_feats\u001b[0m \u001b[0;34m=\u001b[0m \u001b[0mandreas_power_features\u001b[0m\u001b[0;34m(\u001b[0m\u001b[0meeg_sig\u001b[0m\u001b[0;34m,\u001b[0m \u001b[0mfs\u001b[0m\u001b[0;34m=\u001b[0m\u001b[0mfs\u001b[0m\u001b[0;34m)\u001b[0m\u001b[0;34m\u001b[0m\u001b[0m\n\u001b[0;32m--> 280\u001b[0;31m     \u001b[0mpower_stats\u001b[0m \u001b[0;34m=\u001b[0m \u001b[0mpower_statistics\u001b[0m\u001b[0;34m(\u001b[0m\u001b[0meeg_sig\u001b[0m\u001b[0;34m,\u001b[0m \u001b[0mfs\u001b[0m\u001b[0;34m=\u001b[0m\u001b[0mfs\u001b[0m\u001b[0;34m)\u001b[0m\u001b[0;34m\u001b[0m\u001b[0m\n\u001b[0m\u001b[1;32m    281\u001b[0m     \u001b[0madvanced_feats\u001b[0m \u001b[0;34m=\u001b[0m \u001b[0mvectorized_adv_stat\u001b[0m\u001b[0;34m(\u001b[0m\u001b[0meeg_sig\u001b[0m\u001b[0;34m,\u001b[0m \u001b[0mfs\u001b[0m\u001b[0;34m=\u001b[0m\u001b[0mfs\u001b[0m\u001b[0;34m)\u001b[0m\u001b[0;34m\u001b[0m\u001b[0m\n\u001b[1;32m    282\u001b[0m     \u001b[0;32mreturn\u001b[0m \u001b[0mnp\u001b[0m\u001b[0;34m.\u001b[0m\u001b[0mconcatenate\u001b[0m\u001b[0;34m(\u001b[0m\u001b[0;34m(\u001b[0m\u001b[0msimple_stats\u001b[0m\u001b[0;34m,\u001b[0m \u001b[0mpower_feats\u001b[0m\u001b[0;34m,\u001b[0m \u001b[0mpower_stats\u001b[0m\u001b[0;34m,\u001b[0m \u001b[0madvanced_feats\u001b[0m\u001b[0;34m)\u001b[0m\u001b[0;34m,\u001b[0m \u001b[0maxis\u001b[0m\u001b[0;34m=\u001b[0m\u001b[0;36m1\u001b[0m\u001b[0;34m)\u001b[0m\u001b[0;34m\u001b[0m\u001b[0m\n",
      "\u001b[0;32m~/Documents/ETH_Semester_1/Advanced_Machine_Learning/sdaml/task4/gabriel/utils.py\u001b[0m in \u001b[0;36mpower_statistics\u001b[0;34m(signal, fs)\u001b[0m\n\u001b[1;32m    218\u001b[0m     \u001b[0madvanced_stats\u001b[0m \u001b[0;34m=\u001b[0m \u001b[0mnp\u001b[0m\u001b[0;34m.\u001b[0m\u001b[0mzeros\u001b[0m\u001b[0;34m(\u001b[0m\u001b[0;34m(\u001b[0m\u001b[0msignal\u001b[0m\u001b[0;34m.\u001b[0m\u001b[0mshape\u001b[0m\u001b[0;34m[\u001b[0m\u001b[0;36m0\u001b[0m\u001b[0;34m]\u001b[0m\u001b[0;34m,\u001b[0m\u001b[0;36m1\u001b[0m\u001b[0;34m)\u001b[0m\u001b[0;34m)\u001b[0m\u001b[0;34m\u001b[0m\u001b[0m\n\u001b[1;32m    219\u001b[0m     \u001b[0;32mfor\u001b[0m \u001b[0mi\u001b[0m \u001b[0;32min\u001b[0m \u001b[0mtqdm\u001b[0m\u001b[0;34m(\u001b[0m\u001b[0mrange\u001b[0m\u001b[0;34m(\u001b[0m\u001b[0msignal\u001b[0m\u001b[0;34m.\u001b[0m\u001b[0mshape\u001b[0m\u001b[0;34m[\u001b[0m\u001b[0;36m0\u001b[0m\u001b[0;34m]\u001b[0m\u001b[0;34m)\u001b[0m\u001b[0;34m)\u001b[0m\u001b[0;34m:\u001b[0m\u001b[0;34m\u001b[0m\u001b[0m\n\u001b[0;32m--> 220\u001b[0;31m         \u001b[0m_\u001b[0m\u001b[0;34m,\u001b[0m \u001b[0m_\u001b[0m\u001b[0;34m,\u001b[0m \u001b[0mFreqmaxP1\u001b[0m\u001b[0;34m,\u001b[0m \u001b[0m_\u001b[0m\u001b[0;34m,\u001b[0m \u001b[0m_\u001b[0m\u001b[0;34m,\u001b[0m \u001b[0m_\u001b[0m \u001b[0;34m=\u001b[0m \u001b[0mfindLFHF\u001b[0m\u001b[0;34m(\u001b[0m\u001b[0mpsd\u001b[0m\u001b[0;34m[\u001b[0m\u001b[0mi\u001b[0m\u001b[0;34m,\u001b[0m \u001b[0;34m:\u001b[0m\u001b[0;34m]\u001b[0m\u001b[0;34m,\u001b[0m \u001b[0mw\u001b[0m\u001b[0;34m)\u001b[0m\u001b[0;34m\u001b[0m\u001b[0m\n\u001b[0m\u001b[1;32m    221\u001b[0m         \u001b[0madvanced_stats\u001b[0m\u001b[0;34m[\u001b[0m\u001b[0mi\u001b[0m\u001b[0;34m,\u001b[0m \u001b[0;34m:\u001b[0m\u001b[0;34m]\u001b[0m \u001b[0;34m=\u001b[0m \u001b[0mFreqmaxP1\u001b[0m\u001b[0;34m\u001b[0m\u001b[0m\n\u001b[1;32m    222\u001b[0m     \u001b[0;31m# # Peak Features\u001b[0m\u001b[0;34m\u001b[0m\u001b[0;34m\u001b[0m\u001b[0m\n",
      "\u001b[0;32m~/Documents/ETH_Semester_1/Advanced_Machine_Learning/sdaml/task4/gabriel/utils.py\u001b[0m in \u001b[0;36mfindLFHF\u001b[0;34m(psd, w)\u001b[0m\n\u001b[1;32m    255\u001b[0m             \u001b[0mLFw\u001b[0m \u001b[0;34m=\u001b[0m \u001b[0mnp\u001b[0m\u001b[0;34m.\u001b[0m\u001b[0mappend\u001b[0m\u001b[0;34m(\u001b[0m\u001b[0mLFw\u001b[0m\u001b[0;34m,\u001b[0m \u001b[0mw\u001b[0m\u001b[0;34m[\u001b[0m\u001b[0mi\u001b[0m\u001b[0;34m]\u001b[0m\u001b[0;34m)\u001b[0m\u001b[0;34m\u001b[0m\u001b[0m\n\u001b[1;32m    256\u001b[0m         \u001b[0;32mif\u001b[0m \u001b[0mw\u001b[0m\u001b[0;34m[\u001b[0m\u001b[0mi\u001b[0m\u001b[0;34m]\u001b[0m \u001b[0;34m>\u001b[0m \u001b[0;36m0.15\u001b[0m \u001b[0;32mand\u001b[0m \u001b[0mw\u001b[0m\u001b[0;34m[\u001b[0m\u001b[0mi\u001b[0m\u001b[0;34m]\u001b[0m \u001b[0;34m<=\u001b[0m \u001b[0;36m0.4\u001b[0m\u001b[0;34m:\u001b[0m\u001b[0;34m\u001b[0m\u001b[0m\n\u001b[0;32m--> 257\u001b[0;31m             \u001b[0mHFpsd\u001b[0m \u001b[0;34m=\u001b[0m \u001b[0mnp\u001b[0m\u001b[0;34m.\u001b[0m\u001b[0mappend\u001b[0m\u001b[0;34m(\u001b[0m\u001b[0mHFpsd\u001b[0m\u001b[0;34m,\u001b[0m \u001b[0mpsd\u001b[0m\u001b[0;34m[\u001b[0m\u001b[0mi\u001b[0m\u001b[0;34m]\u001b[0m\u001b[0;34m)\u001b[0m\u001b[0;34m\u001b[0m\u001b[0m\n\u001b[0m\u001b[1;32m    258\u001b[0m             \u001b[0mHFw\u001b[0m \u001b[0;34m=\u001b[0m \u001b[0mnp\u001b[0m\u001b[0;34m.\u001b[0m\u001b[0mappend\u001b[0m\u001b[0;34m(\u001b[0m\u001b[0mHFw\u001b[0m\u001b[0;34m,\u001b[0m \u001b[0mw\u001b[0m\u001b[0;34m[\u001b[0m\u001b[0mi\u001b[0m\u001b[0;34m]\u001b[0m\u001b[0;34m)\u001b[0m\u001b[0;34m\u001b[0m\u001b[0m\n\u001b[1;32m    259\u001b[0m \u001b[0;34m\u001b[0m\u001b[0m\n",
      "\u001b[0;32m<__array_function__ internals>\u001b[0m in \u001b[0;36mappend\u001b[0;34m(*args, **kwargs)\u001b[0m\n",
      "\u001b[0;32m/anaconda3/lib/python3.6/site-packages/numpy/lib/function_base.py\u001b[0m in \u001b[0;36mappend\u001b[0;34m(arr, values, axis)\u001b[0m\n\u001b[1;32m   4698\u001b[0m         \u001b[0mvalues\u001b[0m \u001b[0;34m=\u001b[0m \u001b[0mravel\u001b[0m\u001b[0;34m(\u001b[0m\u001b[0mvalues\u001b[0m\u001b[0;34m)\u001b[0m\u001b[0;34m\u001b[0m\u001b[0m\n\u001b[1;32m   4699\u001b[0m         \u001b[0maxis\u001b[0m \u001b[0;34m=\u001b[0m \u001b[0marr\u001b[0m\u001b[0;34m.\u001b[0m\u001b[0mndim\u001b[0m\u001b[0;34m-\u001b[0m\u001b[0;36m1\u001b[0m\u001b[0;34m\u001b[0m\u001b[0m\n\u001b[0;32m-> 4700\u001b[0;31m     \u001b[0;32mreturn\u001b[0m \u001b[0mconcatenate\u001b[0m\u001b[0;34m(\u001b[0m\u001b[0;34m(\u001b[0m\u001b[0marr\u001b[0m\u001b[0;34m,\u001b[0m \u001b[0mvalues\u001b[0m\u001b[0;34m)\u001b[0m\u001b[0;34m,\u001b[0m \u001b[0maxis\u001b[0m\u001b[0;34m=\u001b[0m\u001b[0maxis\u001b[0m\u001b[0;34m)\u001b[0m\u001b[0;34m\u001b[0m\u001b[0m\n\u001b[0m\u001b[1;32m   4701\u001b[0m \u001b[0;34m\u001b[0m\u001b[0m\n\u001b[1;32m   4702\u001b[0m \u001b[0;34m\u001b[0m\u001b[0m\n",
      "\u001b[0;32m<__array_function__ internals>\u001b[0m in \u001b[0;36mconcatenate\u001b[0;34m(*args, **kwargs)\u001b[0m\n",
      "\u001b[0;31mKeyboardInterrupt\u001b[0m: "
     ]
    }
   ],
   "source": [
    "res = losocv_CRF(xtrain_eeg1, xtrain_eeg2, xtrain_emg, ytrain, C=0.1, weight_shift=1, fs=128)\n",
    "print(res)\n",
    "\n",
    "# Dec 18, c=0.1, w = 0, simple EMG feats, 0.94 avg. with weight_shift = 1, the thing actually converges, else it does not. "
   ]
  },
  {
   "cell_type": "markdown",
   "metadata": {},
   "source": [
    "# CRF Submission"
   ]
  },
  {
   "cell_type": "code",
   "execution_count": null,
   "metadata": {},
   "outputs": [],
   "source": [
    "pred = CRF_submit(xtrain_eeg1, xtrain_eeg2, xtrain_emg, ytrain, xtest_eeg1, xtest_eeg2, xtest_emg, C=0.1, weight_shift=0, fs=128)\n",
    "make_submission('CRF0.1.csv', pred)\n"
   ]
  },
  {
   "cell_type": "markdown",
   "metadata": {},
   "source": [
    "# CRF Grid Search"
   ]
  },
  {
   "cell_type": "code",
   "execution_count": null,
   "metadata": {},
   "outputs": [],
   "source": [
    "Cs = [0.05, 0.1, 0.15, 0.2, 0.25, 0.3, 0.4, 0.6, 0.8, 1.0]\n",
    "weight_shifts = [0]\n",
    "total_res = []\n",
    "for c, w in itertools.product(Cs, weight_shifts):\n",
    "    res = losocv_CRF(xtrain_eeg1, xtrain_eeg2, xtrain_emg, ytrain, C=c, weight_shift=w, fs=128)\n",
    "    total_res.append(res)\n",
    "    print(\"C:\", c, \", w:\", w, \", BMAC (Mean, Std, full):\", (np.mean(res), np.std(res), res))        \n",
    "    print(\"********************************\")\n",
    "\n",
    "# Res December 14th, Cs and weight shift, EEG and EMG running process_EMG .\n",
    "# C: 0.1 , w: 0 , BMAC (Mean, Std): (0.915638922375751, 0.05039793710589233)\n",
    "\n",
    "# Dec 18\n",
    "# C: 0.1 , w: 0 , BMAC (Mean, Std, full): (0.8105643639593416, 0.1823532025093181, [0.9057309406411344, 0.9705540211342516, 0.5554081301026389])\n",
    "# C: 0.2 , w: 0 , BMAC (Mean, Std, full): (0.8320971763898081, 0.15734031410977364, [0.9146093715452001, 0.9698041054523155, 0.6118780521719084])\n",
    "\n",
    "# Dec 18 grid search with EMG running process_EEG"
   ]
  },
  {
   "cell_type": "code",
   "execution_count": null,
   "metadata": {},
   "outputs": [],
   "source": []
  }
 ],
 "metadata": {
  "kernelspec": {
   "display_name": "Python 3",
   "language": "python",
   "name": "python3"
  },
  "language_info": {
   "codemirror_mode": {
    "name": "ipython",
    "version": 3
   },
   "file_extension": ".py",
   "mimetype": "text/x-python",
   "name": "python",
   "nbconvert_exporter": "python",
   "pygments_lexer": "ipython3",
   "version": "3.6.4"
  }
 },
 "nbformat": 4,
 "nbformat_minor": 2
}
