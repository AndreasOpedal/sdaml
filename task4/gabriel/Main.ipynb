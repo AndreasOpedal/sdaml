{
 "cells": [
  {
   "cell_type": "markdown",
   "metadata": {},
   "source": [
    "# Objectives:\n",
    "\n",
    "1. Implement data preprocessing to summarize the features in the time series. The features hypothesized to be useful are as follows:\n",
    "    * Band Spectrum Energy (eeg.get_power) (for EEG)\n",
    "    * Fractal Dimension of Time Series (pyEEG)\n",
    "    * Skewness and Kurtosis of the distributions (scipy.stats)\n",
    "    * Regular stats (mean, median, max, min of time series)\n",
    "    \n",
    "2. Models to train:\n",
    "    * Linear Chain Conditional Random Field with structured SVM solver with a 1-slack QP with L1 slack penalty (pystruct)\n",
    "    * A simple SVM like Andreas (sklearn SVC)\n",
    "    * A Hidden Markov model?\n",
    "    \n",
    "3. Cross Validate:\n",
    "    * Build a proper function/system for leave-one-subject-out CV\n",
    "    * Test models and ensembles on it\n"
   ]
  },
  {
   "cell_type": "code",
   "execution_count": 75,
   "metadata": {},
   "outputs": [],
   "source": [
    "import importlib\n",
    "import utils\n",
    "importlib.reload(utils)\n",
    "import utils\n",
    "from utils import *"
   ]
  },
  {
   "cell_type": "code",
   "execution_count": 2,
   "metadata": {},
   "outputs": [
    {
     "name": "stdout",
     "output_type": "stream",
     "text": [
      "Loading xtrain...\n",
      "Shapes: (64800, 512) (64800, 512) (64800, 512)\n",
      "Loading ytrain...\n",
      "Shape: (64800, 1)\n",
      "Loading xtest...\n",
      "Shapes: (43200, 512) (43200, 512) (43200, 512)\n"
     ]
    }
   ],
   "source": [
    "xtrain_eeg1, xtrain_eeg2, xtrain_emg, ytrain, xtest_eeg1, xtest_eeg2, xtest_emg = load_data()"
   ]
  },
  {
   "cell_type": "markdown",
   "metadata": {},
   "source": [
    "# Model Implementation: Conditional "
   ]
  },
  {
   "cell_type": "code",
   "execution_count": null,
   "metadata": {},
   "outputs": [],
   "source": [
    "idx = 21600*2\n",
    "xtrain_eeg1_ = xtrain_eeg1[0:idx]\n",
    "xtrain_eeg2_ = xtrain_eeg2[0:idx]\n",
    "xtrain_emg_ = xtrain_emg[0:idx]\n",
    "eeg1_ = process_EEG(xtrain_eeg1_)\n",
    "eeg2_ = process_EEG(xtrain_eeg2_)\n",
    "emg_ = process_EMG(xtrain_emg_)\n",
    "xtrain_ = np.concatenate((eeg1_, eeg2_, emg_), axis=1)\n",
    "# ytrain_classes = ytrain[0:idx]['y']\n",
    "ytrain_classes = ytrain.values[0:idx]\n",
    "ytrain_ = ytrain.values[0:idx]\n",
    "\n",
    "xtest_eeg1_ = xtrain_eeg1[idx:-1]\n",
    "xtest_eeg2_ = xtrain_eeg2[idx:-1]\n",
    "xtest_emg_ = xtrain_emg[idx:-1]\n",
    "eeg1_ = process_EEG(xtest_eeg1_)\n",
    "eeg2_ = process_EEG(xtest_eeg2_)\n",
    "emg_ = process_EEG(xtest_emg_)\n",
    "xtest_ = np.concatenate((eeg1_, eeg2_, emg_), axis=1)\n",
    "ytest_ = ytrain.values[idx:-1]\n",
    "\n",
    "# xtest_eeg1_ = xtrain_eeg1[idx:-1]\n",
    "# xtest_eeg2_ = xtrain_eeg2[idx:-1]\n",
    "# xtest_final = "
   ]
  },
  {
   "cell_type": "code",
   "execution_count": null,
   "metadata": {},
   "outputs": [],
   "source": [
    "# CRF\n",
    "\n",
    "# xtrain_ = np.reshape(xtrain_, (xtrain_.shape[0], 1, xtrain_[0].shape[0])) # Reshape so that it works with CRF\n",
    "xtrain_crf = np.reshape(xtrain_, (2, -1, xtrain_.shape[1])) # Reshape so that it works with CRF\n",
    "ytrain_crf = np.reshape(ytrain_, (2, -1)) -1 # Reshape so that it works with CRF\n",
    "# X_test_crf = X_test.reshape(2, -1, 49)\n",
    "print(xtrain_crf.shape, ytrain_crf.shape)\n",
    "\n",
    "print(\"Starting CRF...\")\n",
    "classes = np.array([1, 2, 3])\n",
    "lmao = np.reshape(ytrain_classes, (-1,))\n",
    "weights_crf = compute_class_weight(\"balanced\", list(classes), list(lmao))\n",
    "weights_crf[0] = weights_crf[0]+2.5\n",
    "weights_crf[1] = weights_crf[1]+1.5\n",
    "    \n",
    "model = ChainCRF(class_weight=weights_crf)\n",
    "ssvm = OneSlackSSVM(model=model, C=0.5, max_iter=2000)\n",
    "    \n",
    "ssvm.fit(xtrain_crf, ytrain_crf)   \n",
    "   \n",
    "\n",
    "# Test on the third guy\n",
    "xtest_crf = np.reshape(xtest_, (1, -1, xtest_.shape[1]))\n",
    "ytest_crf = np.reshape(ytest_, (1, -1)) -1\n",
    "print(xtest_crf.shape, ytest_crf.shape)\n",
    "y_pred_crf = ssvm.predict(xtest_crf)\n",
    "y_pred_crf = np.asarray(y_pred_crf).reshape(-1) + 1  \n",
    "\n",
    "print(\"BMAC:\", sklearn.metrics.balanced_accuracy_score(ytest_, y_pred_crf))\n",
    "\n",
    "\n",
    "# y_pred_filtered_crf = medfilt(y_pred_crf, FILTER_WINDOW)\n",
    "\n",
    "\n",
    "# print(f\"CRF unique predictions {np.unique(y_pred_filtered_crf)}\")\n"
   ]
  },
  {
   "cell_type": "markdown",
   "metadata": {},
   "source": [
    "# CRF Simply run model on CV"
   ]
  },
  {
   "cell_type": "code",
   "execution_count": 81,
   "metadata": {},
   "outputs": [
    {
     "name": "stdout",
     "output_type": "stream",
     "text": [
      "Gathering advanced statistics...\n"
     ]
    },
    {
     "name": "stderr",
     "output_type": "stream",
     "text": [
      "100%|██████████| 9/9 [00:04<00:00,  1.96it/s]\n",
      "/Users/gabrielarpino/Documents/ETH_Semester_1/Advanced_Machine_Learning/sdaml/task4/gabriel/utils.py:351: FutureWarning: `rcond` parameter will change to the default of machine precision times ``max(M, N)`` where M and N are the input matrix dimensions.\n",
      "To use the future default and silence this warning we advise to pass `rcond=None`, to keep using the old, explicitly pass `rcond=-1`.\n",
      "  (p, _, _, _) = numpy.linalg.lstsq(x, L)\n",
      "/Users/gabrielarpino/Documents/ETH_Semester_1/Advanced_Machine_Learning/sdaml/task4/gabriel/utils.py:169: RuntimeWarning: divide by zero encountered in power\n",
      "  np.sum((np.power(np.abs(signal),(-0.3)) > 20), axis=1),\n"
     ]
    },
    {
     "name": "stdout",
     "output_type": "stream",
     "text": [
      "Gathering advanced statistics...\n"
     ]
    },
    {
     "name": "stderr",
     "output_type": "stream",
     "text": [
      "100%|██████████| 9/9 [00:04<00:00,  2.09it/s]\n"
     ]
    },
    {
     "name": "stdout",
     "output_type": "stream",
     "text": [
      "Gathering advanced statistics...\n"
     ]
    },
    {
     "name": "stderr",
     "output_type": "stream",
     "text": [
      "100%|██████████| 9/9 [00:04<00:00,  2.12it/s]\n",
      "  0%|          | 0/9 [00:00<?, ?it/s]"
     ]
    },
    {
     "name": "stdout",
     "output_type": "stream",
     "text": [
      "Gathering advanced statistics...\n"
     ]
    },
    {
     "name": "stderr",
     "output_type": "stream",
     "text": [
      "100%|██████████| 9/9 [00:01<00:00,  6.19it/s]\n",
      "  0%|          | 0/9 [00:00<?, ?it/s]"
     ]
    },
    {
     "name": "stdout",
     "output_type": "stream",
     "text": [
      "Gathering advanced statistics...\n"
     ]
    },
    {
     "name": "stderr",
     "output_type": "stream",
     "text": [
      "100%|██████████| 9/9 [00:01<00:00,  6.09it/s]\n",
      "  0%|          | 0/9 [00:00<?, ?it/s]"
     ]
    },
    {
     "name": "stdout",
     "output_type": "stream",
     "text": [
      "Gathering advanced statistics...\n"
     ]
    },
    {
     "name": "stderr",
     "output_type": "stream",
     "text": [
      "100%|██████████| 9/9 [00:02<00:00,  4.32it/s]\n"
     ]
    },
    {
     "name": "stdout",
     "output_type": "stream",
     "text": [
      "Iteration, result: 0 0.926623487369359\n",
      "Gathering advanced statistics...\n"
     ]
    },
    {
     "name": "stderr",
     "output_type": "stream",
     "text": [
      "100%|██████████| 9/9 [00:02<00:00,  3.06it/s]\n"
     ]
    },
    {
     "name": "stdout",
     "output_type": "stream",
     "text": [
      "Gathering advanced statistics...\n"
     ]
    },
    {
     "name": "stderr",
     "output_type": "stream",
     "text": [
      "100%|██████████| 9/9 [00:02<00:00,  3.06it/s]\n"
     ]
    },
    {
     "name": "stdout",
     "output_type": "stream",
     "text": [
      "Gathering advanced statistics...\n"
     ]
    },
    {
     "name": "stderr",
     "output_type": "stream",
     "text": [
      "100%|██████████| 9/9 [00:03<00:00,  2.44it/s]\n",
      "  0%|          | 0/9 [00:00<?, ?it/s]"
     ]
    },
    {
     "name": "stdout",
     "output_type": "stream",
     "text": [
      "Gathering advanced statistics...\n"
     ]
    },
    {
     "name": "stderr",
     "output_type": "stream",
     "text": [
      "100%|██████████| 9/9 [00:01<00:00,  6.19it/s]\n",
      "  0%|          | 0/9 [00:00<?, ?it/s]"
     ]
    },
    {
     "name": "stdout",
     "output_type": "stream",
     "text": [
      "Gathering advanced statistics...\n"
     ]
    },
    {
     "name": "stderr",
     "output_type": "stream",
     "text": [
      "100%|██████████| 9/9 [00:01<00:00,  6.17it/s]\n",
      "  0%|          | 0/9 [00:00<?, ?it/s]"
     ]
    },
    {
     "name": "stdout",
     "output_type": "stream",
     "text": [
      "Gathering advanced statistics...\n"
     ]
    },
    {
     "name": "stderr",
     "output_type": "stream",
     "text": [
      "100%|██████████| 9/9 [00:01<00:00,  6.12it/s]\n"
     ]
    },
    {
     "name": "stdout",
     "output_type": "stream",
     "text": [
      "Iteration, result: 1 0.9697850501160636\n",
      "Gathering advanced statistics...\n"
     ]
    },
    {
     "name": "stderr",
     "output_type": "stream",
     "text": [
      "100%|██████████| 9/9 [00:03<00:00,  2.86it/s]\n"
     ]
    },
    {
     "name": "stdout",
     "output_type": "stream",
     "text": [
      "Gathering advanced statistics...\n"
     ]
    },
    {
     "name": "stderr",
     "output_type": "stream",
     "text": [
      "100%|██████████| 9/9 [00:04<00:00,  2.17it/s]\n"
     ]
    },
    {
     "name": "stdout",
     "output_type": "stream",
     "text": [
      "Gathering advanced statistics...\n"
     ]
    },
    {
     "name": "stderr",
     "output_type": "stream",
     "text": [
      "100%|██████████| 9/9 [00:06<00:00,  1.48it/s]\n",
      "  0%|          | 0/9 [00:00<?, ?it/s]"
     ]
    },
    {
     "name": "stdout",
     "output_type": "stream",
     "text": [
      "Gathering advanced statistics...\n"
     ]
    },
    {
     "name": "stderr",
     "output_type": "stream",
     "text": [
      "100%|██████████| 9/9 [00:01<00:00,  5.95it/s]\n",
      "  0%|          | 0/9 [00:00<?, ?it/s]"
     ]
    },
    {
     "name": "stdout",
     "output_type": "stream",
     "text": [
      "Gathering advanced statistics...\n"
     ]
    },
    {
     "name": "stderr",
     "output_type": "stream",
     "text": [
      "100%|██████████| 9/9 [00:02<00:00,  4.48it/s]\n",
      "  0%|          | 0/9 [00:00<?, ?it/s]"
     ]
    },
    {
     "name": "stdout",
     "output_type": "stream",
     "text": [
      "Gathering advanced statistics...\n"
     ]
    },
    {
     "name": "stderr",
     "output_type": "stream",
     "text": [
      "100%|██████████| 9/9 [00:01<00:00,  4.51it/s]\n"
     ]
    },
    {
     "name": "stdout",
     "output_type": "stream",
     "text": [
      "Iteration, result: 2 0.6752535440662527\n",
      "[0.926623487369359, 0.9697850501160636, 0.6752535440662527]\n"
     ]
    }
   ],
   "source": [
    "res = losocv_CRF(xtrain_eeg1, xtrain_eeg2, xtrain_emg, ytrain, C=10.0, weight_shift=0, fs=128)\n",
    "print(res)"
   ]
  },
  {
   "cell_type": "markdown",
   "metadata": {},
   "source": [
    "# CRF Grid Search"
   ]
  },
  {
   "cell_type": "code",
   "execution_count": null,
   "metadata": {},
   "outputs": [],
   "source": [
    "Cs = [0.01, 0.1, 0.2, 0.4, 0.5, 0.6, 0.8, 1.0]\n",
    "weight_shifts = [0]\n",
    "total_res = []\n",
    "for c, w in itertools.product(Cs, weight_shifts):\n",
    "    res = losocv_CRF(xtrain_eeg1, xtrain_eeg2, xtrain_emg, ytrain, C=c, weight_shift=w, fs=128)\n",
    "    total_res.append(res)\n",
    "    print(\"C:\", c, \", w:\", w, \", BMAC (Mean, Std):\", (np.mean(res), np.std(res)))        \n",
    "    print(\"********************************\")\n",
    "\n",
    "# Res December 14th, Cs and weight shift, EEG and EMG running process_EMG .\n",
    "# C: 0.1 , w: 0 , BMAC (Mean, Std): (0.915638922375751, 0.05039793710589233)\n"
   ]
  },
  {
   "cell_type": "code",
   "execution_count": null,
   "metadata": {},
   "outputs": [],
   "source": []
  }
 ],
 "metadata": {
  "kernelspec": {
   "display_name": "Python 3",
   "language": "python",
   "name": "python3"
  },
  "language_info": {
   "codemirror_mode": {
    "name": "ipython",
    "version": 3
   },
   "file_extension": ".py",
   "mimetype": "text/x-python",
   "name": "python",
   "nbconvert_exporter": "python",
   "pygments_lexer": "ipython3",
   "version": "3.6.4"
  }
 },
 "nbformat": 4,
 "nbformat_minor": 2
}
