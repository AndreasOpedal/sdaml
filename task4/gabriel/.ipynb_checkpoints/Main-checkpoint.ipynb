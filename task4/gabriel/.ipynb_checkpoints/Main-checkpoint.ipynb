{
 "cells": [
  {
   "cell_type": "markdown",
   "metadata": {},
   "source": [
    "# Objectives:\n",
    "\n",
    "1. Implement data preprocessing to summarize the features in the time series. The features hypothesized to be useful are as follows:\n",
    "    * Band Spectrum Energy (eeg.get_power) (for EEG)\n",
    "    * Fractal Dimension of Time Series (pyEEG)\n",
    "    * Skewness and Kurtosis of the distributions (scipy.stats)\n",
    "    * Regular stats (mean, median, max, min of time series)\n",
    "    \n",
    "2. Models to train:\n",
    "    * Linear Chain Conditional Random Field with structured SVM solver with a 1-slack QP with L1 slack penalty (pystruct)\n",
    "    * A simple SVM like Andreas (sklearn SVC)\n",
    "    * A Hidden Markov model?\n",
    "    \n",
    "3. Cross Validate:\n",
    "    * Build a proper function/system for leave-one-subject-out CV\n",
    "    * Test models and ensembles on it\n"
   ]
  },
  {
   "cell_type": "code",
   "execution_count": 1,
   "metadata": {},
   "outputs": [
    {
     "name": "stderr",
     "output_type": "stream",
     "text": [
      "/anaconda3/lib/python3.6/site-packages/tensorflow/python/framework/dtypes.py:526: FutureWarning: Passing (type, 1) or '1type' as a synonym of type is deprecated; in a future version of numpy, it will be understood as (type, (1,)) / '(1,)type'.\n",
      "  _np_qint8 = np.dtype([(\"qint8\", np.int8, 1)])\n",
      "/anaconda3/lib/python3.6/site-packages/tensorflow/python/framework/dtypes.py:527: FutureWarning: Passing (type, 1) or '1type' as a synonym of type is deprecated; in a future version of numpy, it will be understood as (type, (1,)) / '(1,)type'.\n",
      "  _np_quint8 = np.dtype([(\"quint8\", np.uint8, 1)])\n",
      "/anaconda3/lib/python3.6/site-packages/tensorflow/python/framework/dtypes.py:528: FutureWarning: Passing (type, 1) or '1type' as a synonym of type is deprecated; in a future version of numpy, it will be understood as (type, (1,)) / '(1,)type'.\n",
      "  _np_qint16 = np.dtype([(\"qint16\", np.int16, 1)])\n",
      "/anaconda3/lib/python3.6/site-packages/tensorflow/python/framework/dtypes.py:529: FutureWarning: Passing (type, 1) or '1type' as a synonym of type is deprecated; in a future version of numpy, it will be understood as (type, (1,)) / '(1,)type'.\n",
      "  _np_quint16 = np.dtype([(\"quint16\", np.uint16, 1)])\n",
      "/anaconda3/lib/python3.6/site-packages/tensorflow/python/framework/dtypes.py:530: FutureWarning: Passing (type, 1) or '1type' as a synonym of type is deprecated; in a future version of numpy, it will be understood as (type, (1,)) / '(1,)type'.\n",
      "  _np_qint32 = np.dtype([(\"qint32\", np.int32, 1)])\n",
      "/anaconda3/lib/python3.6/site-packages/tensorflow/python/framework/dtypes.py:535: FutureWarning: Passing (type, 1) or '1type' as a synonym of type is deprecated; in a future version of numpy, it will be understood as (type, (1,)) / '(1,)type'.\n",
      "  np_resource = np.dtype([(\"resource\", np.ubyte, 1)])\n",
      "/anaconda3/lib/python3.6/site-packages/h5py/__init__.py:36: FutureWarning: Conversion of the second argument of issubdtype from `float` to `np.floating` is deprecated. In future, it will be treated as `np.float64 == np.dtype(float).type`.\n",
      "  from ._conv import register_converters as _register_converters\n",
      "/anaconda3/lib/python3.6/site-packages/sklearn/externals/joblib/__init__.py:15: DeprecationWarning: sklearn.externals.joblib is deprecated in 0.21 and will be removed in 0.23. Please import this functionality directly from joblib, which can be installed with: pip install joblib. If this warning is raised when loading pickled models, you may need to re-serialize those models with scikit-learn 0.21+.\n",
      "  warnings.warn(msg, category=DeprecationWarning)\n"
     ]
    }
   ],
   "source": [
    "import importlib\n",
    "import utils\n",
    "importlib.reload(utils)\n",
    "import utils\n",
    "from utils import *"
   ]
  },
  {
   "cell_type": "code",
   "execution_count": 2,
   "metadata": {},
   "outputs": [
    {
     "name": "stdout",
     "output_type": "stream",
     "text": [
      "Loading xtrain...\n",
      "Shapes: (64800, 512) (64800, 512) (64800, 512)\n",
      "Loading ytrain...\n",
      "Shape: (64800, 1)\n",
      "Loading xtest...\n",
      "Shapes: (43200, 512) (43200, 512) (43200, 512)\n"
     ]
    }
   ],
   "source": [
    "xtrain_eeg1, xtrain_eeg2, xtrain_emg, ytrain, xtest_eeg1, xtest_eeg2, xtest_emg = load_data()"
   ]
  },
  {
   "cell_type": "markdown",
   "metadata": {},
   "source": [
    "# Model Implementation: Conditional "
   ]
  },
  {
   "cell_type": "code",
   "execution_count": null,
   "metadata": {},
   "outputs": [],
   "source": [
    "idx = 21600*2\n",
    "xtrain_eeg1_ = xtrain_eeg1[0:idx]\n",
    "xtrain_eeg2_ = xtrain_eeg2[0:idx]\n",
    "xtrain_emg_ = xtrain_emg[0:idx]\n",
    "eeg1_ = process_EEG(xtrain_eeg1_)\n",
    "eeg2_ = process_EEG(xtrain_eeg2_)\n",
    "emg_ = process_EMG(xtrain_emg_)\n",
    "xtrain_ = np.concatenate((eeg1_, eeg2_, emg_), axis=1)\n",
    "# ytrain_classes = ytrain[0:idx]['y']\n",
    "ytrain_classes = ytrain.values[0:idx]\n",
    "ytrain_ = ytrain.values[0:idx]\n",
    "\n",
    "xtest_eeg1_ = xtrain_eeg1[idx:-1]\n",
    "xtest_eeg2_ = xtrain_eeg2[idx:-1]\n",
    "xtest_emg_ = xtrain_emg[idx:-1]\n",
    "eeg1_ = process_EEG(xtest_eeg1_)\n",
    "eeg2_ = process_EEG(xtest_eeg2_)\n",
    "emg_ = process_EEG(xtest_emg_)\n",
    "xtest_ = np.concatenate((eeg1_, eeg2_, emg_), axis=1)\n",
    "ytest_ = ytrain.values[idx:-1]\n",
    "\n",
    "# xtest_eeg1_ = xtrain_eeg1[idx:-1]\n",
    "# xtest_eeg2_ = xtrain_eeg2[idx:-1]\n",
    "# xtest_final = "
   ]
  },
  {
   "cell_type": "code",
   "execution_count": null,
   "metadata": {},
   "outputs": [],
   "source": [
    "# CRF\n",
    "\n",
    "# xtrain_ = np.reshape(xtrain_, (xtrain_.shape[0], 1, xtrain_[0].shape[0])) # Reshape so that it works with CRF\n",
    "xtrain_crf = np.reshape(xtrain_, (2, -1, xtrain_.shape[1])) # Reshape so that it works with CRF\n",
    "ytrain_crf = np.reshape(ytrain_, (2, -1)) -1 # Reshape so that it works with CRF\n",
    "# X_test_crf = X_test.reshape(2, -1, 49)\n",
    "print(xtrain_crf.shape, ytrain_crf.shape)\n",
    "\n",
    "print(\"Starting CRF...\")\n",
    "classes = np.array([1, 2, 3])\n",
    "lmao = np.reshape(ytrain_classes, (-1,))\n",
    "weights_crf = compute_class_weight(\"balanced\", list(classes), list(lmao))\n",
    "weights_crf[0] = weights_crf[0]+2.5\n",
    "weights_crf[1] = weights_crf[1]+1.5\n",
    "    \n",
    "model = ChainCRF(class_weight=weights_crf)\n",
    "ssvm = OneSlackSSVM(model=model, C=0.5, max_iter=2000)\n",
    "    \n",
    "ssvm.fit(xtrain_crf, ytrain_crf)   \n",
    "   \n",
    "\n",
    "# Test on the third guy\n",
    "xtest_crf = np.reshape(xtest_, (1, -1, xtest_.shape[1]))\n",
    "ytest_crf = np.reshape(ytest_, (1, -1)) -1\n",
    "print(xtest_crf.shape, ytest_crf.shape)\n",
    "y_pred_crf = ssvm.predict(xtest_crf)\n",
    "y_pred_crf = np.asarray(y_pred_crf).reshape(-1) + 1  \n",
    "\n",
    "print(\"BMAC:\", sklearn.metrics.balanced_accuracy_score(ytest_, y_pred_crf))\n",
    "\n",
    "\n",
    "# y_pred_filtered_crf = medfilt(y_pred_crf, FILTER_WINDOW)\n",
    "\n",
    "\n",
    "# print(f\"CRF unique predictions {np.unique(y_pred_filtered_crf)}\")\n"
   ]
  },
  {
   "cell_type": "markdown",
   "metadata": {},
   "source": [
    "# CRF Grid Search"
   ]
  },
  {
   "cell_type": "code",
   "execution_count": null,
   "metadata": {},
   "outputs": [],
   "source": [
    "Cs = [0.01, 0.1, 0.2, 0.4, 0.5, 0.6, 0.8, 1.0]\n",
    "weight_shifts = [0]\n",
    "total_res = []\n",
    "for c, w in itertools.product(Cs, weight_shifts):\n",
    "    res = losocv_CRF(xtrain_eeg1, xtrain_eeg2, xtrain_emg, ytrain, C=c, weight_shift=w, fs=128)\n",
    "    total_res.append(res)\n",
    "    print(\"C:\", c, \", w:\", w, \", BMAC (Mean, Std):\", (np.mean(res), np.std(res)))        \n",
    "    print(\"********************************\")\n",
    "\n",
    "# Res December 14th, Cs and weight shift, EEG and EMG running process_EMG .\n",
    "# C: 0.1 , w: 0 , BMAC (Mean, Std): (0.915638922375751, 0.05039793710589233)\n"
   ]
  },
  {
   "cell_type": "markdown",
   "metadata": {},
   "source": [
    "# Vectorize HFD, PFD:"
   ]
  },
  {
   "cell_type": "code",
   "execution_count": 32,
   "metadata": {},
   "outputs": [
    {
     "name": "stderr",
     "output_type": "stream",
     "text": [
      "100%|██████████| 9/9 [00:00<00:00, 16.89it/s]\n",
      "/Users/gabrielarpino/Documents/ETH_Semester_1/Advanced_Machine_Learning/sdaml/task4/gabriel/utils.py:330: FutureWarning: `rcond` parameter will change to the default of machine precision times ``max(M, N)`` where M and N are the input matrix dimensions.\n",
      "To use the future default and silence this warning we advise to pass `rcond=None`, to keep using the old, explicitly pass `rcond=-1`.\n",
      "  print(\"L.shape\", L.shape)\n"
     ]
    },
    {
     "data": {
      "text/plain": [
       "0.5454629129999375"
      ]
     },
     "execution_count": 32,
     "metadata": {},
     "output_type": "execute_result"
    }
   ],
   "source": [
    "import timeit\n",
    "import importlib\n",
    "import utils\n",
    "importlib.reload(utils)\n",
    "import utils\n",
    "from utils import *\n",
    "\n",
    "def wrapped():\n",
    "    return hfd(xtrain_eeg1, 10)\n",
    "\n",
    "timeit.timeit(wrapped, number=1)"
   ]
  },
  {
   "cell_type": "code",
   "execution_count": null,
   "metadata": {},
   "outputs": [],
   "source": [
    "\n",
    "# Test PFD: \n",
    "test_vec = xtrain_eeg1[1:4].values\n",
    "print(\"1:\", pfd_test(test_vec))"
   ]
  }
 ],
 "metadata": {
  "kernelspec": {
   "display_name": "Python 3",
   "language": "python",
   "name": "python3"
  },
  "language_info": {
   "codemirror_mode": {
    "name": "ipython",
    "version": 3
   },
   "file_extension": ".py",
   "mimetype": "text/x-python",
   "name": "python",
   "nbconvert_exporter": "python",
   "pygments_lexer": "ipython3",
   "version": "3.6.4"
  }
 },
 "nbformat": 4,
 "nbformat_minor": 2
}
