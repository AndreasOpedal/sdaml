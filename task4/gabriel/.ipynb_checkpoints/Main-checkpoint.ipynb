{
 "cells": [
  {
   "cell_type": "markdown",
   "metadata": {},
   "source": [
    "# Objectives:\n",
    "\n",
    "1. Implement data preprocessing to summarize the features in the time series. The features hypothesized to be useful are as follows:\n",
    "    * Band Spectrum Energy (eeg.get_power) (for EEG)\n",
    "    * Fractal Dimension of Time Series (pyEEG)\n",
    "    * Skewness and Kurtosis of the distributions (scipy.stats)\n",
    "    * Regular stats (mean, median, max, min of time series)\n",
    "    \n",
    "2. Models to train:\n",
    "    * Linear Chain Conditional Random Field with structured SVM solver with a 1-slack QP with L1 slack penalty (pystruct)\n",
    "    * A simple SVM like Andreas (sklearn SVC)\n",
    "    * A Hidden Markov model?\n",
    "    \n",
    "3. Cross Validate:\n",
    "    * Build a proper function/system for leave-one-subject-out CV\n",
    "    * Test models and ensembles on it\n"
   ]
  },
  {
   "cell_type": "code",
   "execution_count": 207,
   "metadata": {},
   "outputs": [],
   "source": [
    "import importlib\n",
    "import utils\n",
    "importlib.reload(utils)\n",
    "import utils\n",
    "from utils import *"
   ]
  },
  {
   "cell_type": "code",
   "execution_count": 2,
   "metadata": {},
   "outputs": [
    {
     "name": "stdout",
     "output_type": "stream",
     "text": [
      "Loading xtrain...\n",
      "Shapes: (64800, 512) (64800, 512) (64800, 512)\n",
      "Loading ytrain...\n",
      "Shape: (64800, 1)\n",
      "Loading xtest...\n",
      "Shapes: (43200, 512) (43200, 512) (43200, 512)\n"
     ]
    }
   ],
   "source": [
    "xtrain_eeg1, xtrain_eeg2, xtrain_emg, ytrain, xtest_eeg1, xtest_eeg2, xtest_emg = load_data()"
   ]
  },
  {
   "cell_type": "code",
   "execution_count": 106,
   "metadata": {},
   "outputs": [
    {
     "name": "stdout",
     "output_type": "stream",
     "text": [
      "(64800, 7)\n"
     ]
    }
   ],
   "source": [
    "# Test simple statistics\n",
    "guy1 = xtrain_eeg1\n",
    "a = simple_statistics(guy1)\n",
    "print(a.shape)"
   ]
  },
  {
   "cell_type": "code",
   "execution_count": 74,
   "metadata": {},
   "outputs": [
    {
     "name": "stdout",
     "output_type": "stream",
     "text": [
      "(40, 512)\n",
      "True\n",
      "True\n",
      "True\n",
      "True\n",
      "True\n"
     ]
    }
   ],
   "source": [
    "# Test power features\n",
    "guy1 = xtrain_eeg1[0:20]\n",
    "guy2 = xtrain_eeg2[0:20]\n",
    "wow = eeg.get_power_features(signal=guy1.T, sampling_rate=128)\n",
    "\n",
    "# First have to join the two signals:\n",
    "hah = np.vstack((guy1, guy2))\n",
    "print(hah.shape)\n",
    "wow2 = eeg.get_power_features(signal=hah.T, sampling_rate=128)\n",
    "\n",
    "# plt.plot(wow[4][:, 1], alpha=0.5)\n",
    "# plt.plot(wow2[4][:, 1], alpha=0.7)\n",
    "\n",
    "for i in [1, 2, 3, 4, 5]:\n",
    "    print(np.all(wow[i][:, 5] == wow2[i][:, 5]))\n",
    "    \n",
    "# True\n",
    "# True\n",
    "# True\n",
    "# True\n",
    "# True\n",
    "# Conclusion: passing in signals separately into get_power_features is equivalent to passing them in together. "
   ]
  },
  {
   "cell_type": "code",
   "execution_count": 90,
   "metadata": {},
   "outputs": [
    {
     "name": "stdout",
     "output_type": "stream",
     "text": [
      "(20, 35)\n",
      "(20, 35)\n"
     ]
    }
   ],
   "source": [
    "sig = guy1\n",
    "[_, theta, alpha_low,alpha_high,beta, gamma]= eeg.get_power_features(signal=sig.T, sampling_rate=128)\n",
    "ts1 = simple_statistics(theta.T)\n",
    "al1 = simple_statistics(alpha_low.T)\n",
    "ah1 = simple_statistics(alpha_high.T)\n",
    "b1 = simple_statistics(beta.T)\n",
    "g1 = simple_statistics(gamma.T)\n",
    "print(np.concatenate((ts1, al1, ah1, b1, g1), axis=1).shape)\n",
    "\n",
    "feats = power_features(guy1)\n",
    "print(feats.shape)"
   ]
  },
  {
   "cell_type": "code",
   "execution_count": 97,
   "metadata": {},
   "outputs": [
    {
     "name": "stdout",
     "output_type": "stream",
     "text": [
      "(20, 7) (20, 35)\n"
     ]
    },
    {
     "data": {
      "text/plain": [
       "(20, 42)"
      ]
     },
     "execution_count": 97,
     "metadata": {},
     "output_type": "execute_result"
    }
   ],
   "source": [
    "# Join the first two sets of feats:\n",
    "print(a.shape, feats.shape)\n",
    "lol = process_EEG(guy1)\n",
    "lol.shape"
   ]
  },
  {
   "cell_type": "code",
   "execution_count": 120,
   "metadata": {},
   "outputs": [],
   "source": [
    "# Test andreas power features\n",
    "loldamn = andreas_power_features(xtrain_eeg1)"
   ]
  },
  {
   "cell_type": "code",
   "execution_count": 125,
   "metadata": {},
   "outputs": [],
   "source": [
    "lmao = process_EEG(xtrain_eeg1)"
   ]
  },
  {
   "cell_type": "code",
   "execution_count": 126,
   "metadata": {},
   "outputs": [
    {
     "data": {
      "text/plain": [
       "(64800, 12)"
      ]
     },
     "execution_count": 126,
     "metadata": {},
     "output_type": "execute_result"
    }
   ],
   "source": [
    "lmao.shape"
   ]
  },
  {
   "cell_type": "markdown",
   "metadata": {},
   "source": [
    "# Model Implementation: Conditional "
   ]
  },
  {
   "cell_type": "code",
   "execution_count": 199,
   "metadata": {},
   "outputs": [],
   "source": [
    "idx = 21600*2\n",
    "xtrain_eeg1_ = xtrain_eeg1[0:idx]\n",
    "xtrain_eeg2_ = xtrain_eeg2[0:idx]\n",
    "eeg1_ = process_EEG(xtrain_eeg1_)\n",
    "eeg2_ = process_EEG(xtrain_eeg2_)\n",
    "xtrain_ = np.concatenate((eeg1_, eeg2_), axis=1)\n",
    "ytrain_ = ytrain[0:idx]['y']\n",
    "\n",
    "xtrain_eeg1_ = xtrain_eeg1[idx:-1]\n",
    "xtrain_eeg2_ = xtrain_eeg2[idx:-1]\n",
    "eeg1_ = process_EEG(xtrain_eeg1_)\n",
    "eeg2_ = process_EEG(xtrain_eeg2_)\n",
    "xtest_ = np.concatenate((eeg1_, eeg2_), axis=1)\n",
    "ytest_ = ytrain[idx:-1]['y']\n",
    "\n",
    "xtest_eeg1_ = xtrain_eeg1[idx:-1]\n",
    "xtest_eeg2_ = xtrain_eeg2[idx:-1]\n",
    "xtest_final = "
   ]
  },
  {
   "cell_type": "code",
   "execution_count": 204,
   "metadata": {},
   "outputs": [
    {
     "name": "stdout",
     "output_type": "stream",
     "text": [
      "(2, 21600, 24) (2, 21600)\n",
      "Starting CRF...\n",
      "(1, 21599, 24) (1, 21599)\n",
      "SCORE: 0.9568035557201723\n"
     ]
    }
   ],
   "source": [
    "# CRF\n",
    "\n",
    "# xtrain_ = np.reshape(xtrain_, (xtrain_.shape[0], 1, xtrain_[0].shape[0])) # Reshape so that it works with CRF\n",
    "xtrain_crf = np.reshape(xtrain_, (2, -1, 24)) # Reshape so that it works with CRF\n",
    "ytrain_crf = np.reshape(ytrain_, (2, -1)) -1 # Reshape so that it works with CRF\n",
    "# X_test_crf = X_test.reshape(2, -1, 49)\n",
    "print(xtrain_crf.shape, ytrain_crf.shape)\n",
    "\n",
    "print(\"Starting CRF...\")\n",
    "classes = np.array([1, 2, 3])\n",
    "weights_crf = compute_class_weight(\"balanced\", list(classes), ytrain_)\n",
    "weights_crf[0] = weights_crf[0]+2.5\n",
    "weights_crf[1] = weights_crf[1]+1.5\n",
    "    \n",
    "model = ChainCRF(class_weight=weights_crf)\n",
    "ssvm = OneSlackSSVM(model=model, C=0.5, max_iter=2000)\n",
    "    \n",
    "ssvm.fit(xtrain_crf, ytrain_crf)   \n",
    "   \n",
    "\n",
    "# Test on the third guy\n",
    "xtest_crf = np.reshape(xtest_, (1, -1, 24))\n",
    "ytest_crf = np.reshape(ytest_, (1, -1)) -1\n",
    "print(xtest_crf.shape, ytest_crf.shape)\n",
    "y_pred_crf = ssvm.predict(xtest_crf)\n",
    "y_pred_crf = np.asarray(y_pred_crf).reshape(-1) + 1  \n",
    "\n",
    "print(\"SCORE:\", sklearn.metrics.accuracy_score(ytest_, y_pred_crf))\n",
    "\n",
    "\n",
    "# y_pred_filtered_crf = medfilt(y_pred_crf, FILTER_WINDOW)\n",
    "\n",
    "\n",
    "# print(f\"CRF unique predictions {np.unique(y_pred_filtered_crf)}\")\n"
   ]
  },
  {
   "cell_type": "code",
   "execution_count": 208,
   "metadata": {},
   "outputs": [
    {
     "ename": "ValueError",
     "evalue": "Length of values does not match length of index",
     "output_type": "error",
     "traceback": [
      "\u001b[0;31m---------------------------------------------------------------------------\u001b[0m",
      "\u001b[0;31mValueError\u001b[0m                                Traceback (most recent call last)",
      "\u001b[0;32m<ipython-input-208-02a7966fc5c9>\u001b[0m in \u001b[0;36m<module>\u001b[0;34m()\u001b[0m\n\u001b[1;32m      1\u001b[0m \u001b[0;31m# Try to make a submission:\u001b[0m\u001b[0;34m\u001b[0m\u001b[0;34m\u001b[0m\u001b[0m\n\u001b[0;32m----> 2\u001b[0;31m \u001b[0mmake_submission\u001b[0m\u001b[0;34m(\u001b[0m\u001b[0;34m\"firsttrylol.csv\"\u001b[0m\u001b[0;34m,\u001b[0m \u001b[0my_pred_crf\u001b[0m\u001b[0;34m)\u001b[0m\u001b[0;34m\u001b[0m\u001b[0m\n\u001b[0m",
      "\u001b[0;32m~/Documents/ETH_Semester_1/Advanced_Machine_Learning/sdaml/task4/gabriel/utils.py\u001b[0m in \u001b[0;36mmake_submission\u001b[0;34m(filename, predictions)\u001b[0m\n\u001b[1;32m     59\u001b[0m     \u001b[0mSAMPLE_FILE_PATH\u001b[0m \u001b[0;34m=\u001b[0m \u001b[0;34m\"sample.csv\"\u001b[0m\u001b[0;34m\u001b[0m\u001b[0m\n\u001b[1;32m     60\u001b[0m     \u001b[0msample\u001b[0m \u001b[0;34m=\u001b[0m  \u001b[0mpd\u001b[0m\u001b[0;34m.\u001b[0m\u001b[0mread_csv\u001b[0m\u001b[0;34m(\u001b[0m\u001b[0mSAMPLE_FILE_PATH\u001b[0m\u001b[0;34m)\u001b[0m\u001b[0;34m\u001b[0m\u001b[0m\n\u001b[0;32m---> 61\u001b[0;31m     \u001b[0msample\u001b[0m\u001b[0;34m[\u001b[0m\u001b[0;34m\"y\"\u001b[0m\u001b[0;34m]\u001b[0m \u001b[0;34m=\u001b[0m \u001b[0mpredictions\u001b[0m\u001b[0;34m\u001b[0m\u001b[0m\n\u001b[0m\u001b[1;32m     62\u001b[0m     \u001b[0msample\u001b[0m\u001b[0;34m.\u001b[0m\u001b[0mto_csv\u001b[0m\u001b[0;34m(\u001b[0m\u001b[0mfilename\u001b[0m\u001b[0;34m,\u001b[0m \u001b[0mindex\u001b[0m\u001b[0;34m=\u001b[0m \u001b[0;32mFalse\u001b[0m\u001b[0;34m)\u001b[0m\u001b[0;34m\u001b[0m\u001b[0m\n\u001b[1;32m     63\u001b[0m \u001b[0;34m\u001b[0m\u001b[0m\n",
      "\u001b[0;32m/anaconda3/lib/python3.6/site-packages/pandas/core/frame.py\u001b[0m in \u001b[0;36m__setitem__\u001b[0;34m(self, key, value)\u001b[0m\n\u001b[1;32m   2517\u001b[0m             \u001b[0;32mfor\u001b[0m \u001b[0mi\u001b[0m\u001b[0;34m,\u001b[0m \u001b[0mcol\u001b[0m \u001b[0;32min\u001b[0m \u001b[0menumerate\u001b[0m\u001b[0;34m(\u001b[0m\u001b[0mself\u001b[0m\u001b[0;34m.\u001b[0m\u001b[0mcolumns\u001b[0m\u001b[0;34m)\u001b[0m\u001b[0;34m:\u001b[0m\u001b[0;34m\u001b[0m\u001b[0m\n\u001b[1;32m   2518\u001b[0m                 \u001b[0mdtype\u001b[0m \u001b[0;34m=\u001b[0m \u001b[0mdtypes\u001b[0m\u001b[0;34m.\u001b[0m\u001b[0miloc\u001b[0m\u001b[0;34m[\u001b[0m\u001b[0mi\u001b[0m\u001b[0;34m]\u001b[0m\u001b[0;34m\u001b[0m\u001b[0m\n\u001b[0;32m-> 2519\u001b[0;31m                 \u001b[0mcol\u001b[0m \u001b[0;34m=\u001b[0m \u001b[0mpprint_thing\u001b[0m\u001b[0;34m(\u001b[0m\u001b[0mcol\u001b[0m\u001b[0;34m)\u001b[0m\u001b[0;34m\u001b[0m\u001b[0m\n\u001b[0m\u001b[1;32m   2520\u001b[0m \u001b[0;34m\u001b[0m\u001b[0m\n\u001b[1;32m   2521\u001b[0m                 \u001b[0mcount\u001b[0m \u001b[0;34m=\u001b[0m \u001b[0;34m\"\"\u001b[0m\u001b[0;34m\u001b[0m\u001b[0m\n",
      "\u001b[0;32m/anaconda3/lib/python3.6/site-packages/pandas/core/frame.py\u001b[0m in \u001b[0;36m_set_item\u001b[0;34m(self, key, value)\u001b[0m\n\u001b[1;32m   2583\u001b[0m         \u001b[0mReturn\u001b[0m \u001b[0mthe\u001b[0m \u001b[0mmemory\u001b[0m \u001b[0musage\u001b[0m \u001b[0mof\u001b[0m \u001b[0meach\u001b[0m \u001b[0mcolumn\u001b[0m \u001b[0;32min\u001b[0m \u001b[0mbytes\u001b[0m\u001b[0;34m.\u001b[0m\u001b[0;34m\u001b[0m\u001b[0m\n\u001b[1;32m   2584\u001b[0m \u001b[0;34m\u001b[0m\u001b[0m\n\u001b[0;32m-> 2585\u001b[0;31m         \u001b[0mThe\u001b[0m \u001b[0mmemory\u001b[0m \u001b[0musage\u001b[0m \u001b[0mcan\u001b[0m \u001b[0moptionally\u001b[0m \u001b[0minclude\u001b[0m \u001b[0mthe\u001b[0m \u001b[0mcontribution\u001b[0m \u001b[0mof\u001b[0m\u001b[0;34m\u001b[0m\u001b[0m\n\u001b[0m\u001b[1;32m   2586\u001b[0m         \u001b[0mthe\u001b[0m \u001b[0mindex\u001b[0m \u001b[0;32mand\u001b[0m \u001b[0melements\u001b[0m \u001b[0mof\u001b[0m\u001b[0;31m \u001b[0m\u001b[0;31m`\u001b[0m\u001b[0mobject\u001b[0m\u001b[0;31m`\u001b[0m \u001b[0mdtype\u001b[0m\u001b[0;34m.\u001b[0m\u001b[0;34m\u001b[0m\u001b[0m\n\u001b[1;32m   2587\u001b[0m \u001b[0;34m\u001b[0m\u001b[0m\n",
      "\u001b[0;32m/anaconda3/lib/python3.6/site-packages/pandas/core/frame.py\u001b[0m in \u001b[0;36m_sanitize_column\u001b[0;34m(self, key, value, broadcast)\u001b[0m\n\u001b[1;32m   2758\u001b[0m \u001b[0;34m\u001b[0m\u001b[0m\n\u001b[1;32m   2759\u001b[0m         \u001b[0;34m>>\u001b[0m\u001b[0;34m>\u001b[0m \u001b[0mdf2\u001b[0m\u001b[0;34m.\u001b[0m\u001b[0mdtypes\u001b[0m\u001b[0;34m\u001b[0m\u001b[0m\n\u001b[0;32m-> 2760\u001b[0;31m         \u001b[0mname\u001b[0m         \u001b[0mobject\u001b[0m\u001b[0;34m\u001b[0m\u001b[0m\n\u001b[0m\u001b[1;32m   2761\u001b[0m         \u001b[0mscore\u001b[0m       \u001b[0mfloat64\u001b[0m\u001b[0;34m\u001b[0m\u001b[0m\n\u001b[1;32m   2762\u001b[0m         \u001b[0memployed\u001b[0m       \u001b[0mbool\u001b[0m\u001b[0;34m\u001b[0m\u001b[0m\n",
      "\u001b[0;32m/anaconda3/lib/python3.6/site-packages/pandas/core/series.py\u001b[0m in \u001b[0;36m_sanitize_index\u001b[0;34m(data, index, copy)\u001b[0m\n\u001b[1;32m   3119\u001b[0m         \u001b[0mSort\u001b[0m \u001b[0ma\u001b[0m \u001b[0mseries\u001b[0m \u001b[0mof\u001b[0m \u001b[0mstrings\u001b[0m\u001b[0;34m\u001b[0m\u001b[0m\n\u001b[1;32m   3120\u001b[0m \u001b[0;34m\u001b[0m\u001b[0m\n\u001b[0;32m-> 3121\u001b[0;31m         \u001b[0;34m>>\u001b[0m\u001b[0;34m>\u001b[0m \u001b[0ms\u001b[0m \u001b[0;34m=\u001b[0m \u001b[0mpd\u001b[0m\u001b[0;34m.\u001b[0m\u001b[0mSeries\u001b[0m\u001b[0;34m(\u001b[0m\u001b[0;34m[\u001b[0m\u001b[0;34m'z'\u001b[0m\u001b[0;34m,\u001b[0m \u001b[0;34m'b'\u001b[0m\u001b[0;34m,\u001b[0m \u001b[0;34m'd'\u001b[0m\u001b[0;34m,\u001b[0m \u001b[0;34m'a'\u001b[0m\u001b[0;34m,\u001b[0m \u001b[0;34m'c'\u001b[0m\u001b[0;34m]\u001b[0m\u001b[0;34m)\u001b[0m\u001b[0;34m\u001b[0m\u001b[0m\n\u001b[0m\u001b[1;32m   3122\u001b[0m         \u001b[0;34m>>\u001b[0m\u001b[0;34m>\u001b[0m \u001b[0ms\u001b[0m\u001b[0;34m\u001b[0m\u001b[0m\n\u001b[1;32m   3123\u001b[0m         \u001b[0;36m0\u001b[0m    \u001b[0mz\u001b[0m\u001b[0;34m\u001b[0m\u001b[0m\n",
      "\u001b[0;31mValueError\u001b[0m: Length of values does not match length of index"
     ]
    }
   ],
   "source": [
    "# Try to make a submission:\n",
    "\n",
    "\n",
    "y_pred_final = ssvm.predict(xtest_crf)\n",
    "make_submission(\"firsttrylol.csv\", y_pred_crf)"
   ]
  },
  {
   "cell_type": "code",
   "execution_count": 195,
   "metadata": {},
   "outputs": [
    {
     "name": "stdout",
     "output_type": "stream",
     "text": [
      "(3, 21600, 24) (3, 21600, 1)\n",
      "64800\n"
     ]
    }
   ],
   "source": [
    "xtrain_crf = np.reshape(xtrain_, (3, -1, 24)) # Reshape so that it works with CRF\n",
    "ytrain_crf = np.reshape(ytrain_, (3, -1, 1)) # Reshape so that it works with CRF\n",
    "print(xtrain_crf.shape, ytrain_crf.shape)\n",
    "\n",
    "\n",
    "\n",
    "# xtrain_crf[0].shape\n",
    "print(len(y_pred_crf))\n"
   ]
  },
  {
   "cell_type": "code",
   "execution_count": null,
   "metadata": {},
   "outputs": [],
   "source": [
    "## SVC APPROACH -- GRID-SEARCH CV\n",
    "\n",
    "steps = [(\"scaler\", StandardScaler()), (\"classifier\", SVC())]\n",
    "pipeline = Pipeline(steps = steps)\n",
    "\n",
    "parameters = {\"classifier__kernel\": [\"rbf\"],\n",
    "              \"classifier__gamma\": [\"auto\"],\n",
    "              \"classifier__C\": [0.1, 0.3, 0.5, 0.7, 1, 5, 10, 50],  \n",
    "              \"classifier__class_weight\": [\"balanced\"],\n",
    "              \"classifier__degree\": [1,3,5,7]\n",
    "             }\n",
    "\n",
    "grid = GridSearchCV(pipeline, parameters, cv = 5, scoring = 'balanced_accuracy', verbose = 2)\n",
    "\n",
    "grid.fit(xtrain_eeg.values, ytrain.values.ravel())\n",
    "print(grid.best_score_)\n",
    "print(grid.best_params_)"
   ]
  }
 ],
 "metadata": {
  "kernelspec": {
   "display_name": "Python 3",
   "language": "python",
   "name": "python3"
  },
  "language_info": {
   "codemirror_mode": {
    "name": "ipython",
    "version": 3
   },
   "file_extension": ".py",
   "mimetype": "text/x-python",
   "name": "python",
   "nbconvert_exporter": "python",
   "pygments_lexer": "ipython3",
   "version": "3.6.4"
  }
 },
 "nbformat": 4,
 "nbformat_minor": 2
}
