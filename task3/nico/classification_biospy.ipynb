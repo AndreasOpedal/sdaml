{
 "cells": [
  {
   "cell_type": "code",
   "execution_count": 387,
   "metadata": {},
   "outputs": [],
   "source": [
    "import importlib\n",
    "import utils\n",
    "from utils import *\n",
    "importlib.reload(utils)\n",
    "from utils import *"
   ]
  },
  {
   "cell_type": "code",
   "execution_count": 23,
   "metadata": {},
   "outputs": [
    {
     "name": "stdout",
     "output_type": "stream",
     "text": [
      "False\n"
     ]
    },
    {
     "data": {
      "text/plain": [
       "'\\nfrom now on, we operate on xtrain_tr_filled -- shape (5117, 7500)\\n'"
      ]
     },
     "execution_count": 23,
     "metadata": {},
     "output_type": "execute_result"
    },
    {
     "data": {
      "image/png": "[encoded data removed]",
      "text/plain": [
       "<Figure size 432x288 with 1 Axes>"
      ]
     },
     "metadata": {
      "needs_background": "light"
     },
     "output_type": "display_data"
    }
   ],
   "source": [
    "'''\n",
    "loading data and initial pre-processing\n",
    "'''\n",
    "\n",
    "xtrain, xtest, ytrain = load_data()\n",
    "\n",
    "'''\n",
    "for each row in xtrain, find indices of last non NaN values\n",
    "'''\n",
    "#renaming columns into 0,1,2,...\n",
    "xtrain = xtrain.rename(columns={x:y for x,y in zip(xtrain.columns,range(0,len(xtrain.columns)))})\n",
    "\n",
    "'''\n",
    "last_valid_idx contains the column index for last non-NaN value in the rows of xtrain\n",
    "'''\n",
    "last_valid_idx = []\n",
    "\n",
    "for i in range(0,xtrain.shape[0]):\n",
    "    row = xtrain.iloc[i,:]\n",
    "    idx = row.last_valid_index()\n",
    "    last_valid_idx = np.append(last_valid_idx, idx)\n",
    "    \n",
    "'''\n",
    "plotting kernel density of last_valid_idx\n",
    "'''\n",
    "ax = sb.kdeplot(last_valid_idx, shade=True, color=\"r\")\n",
    "\n",
    "'''\n",
    "from the kernel density plot, we notice that the majority of series \n",
    "starts to show NaN's after the ~7500 index point. We will then first \n",
    "attempt classification by truncating all the series at the 7500\n",
    "column. We will then pad the series which present NaNs before the 7500\n",
    "columns with the median of the other series. This is just a first trial.\n",
    "'''\n",
    "\n",
    "'''\n",
    "truncate xtrain at 7500 columns -- this prevents us from wasting too much data in truncating\n",
    "'''\n",
    "#note to self: load_data() reshiffles the data\n",
    "xtrain_tr = xtrain.iloc[:,0:7500]\n",
    "\n",
    "\n",
    "'''\n",
    "pad shorter series\n",
    "'''\n",
    "\n",
    "#consider all rows of xtrain_tr with no NaN's\n",
    "#Note: we only need to drop all rows with NaN at the last column entry \n",
    "\n",
    "#entry i is True if entry is last column in row i of xtrain_tr is NaN \n",
    "is_nan = np.isnan(xtrain_tr.iloc[:,-1].values) \n",
    "xtrain_tr1 = xtrain_tr[is_nan == False]  #shape = (4565, 7500)\n",
    "xtrain_tr2 = xtrain_tr[is_nan == True]\n",
    "\n",
    "#calculate column medians \n",
    "medians = np.array(xtrain_tr1.median(axis=0))\n",
    "\n",
    "for j in xtrain_tr2.columns:\n",
    "    xtrain_tr2.iloc[:,j] = xtrain_tr2.iloc[:,j].fillna(value = medians[j], axis = 0)\n",
    "#   print(j)\n",
    "\n",
    "xtrain_tr_filled = pd.concat([xtrain_tr1, xtrain_tr2])\n",
    "\n",
    "'''\n",
    "final dataset: xtrain_tr_filled\n",
    "dimension: (5117, 7500)\n",
    "shorter series padded\n",
    "'''\n",
    "\n",
    "print(xtrain_tr_filled.isnull().values.any())\n",
    "\n",
    "'''\n",
    "from now on, we operate on xtrain_tr_filled -- shape (5117, 7500)\n",
    "'''"
   ]
  },
  {
   "cell_type": "code",
   "execution_count": 394,
   "metadata": {},
   "outputs": [],
   "source": [
    "'''\n",
    "save original in case you screw up\n",
    "'''\n",
    "\n",
    "xtrain_tr_filled_orig = xtrain_tr_filled"
   ]
  },
  {
   "cell_type": "markdown",
   "metadata": {},
   "source": [
    "# Extracting Heartbeats "
   ]
  },
  {
   "cell_type": "code",
   "execution_count": 395,
   "metadata": {},
   "outputs": [
    {
     "data": {
      "text/plain": [
       "'\\nrpeaks_array = []\\n\\nfor i in range(xtrain_hb.shape[0]):\\n    rpeaks = np.array(bs_ecg.hamilton_segmenter(xtrain_hb[i,:], sampling_rate=300.0))\\n    rpeaks = rpeaks.flatten()\\n    rpeaks_array.append(rpeaks)\\n    \\n    \\nrbeats_array = []\\n\\nfor i in range(xtrain_hb.shape[0]):\\n    rbeats = bs_ecg.extract_heartbeats(signal = xtrain_hb[i,:], \\n                rpeaks = rpeaks_array[i], sampling_rate= 300)\\n    rbeats_array.append(rbeats[0].flatten())\\n\\n'"
      ]
     },
     "execution_count": 395,
     "metadata": {},
     "output_type": "execute_result"
    }
   ],
   "source": [
    "import biosppy.signals.ecg as bs_ecg\n",
    "\n",
    "xtrain_tr_filled = np.array(xtrain_tr_filled)\n",
    "\n",
    "templates_array = []\n",
    "\n",
    "for i in range(xtrain_tr_filled.shape[0]):\n",
    "    beats_info = bs_ecg.ecg(signal= xtrain_tr_filled[i,:], sampling_rate=300, show=False)\n",
    "    templates_beats = beats_info['templates']\n",
    "    templates_array.append(templates_beats)\n",
    "\n",
    "'''\n",
    "rpeaks_array = []\n",
    "\n",
    "for i in range(xtrain_hb.shape[0]):\n",
    "    rpeaks = np.array(bs_ecg.hamilton_segmenter(xtrain_hb[i,:], sampling_rate=300.0))\n",
    "    rpeaks = rpeaks.flatten()\n",
    "    rpeaks_array.append(rpeaks)\n",
    "    \n",
    "    \n",
    "rbeats_array = []\n",
    "\n",
    "for i in range(xtrain_hb.shape[0]):\n",
    "    rbeats = bs_ecg.extract_heartbeats(signal = xtrain_hb[i,:], \n",
    "                rpeaks = rpeaks_array[i], sampling_rate= 300)\n",
    "    rbeats_array.append(rbeats[0].flatten())\n",
    "\n",
    "'''"
   ]
  },
  {
   "cell_type": "markdown",
   "metadata": {},
   "source": [
    "# Extract Summary Statistics "
   ]
  },
  {
   "cell_type": "code",
   "execution_count": 406,
   "metadata": {},
   "outputs": [
    {
     "data": {
      "image/png": "[encoded data removed]",
      "text/plain": [
       "<Figure size 432x288 with 1 Axes>"
      ]
     },
     "metadata": {
      "needs_background": "light"
     },
     "output_type": "display_data"
    }
   ],
   "source": [
    "'''\n",
    "trials\n",
    "'''\n",
    "\n",
    "plt.plot(np.max(templates_array[1], axis = 0))\n",
    "plt.plot(np.min(templates_array[1], axis = 0))\n",
    "plt.show()"
   ]
  },
  {
   "cell_type": "code",
   "execution_count": 401,
   "metadata": {},
   "outputs": [],
   "source": [
    "'''\n",
    "calculating array of medians, maximums and minimums, standard deviations\n",
    "'''\n",
    "\n",
    "medians_array = []\n",
    "max_array = []\n",
    "min_array = []\n",
    "std_array = []\n",
    "\n",
    "for i in range(xtrain_tr_filled.shape[0]):\n",
    "    maximum = np.max(templates_array[i], axis = 0)\n",
    "    minimum = np.min(templates_array[i], axis = 0)\n",
    "    med = np.median(templates_array[i], axis = 0)\n",
    "    std = np.std(templates_array[i], axis = 0)\n",
    "    medians_array.append(med)\n",
    "    max_array.append(maximum)\n",
    "    min_array.append(minimum)\n",
    "    std_array.append(std)"
   ]
  },
  {
   "cell_type": "code",
   "execution_count": 402,
   "metadata": {},
   "outputs": [],
   "source": [
    "'''\n",
    "create new dataset\n",
    "'''\n",
    "\n",
    "biosppy_dat = []\n",
    "for  i in range(xtrain_tr_filled.shape[0]):\n",
    "    row_i = np.concatenate([medians_array[1],min_array[1], \n",
    "                           max_array[i], std_array[i]])\n",
    "    biosppy_dat.append(row_i)\n",
    "\n",
    "biosppy_dat = pd.DataFrame(biosppy_dat)\n",
    "\n",
    "\n",
    "\n",
    "'''\n",
    "create train, validation, test splits\n",
    "xtrain_nn, xval_nn, xtest_nn\n",
    "\n",
    "'''\n",
    "xtrain_provisional_hb, xtest_hb, ytrain_provisional_hb, ytest_hb = train_test_split(biosppy_dat, \n",
    "                                                          ytrain, test_size=0.2, random_state=42)\n",
    "\n",
    "xtrain_hb, xval_hb, ytrain_hb, yval_hb = train_test_split(xtrain_provisional_hb,   # test set = val set \n",
    "                                                          ytrain_provisional_hb, test_size=0.45, random_state=42)\n"
   ]
  },
  {
   "cell_type": "code",
   "execution_count": 407,
   "metadata": {},
   "outputs": [
    {
     "name": "stdout",
     "output_type": "stream",
     "text": [
      "              precision    recall  f1-score   support\n",
      "\n",
      "           0       0.57      1.00      0.72      1043\n",
      "           1       0.00      0.00      0.00       156\n",
      "           2       0.00      0.00      0.00       577\n",
      "           3       0.00      0.00      0.00        66\n",
      "\n",
      "    accuracy                           0.57      1842\n",
      "   macro avg       0.14      0.25      0.18      1842\n",
      "weighted avg       0.32      0.57      0.41      1842\n",
      "\n"
     ]
    }
   ],
   "source": [
    "from sklearn.metrics import accuracy_score, f1_score, precision_score, recall_score, classification_report, confusion_matrix\n",
    "\n",
    "clf = SVC(C=100.0, kernel='rbf', gamma='auto_deprecated', \n",
    "            shrinking=True, probability=False, tol=0.001, cache_size=200, \n",
    "            class_weight='balanced', verbose=False, max_iter=-1, \n",
    "            decision_function_shape='ovr', random_state=2)\n",
    "\n",
    "# See whether it is classifying correctly\n",
    "clf.fit(xtrain_hb, ytrain_hb)\n",
    "predy = clf.predict(xval_hb)\n",
    "print(sklearn.metrics.classification_report(yval_hb, predy))"
   ]
  },
  {
   "cell_type": "code",
   "execution_count": null,
   "metadata": {},
   "outputs": [],
   "source": []
  }
 ],
 "metadata": {
  "kernelspec": {
   "display_name": "Python 3",
   "language": "python",
   "name": "python3"
  },
  "language_info": {
   "codemirror_mode": {
    "name": "ipython",
    "version": 3
   },
   "file_extension": ".py",
   "mimetype": "text/x-python",
   "name": "python",
   "nbconvert_exporter": "python",
   "pygments_lexer": "ipython3",
   "version": "3.7.3"
  }
 },
 "nbformat": 4,
 "nbformat_minor": 2
}
