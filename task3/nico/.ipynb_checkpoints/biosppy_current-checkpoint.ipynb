{
 "cells": [
  {
   "cell_type": "code",
   "execution_count": 110,
   "metadata": {},
   "outputs": [
    {
     "name": "stdout",
     "output_type": "stream",
     "text": [
      "Python: 3.7.3 (default, Apr 24 2019, 15:29:51) [MSC v.1915 64 bit (AMD64)]\n",
      "scipy: 1.2.1\n"
     ]
    }
   ],
   "source": [
    "%matplotlib inline\n",
    "import warnings\n",
    "warnings.filterwarnings('ignore')\n",
    "import sys\n",
    "print('Python: {}'.format(sys.version))\n",
    "\n",
    "import scipy\n",
    "print('scipy: {}'.format(scipy.__version__))\n",
    "\n",
    "import csv\n",
    "import numpy as np\n",
    "import sklearn\n",
    "from sklearn.metrics import mean_squared_error\n",
    "import pandas as pd\n",
    "from matplotlib import pyplot as plt\n",
    "import seaborn as sns\n",
    "from sklearn.preprocessing import StandardScaler\n",
    "from sklearn.preprocessing import OneHotEncoder\n",
    "from sklearn.preprocessing import LabelEncoder\n",
    "from sklearn.model_selection import cross_val_score\n",
    "from sklearn.model_selection import StratifiedKFold\n",
    "from sklearn.metrics import accuracy_score\n",
    "from sklearn.metrics import balanced_accuracy_score\n",
    "from sklearn.metrics import f1_score\n",
    "from sklearn.metrics import confusion_matrix\n",
    "from sklearn.metrics import classification_report\n",
    "from sklearn.gaussian_process import GaussianProcessClassifier\n",
    "from sklearn.gaussian_process.kernels import RBF\n",
    "from sklearn.neural_network import MLPClassifier\n",
    "from sklearn.decomposition import (PCA, LatentDirichletAllocation)\n",
    "from sklearn.discriminant_analysis import LinearDiscriminantAnalysis\n",
    "from sklearn.feature_selection import f_regression\n",
    "from sklearn.svm import SVC\n",
    "from sklearn.ensemble import (RandomForestClassifier, ExtraTreesClassifier, RandomForestRegressor, GradientBoostingClassifier )\n",
    "from sklearn.linear_model import LogisticRegression\n",
    "from sklearn import preprocessing\n",
    "from sklearn.pipeline import Pipeline, make_pipeline\n",
    "from sklearn.model_selection import KFold, GridSearchCV\n",
    "from sklearn.metrics import make_scorer\n",
    "\n",
    "\n",
    "import random as rn\n",
    "from biosppy.signals import (ecg, tools)\n",
    "import pywt\n",
    "from tqdm import tqdm_notebook as tqdm\n",
    "\n",
    "import math\n",
    "from itertools import product\n",
    "# ============= CONSTS =============\n",
    "TRAIN_FILE_PATH = \"X_train.csv\"\n",
    "TARGET_FILE_PATH =  \"y_train.csv\"\n",
    "TEST_FILE_PATH = \"X_test.csv\"\n",
    "SAMPLE_FILE_PATH = \"sample.csv\"\n",
    "\n",
    "seed = 42\n",
    "NUM_MAX_COLS = 18154\n",
    "SAMPLING_RATE=300\n",
    "USE_WAVE_LETS = False\n",
    "my_cols = [\"id\"] + [\"x\" + str(i) for i in range(NUM_MAX_POINTS)]\n",
    "# ============= CONSTS =============\n",
    "\n",
    "np.random.seed(seed)\n",
    "rn.seed(seed)"
   ]
  },
  {
   "cell_type": "markdown",
   "metadata": {},
   "source": [
    "# Loadind Data"
   ]
  },
  {
   "cell_type": "code",
   "execution_count": 86,
   "metadata": {},
   "outputs": [],
   "source": [
    "xtrain = pd.read_csv(TRAIN_FILE_PATH, names=my_cols)[1:]\n",
    "xtrain.drop(\"id\", axis=1, inplace=True)\n",
    "\n",
    "ytrain = pd.read_csv(TARGET_FILE_PATH)\n",
    "ytrain.drop(\"id\", axis=1, inplace = True)\n",
    "\n",
    "xtest =  pd.read_csv(TEST_FILE_PATH, names=my_cols)[1:]\n",
    "id_test = xtest.columns[0]\n",
    "xtest.drop(\"id\", axis=1, inplace=True)\n"
   ]
  },
  {
   "cell_type": "markdown",
   "metadata": {},
   "source": [
    "# Define functions -- Submission and Feature Extraction"
   ]
  },
  {
   "cell_type": "code",
   "execution_count": 226,
   "metadata": {},
   "outputs": [],
   "source": [
    "def mean_sqrd_diff(rpeaks):\n",
    "    diff = np.diff(rpeaks)\n",
    "    mean_sqrd = np.mean(diff*diff)\n",
    "    \n",
    "    return mean_sqrd \n",
    "\n",
    "def make_submission(filename, predictions):\n",
    "    sample =  pd.read_csv(SAMPLE_FILE_PATH)\n",
    "    sample[\"y\"] = predictions\n",
    "    sample.to_csv(filename, index= False)\n",
    "\n",
    "def get_features_from_raw_qrs(signal, sampling_rate):\n",
    "    X = list()\n",
    "    ts, filtered, rpeaks, templates_ts, templates, heart_rate_ts, heart_rate = ecg.ecg(signal, sampling_rate, show = False)\n",
    "    \n",
    "    '''\n",
    "    Correct R-peak locations to the maximum within a tolerance\n",
    "    '''\n",
    "    rpeaks = ecg.correct_rpeaks(signal = signal, rpeaks=rpeaks, sampling_rate = sampling_rate, tol=0.01)  \n",
    "    \n",
    "    '''\n",
    "    extracting values of R-peaks -- Note: rpeaks gives only indices for R-peaks location\n",
    "    '''\n",
    "    peaks = signal[rpeaks]\n",
    "    \n",
    "    if len(heart_rate) < 2:\n",
    "        heart_rate = [0, 1]\n",
    "    if len(heart_rate_ts) < 2:\n",
    "        heart_rate_ts = [0, 1]\n",
    "           \n",
    "    X.append(np.mean(peaks))\n",
    "    X.append(np.min(peaks))\n",
    "    X.append(np.max(peaks))\n",
    "    X.append(np.std(peaks))\n",
    "    X.append(np.sqrt(mean_sqrd_diff(rpeaks)))        ## remove if results worsen\n",
    "    X.append(np.mean(np.diff(rpeaks)))\n",
    "    X.append(np.min(np.diff(rpeaks)))\n",
    "    X.append(np.max(np.diff(rpeaks)))\n",
    "    X.append(np.std(np.diff(rpeaks)))           \n",
    "    X.append(np.mean(heart_rate))\n",
    "    X.append(np.min(heart_rate))\n",
    "    X.append(np.max(heart_rate))\n",
    "    X.append(np.std(heart_rate))\n",
    "    X.append(np.mean(np.diff(heart_rate)))\n",
    "    X.append(np.min(np.diff(heart_rate)))\n",
    "    X.append(np.max(np.diff(heart_rate)))\n",
    "    X.append(np.std(np.diff(heart_rate)))\n",
    "    X.append(np.mean(np.diff(heart_rate_ts)))\n",
    "    X.append(np.min(np.diff(heart_rate_ts)))\n",
    "    X.append(np.min(np.diff(heart_rate_ts)))\n",
    "    X.append(np.max(np.diff(heart_rate_ts)))\n",
    "    X.append(np.std(np.diff(heart_rate_ts)))\n",
    "    X.append(np.sum(filtered-signal))\n",
    "    \n",
    "    X += list(np.mean(templates, axis=0))\n",
    "    X += list(np.abs(np.fft.rfft(np.mean(templates, axis=0), axis=0)))\n",
    "    X += list(np.min(templates, axis=0))\n",
    "    X += list(np.max(templates, axis=0))\n",
    "    X = np.array(X)\n",
    "    \n",
    "    X[np.isnan(X)] = 0\n",
    "    return X"
   ]
  },
  {
   "cell_type": "markdown",
   "metadata": {},
   "source": [
    "# Obtain features from raw signal"
   ]
  },
  {
   "cell_type": "code",
   "execution_count": 227,
   "metadata": {},
   "outputs": [
    {
     "data": {
      "application/vnd.jupyter.widget-view+json": {
       "model_id": "35d411c45e2446b88a3221e05d405d86",
       "version_major": 2,
       "version_minor": 0
      },
      "text/plain": [
       "HBox(children=(IntProgress(value=0, max=5117), HTML(value='')))"
      ]
     },
     "metadata": {},
     "output_type": "display_data"
    },
    {
     "data": {
      "application/vnd.jupyter.widget-view+json": {
       "model_id": "194fad84762443af9a535b5758899ebe",
       "version_major": 2,
       "version_minor": 0
      },
      "text/plain": [
       "HBox(children=(IntProgress(value=0, max=3411), HTML(value='')))"
      ]
     },
     "metadata": {},
     "output_type": "display_data"
    }
   ],
   "source": [
    "features = list()\n",
    "sampling_rate = float(SAMPLING_RATE)\n",
    "for id in tqdm(range(xtrain.shape[0])):\n",
    "    signal = np.array(pd.to_numeric(xtrain.iloc[id].dropna()))\n",
    "    features.append(get_features_from_raw_qrs(signal, sampling_rate))\n",
    "    \n",
    "    \n",
    "X = np.array(features)\n",
    "y = np.ravel(np.array(ytrain.values))\n",
    "\n",
    "features_test = list()\n",
    "for id in tqdm(range(xtest.shape[0])):\n",
    "    signal = np.array(pd.to_numeric(xtest.iloc[id].dropna()))\n",
    "    features_test.append(get_features_from_raw_qrs(signal, sampling_rate))\n",
    "    \n",
    "X_test = np.array(features_test)"
   ]
  },
  {
   "cell_type": "markdown",
   "metadata": {},
   "source": [
    "# Model Selection "
   ]
  },
  {
   "cell_type": "code",
   "execution_count": 246,
   "metadata": {},
   "outputs": [
    {
     "name": "stdout",
     "output_type": "stream",
     "text": [
      "(2047,) (2047, 654)\n"
     ]
    }
   ],
   "source": [
    "'''\n",
    "create subset of initial dataframe X for model selection \n",
    "'''\n",
    "X = pd.DataFrame(X) \n",
    "X['y'] = y\n",
    "X_sub = pd.DataFrame(X).sample(frac = 0.40, replace = False, axis=0)\n",
    "y_sub = X_sub['y']\n",
    "X_sub = X_sub.drop('y', axis = 1).values\n",
    "print(y_sub.shape, X_sub.shape)"
   ]
  },
  {
   "cell_type": "code",
   "execution_count": 202,
   "metadata": {},
   "outputs": [
    {
     "name": "stdout",
     "output_type": "stream",
     "text": [
      "Fitting 2 folds for each of 480 candidates, totalling 960 fits\n"
     ]
    },
    {
     "name": "stderr",
     "output_type": "stream",
     "text": [
      "[Parallel(n_jobs=1)]: Using backend SequentialBackend with 1 concurrent workers.\n",
      "[Parallel(n_jobs=1)]: Done 960 out of 960 | elapsed: 85.1min finished\n"
     ]
    },
    {
     "name": "stdout",
     "output_type": "stream",
     "text": [
      "0.7787005373717636\n",
      "{'classifier__learning_rate': 0.05, 'classifier__max_depth': 5, 'classifier__max_features': 40, 'classifier__n_estimators': 200}\n"
     ]
    },
    {
     "data": {
      "text/plain": [
       "'\\n## SVC APPROACH -- GRID-SEARCH CV\\n\\nsteps = [(\"scaler\", preprocessing.StandardScaler()), (\"classifier\", SVC())]\\npipeline = Pipeline(steps = steps)\\n\\nparameters = {\"classifier__kernel\": [\"rbf\", \"poly\"],\\n              \"classifier__gamma\": [\"auto\"],\\n              \"classifier__C\": [15,30,45,60,75],  \\n              \"classifier__class_weight\": [\"balanced\"],\\n              \"classifier__degree\": [2,4,6,8]\\n             }\\n\\ngrid = GridSearchCV(pipeline, parameters, cv = 5, scoring = scorer_f1, verbose = 2)\\n\\ngrid.fit(X, y)\\nprint(grid.best_score_)\\nprint(grid.best_params_)\\n\\nestimator = SVC(C = grid.best_params_[\\'classifier__C\\'], gamma = \\'auto\\', \\n                class_weight = \\'balanced\\', \\n                kernel = grid.best_params_[\\'classifier__kernel\\'], \\n                degree = grid.best_params_[\\'classifier__degree\\'])\\n\\nestimator.fit(xtrain_scaled, y)\\npred = estimator.predict(xtest_scaled)\\nmake_submission(\"prediction_trial.csv\", pred)\\n'"
      ]
     },
     "execution_count": 202,
     "metadata": {},
     "output_type": "execute_result"
    }
   ],
   "source": [
    "'''\n",
    "might have to filter class 3 beforehand\n",
    "'''\n",
    "\n",
    "scorer_f1 = make_scorer(f1_score, greater_is_better=True, average='micro')\n",
    "\n",
    "#scaler = StandardScaler() \n",
    "#scaler.fit(X_sub)\n",
    "\n",
    "'''\n",
    "Gradient Boosting APPROACH -- GRID-SEARCH CV\n",
    "''' \n",
    "\n",
    "steps = [(\"scaler\", preprocessing.StandardScaler()), (\"classifier\", GradientBoostingClassifier())]\n",
    "pipeline = Pipeline(steps = steps)\n",
    "\n",
    "parameters = {\"classifier__max_depth\": [5,10,15,20,25,40,50,100],\n",
    "              \"classifier__n_estimators\": [100,200,300],\n",
    "              \"classifier__learning_rate\": [3,1,0.3,0.05,0.01],\n",
    "              \"classifier__max_features\": [20,40,60,80]\n",
    "             }\n",
    "\n",
    "grid = GridSearchCV(pipeline, parameters, cv = 2, scoring = scorer_f1, verbose = 1)\n",
    "\n",
    "grid.fit(X_sub, y_sub)\n",
    "print(grid.best_score_)\n",
    "print(grid.best_params_)\n",
    "\n",
    "\n",
    "'''\n",
    "## SVC APPROACH -- GRID-SEARCH CV\n",
    "\n",
    "steps = [(\"scaler\", preprocessing.StandardScaler()), (\"classifier\", SVC())]\n",
    "pipeline = Pipeline(steps = steps)\n",
    "\n",
    "parameters = {\"classifier__kernel\": [\"rbf\", \"poly\"],\n",
    "              \"classifier__gamma\": [\"auto\"],\n",
    "              \"classifier__C\": [15,30,45,60,75],  \n",
    "              \"classifier__class_weight\": [\"balanced\"],\n",
    "              \"classifier__degree\": [2,4,6,8]\n",
    "             }\n",
    "\n",
    "grid = GridSearchCV(pipeline, parameters, cv = 5, scoring = scorer_f1, verbose = 2)\n",
    "\n",
    "grid.fit(X, y)\n",
    "print(grid.best_score_)\n",
    "print(grid.best_params_)\n",
    "\n",
    "estimator = SVC(C = grid.best_params_['classifier__C'], gamma = 'auto', \n",
    "                class_weight = 'balanced', \n",
    "                kernel = grid.best_params_['classifier__kernel'], \n",
    "                degree = grid.best_params_['classifier__degree'])\n",
    "\n",
    "estimator.fit(xtrain_scaled, y)\n",
    "pred = estimator.predict(xtest_scaled)\n",
    "make_submission(\"prediction_trial.csv\", pred)\n",
    "'''"
   ]
  },
  {
   "cell_type": "code",
   "execution_count": null,
   "metadata": {},
   "outputs": [
    {
     "name": "stdout",
     "output_type": "stream",
     "text": [
      "Fitting 2 folds for each of 12 candidates, totalling 24 fits\n"
     ]
    },
    {
     "name": "stderr",
     "output_type": "stream",
     "text": [
      "[Parallel(n_jobs=1)]: Using backend SequentialBackend with 1 concurrent workers.\n"
     ]
    }
   ],
   "source": [
    "'''\n",
    "XGB APPROACH -- GRID-SEARCH CV\n",
    "'''\n",
    "import xgboost as xgb\n",
    "\n",
    "steps = [(\"scaler\", preprocessing.StandardScaler()), (\"classifier\", xgb.XGBClassifier())]\n",
    "pipeline = Pipeline(steps = steps)\n",
    "\n",
    "parameters = {\"classifier__max_depth\": [5,10,15],\n",
    "              \"classifier__n_estimators\": [200],\n",
    "              \"classifier__learning_rate\": [0.05,0.1],\n",
    "              \"classifier__max_features\": [20,40]\n",
    "             }\n",
    "\n",
    "grid = GridSearchCV(pipeline, parameters, cv = 2, scoring = scorer_f1, verbose = 1)\n",
    "\n",
    "grid.fit(X_sub, y_sub)\n",
    "print(grid.best_score_)\n",
    "print(grid.best_params_)"
   ]
  },
  {
   "cell_type": "markdown",
   "metadata": {},
   "source": [
    "# Make Submission"
   ]
  },
  {
   "cell_type": "code",
   "execution_count": 218,
   "metadata": {},
   "outputs": [],
   "source": [
    "scaler = StandardScaler() \n",
    "scaler.fit(X)\n",
    "x_train_scaled = scaler.transform(X)\n",
    "x_test_scaled = scaler.transform(X_test)\n",
    "\n",
    "estimator = GradientBoostingClassifier(n_estimators = grid.best_params_['classifier__n_estimators'], \n",
    "                                       max_depth = grid.best_params_['classifier__max_depth'],\n",
    "                                       learning_rate = grid.best_params_['classifier__learning_rate'], \n",
    "                                       max_features= grid.best_params_['classifier__max_features'])\n",
    "\n",
    "\n",
    "estimator.fit(xtrain_scaled, y)\n",
    "pred = estimator.predict(xtest_scaled)\n",
    "make_submission(\"prediction_trial.csv\", pred)"
   ]
  }
 ],
 "metadata": {
  "kernelspec": {
   "display_name": "Python 3",
   "language": "python",
   "name": "python3"
  },
  "language_info": {
   "codemirror_mode": {
    "name": "ipython",
    "version": 3
   },
   "file_extension": ".py",
   "mimetype": "text/x-python",
   "name": "python",
   "nbconvert_exporter": "python",
   "pygments_lexer": "ipython3",
   "version": "3.6.4"
  }
 },
 "nbformat": 4,
 "nbformat_minor": 2
}
