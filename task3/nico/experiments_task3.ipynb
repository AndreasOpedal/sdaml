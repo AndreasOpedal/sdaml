{
 "cells": [
  {
   "cell_type": "code",
   "execution_count": 114,
   "metadata": {},
   "outputs": [],
   "source": [
    "import pandas as pd \n",
    "import numpy as np \n",
    "import csv \n",
    "import seaborn as sb\n",
    "import warnings  \n",
    "warnings.filterwarnings('ignore')"
   ]
  },
  {
   "cell_type": "code",
   "execution_count": 125,
   "metadata": {},
   "outputs": [],
   "source": [
    "def load_data():\n",
    "    X_train = pd.read_csv(\"X_train.csv\")\n",
    "    X_test = pd.read_csv(\"X_test.csv\")\n",
    "    y_train = pd.read_csv(\"y_train.csv\")\n",
    "\n",
    "    #dropping id column\n",
    "    X_train = X_train.drop('id', axis = 1)\n",
    "    X_test = X_test.drop('id', axis = 1)\n",
    "    y_train = y_train.drop('id', axis = 1)\n",
    "    \n",
    "    #reshuffling data\n",
    "    X_train['y'] = y_train\n",
    "    X_train = X_train.sample(frac=1).reset_index(drop=True)\n",
    "    y_train = X_train['y']\n",
    "    X_train = X_train.drop('y', axis = 1)\n",
    "    \n",
    "    return X_train, X_test, y_train\n"
   ]
  },
  {
   "cell_type": "code",
   "execution_count": 126,
   "metadata": {},
   "outputs": [],
   "source": [
    "xtrain, xtest, ytrain = load_data()"
   ]
  },
  {
   "cell_type": "code",
   "execution_count": 127,
   "metadata": {},
   "outputs": [
    {
     "data": {
      "text/plain": [
       "\"\\nfrom the kernel density plot, we notice that the majority of series \\nstarts to show NaN's after the ~8500 index point. We will then first \\nattempt classification by truncating all the series at the 9000 \\ncolumn. We will then pad the series which present NaNs before the 9000\\ncolumns with the median of the other series. This is just a first trial.\\n\""
      ]
     },
     "execution_count": 127,
     "metadata": {},
     "output_type": "execute_result"
    },
    {
     "data": {
      "image/png": "[encoded data removed]",
      "text/plain": [
       "<Figure size 432x288 with 1 Axes>"
      ]
     },
     "metadata": {
      "needs_background": "light"
     },
     "output_type": "display_data"
    }
   ],
   "source": [
    "'''\n",
    "for each row in xtrain, find last indices of last non NaN values\n",
    "'''\n",
    "xtrain = xtrain.rename(columns={x:y for x,y in zip(xtrain.columns,range(0,len(xtrain.columns)))})\n",
    "last_valid_idx = []\n",
    "\n",
    "for i in range(0,xtrain.shape[0]):\n",
    "    row = xtrain.iloc[i,:]\n",
    "    idx = row.last_valid_index()\n",
    "    last_valid_idx = np.append(last_valid_idx, idx)\n",
    "\n",
    "ax = sb.kdeplot(last_valid_idx, shade=True, color=\"r\")\n",
    "\n",
    "'''\n",
    "from the kernel density plot, we notice that the majority of series \n",
    "starts to show NaN's after the ~8500 index point. We will then first \n",
    "attempt classification by truncating all the series at the 9000 \n",
    "column. We will then pad the series which present NaNs before the 9000\n",
    "columns with the median of the other series. This is just a first trial.\n",
    "'''"
   ]
  },
  {
   "cell_type": "code",
   "execution_count": 128,
   "metadata": {},
   "outputs": [],
   "source": [
    "'''\n",
    "truncate xtrain at 9000 columns and pad shorter series \n",
    "'''\n",
    "#note to self: load_data() reshiffles the data\n",
    "xtrain = xtrain.iloc[:,0:9000]\n",
    "\n",
    "\n",
    "\n"
   ]
  },
  {
   "cell_type": "code",
   "execution_count": null,
   "metadata": {},
   "outputs": [],
   "source": [
    "xtrain.head()"
   ]
  },
  {
   "cell_type": "code",
   "execution_count": 65,
   "metadata": {},
   "outputs": [
    {
     "data": {
      "text/plain": [
       "8307"
      ]
     },
     "execution_count": 65,
     "metadata": {},
     "output_type": "execute_result"
    }
   ],
   "source": [
    "len_series = []\n",
    "\n",
    "for i in range(xtrain.shape[0]):\n",
    "    len_series.append(len(xtrain[i,:]))\n",
    "pd.Series(len_series).describe()"
   ]
  }
 ],
 "metadata": {
  "kernelspec": {
   "display_name": "Python 3",
   "language": "python",
   "name": "python3"
  },
  "language_info": {
   "codemirror_mode": {
    "name": "ipython",
    "version": 3
   },
   "file_extension": ".py",
   "mimetype": "text/x-python",
   "name": "python",
   "nbconvert_exporter": "python",
   "pygments_lexer": "ipython3",
   "version": "3.7.3"
  }
 },
 "nbformat": 4,
 "nbformat_minor": 2
}
