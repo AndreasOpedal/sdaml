{
 "cells": [
  {
   "cell_type": "code",
   "execution_count": 3,
   "metadata": {},
   "outputs": [
    {
     "name": "stdout",
     "output_type": "stream",
     "text": [
      "Python: 3.6.4 |Anaconda, Inc.| (default, Jan 16 2018, 12:04:33) \n",
      "[GCC 4.2.1 Compatible Clang 4.0.1 (tags/RELEASE_401/final)]\n",
      "scipy: 1.3.1\n"
     ]
    }
   ],
   "source": [
    "%matplotlib inline\n",
    "import warnings\n",
    "warnings.filterwarnings('ignore')\n",
    "import sys\n",
    "print('Python: {}'.format(sys.version))\n",
    "\n",
    "import scipy\n",
    "print('scipy: {}'.format(scipy.__version__))\n",
    "\n",
    "import csv\n",
    "import numpy as np\n",
    "import sklearn\n",
    "from sklearn.metrics import mean_squared_error\n",
    "import pandas as pd\n",
    "from matplotlib import pyplot as plt\n",
    "import seaborn as sns\n",
    "from sklearn.preprocessing import StandardScaler\n",
    "from sklearn.preprocessing import OneHotEncoder\n",
    "from sklearn.preprocessing import LabelEncoder\n",
    "from sklearn.model_selection import cross_val_score\n",
    "from sklearn.model_selection import StratifiedKFold\n",
    "from sklearn.metrics import accuracy_score\n",
    "from sklearn.metrics import balanced_accuracy_score\n",
    "from sklearn.metrics import f1_score\n",
    "from sklearn.metrics import confusion_matrix\n",
    "from sklearn.metrics import classification_report\n",
    "from sklearn.gaussian_process import GaussianProcessClassifier\n",
    "from sklearn.gaussian_process.kernels import RBF\n",
    "from sklearn.neural_network import MLPClassifier\n",
    "from sklearn.decomposition import (PCA, LatentDirichletAllocation)\n",
    "from sklearn.discriminant_analysis import LinearDiscriminantAnalysis\n",
    "from sklearn.feature_selection import f_regression\n",
    "from sklearn.svm import SVC\n",
    "from sklearn.ensemble import (RandomForestClassifier, ExtraTreesClassifier, RandomForestRegressor, GradientBoostingClassifier )\n",
    "from sklearn.linear_model import LogisticRegression\n",
    "from sklearn import preprocessing\n",
    "from sklearn.pipeline import Pipeline, make_pipeline\n",
    "from sklearn.model_selection import KFold, GridSearchCV\n",
    "from sklearn.metrics import make_scorer\n",
    "\n",
    "\n",
    "import random as rn\n",
    "from biosppy.signals import (ecg, tools)\n",
    "import pywt\n",
    "from tqdm import tqdm_notebook as tqdm\n",
    "\n",
    "import math\n",
    "from itertools import product\n",
    "# ============= CONSTS =============\n",
    "TRAIN_FILE_PATH = \"X_train.csv\"\n",
    "TARGET_FILE_PATH =  \"y_train.csv\"\n",
    "TEST_FILE_PATH = \"X_test.csv\"\n",
    "SAMPLE_FILE_PATH = \"sample.csv\"\n",
    "\n",
    "seed = 42\n",
    "NUM_MAX_COLS = 18154\n",
    "SAMPLING_RATE=300\n",
    "USE_WAVE_LETS = False\n",
    "my_cols = [\"id\"] + [\"x\" + str(i) for i in range(NUM_MAX_COLS)]\n",
    "# ============= CONSTS =============\n",
    "\n",
    "np.random.seed(seed)\n",
    "rn.seed(seed)"
   ]
  },
  {
   "cell_type": "markdown",
   "metadata": {},
   "source": [
    "# Loadind Data"
   ]
  },
  {
   "cell_type": "code",
   "execution_count": 4,
   "metadata": {},
   "outputs": [],
   "source": [
    "xtrain = pd.read_csv(TRAIN_FILE_PATH, names=my_cols)[1:]\n",
    "xtrain.drop(\"id\", axis=1, inplace=True)\n",
    "\n",
    "ytrain = pd.read_csv(TARGET_FILE_PATH)\n",
    "ytrain.drop(\"id\", axis=1, inplace = True)\n",
    "\n",
    "xtest =  pd.read_csv(TEST_FILE_PATH, names=my_cols)[1:]\n",
    "id_test = xtest.columns[0]\n",
    "xtest.drop(\"id\", axis=1, inplace=True)\n"
   ]
  },
  {
   "cell_type": "markdown",
   "metadata": {},
   "source": [
    "# Define functions -- Submission and Feature Extraction"
   ]
  },
  {
   "cell_type": "code",
   "execution_count": 5,
   "metadata": {},
   "outputs": [],
   "source": [
    "def mean_sqrd_diff(rpeaks):\n",
    "    diff = np.diff(rpeaks)\n",
    "    mean_sqrd = np.mean(diff*diff)\n",
    "    \n",
    "    return mean_sqrd \n",
    "\n",
    "def make_submission(filename, predictions):\n",
    "    sample =  pd.read_csv(SAMPLE_FILE_PATH)\n",
    "    sample[\"y\"] = predictions\n",
    "    sample.to_csv(filename, index= False)\n",
    "\n",
    "def get_features_from_raw_qrs(signal, sampling_rate):\n",
    "    X = list()\n",
    "    ts, filtered, rpeaks, templates_ts, templates, heart_rate_ts, heart_rate = ecg.ecg(signal, sampling_rate, show = False)\n",
    "    \n",
    "    '''\n",
    "    Correct R-peak locations to the maximum within a tolerance\n",
    "    '''\n",
    "    rpeaks = ecg.correct_rpeaks(signal = signal, rpeaks=rpeaks, sampling_rate = sampling_rate, tol=0.01)  \n",
    "    \n",
    "    '''\n",
    "    extracting values of R-peaks -- Note: rpeaks gives only indices for R-peaks location\n",
    "    '''\n",
    "    peaks = signal[rpeaks]\n",
    "    \n",
    "    if len(heart_rate) < 2:\n",
    "        heart_rate = [0, 1]\n",
    "    if len(heart_rate_ts) < 2:\n",
    "        heart_rate_ts = [0, 1]\n",
    "           \n",
    "    X.append(np.mean(peaks))\n",
    "    X.append(np.min(peaks))\n",
    "    X.append(np.max(peaks))\n",
    "    X.append(np.std(peaks))\n",
    "    X.append(np.sqrt(mean_sqrd_diff(rpeaks)))        ## remove if results worsen\n",
    "    X.append(np.mean(np.diff(rpeaks)))\n",
    "    X.append(np.min(np.diff(rpeaks)))\n",
    "    X.append(np.max(np.diff(rpeaks)))\n",
    "    X.append(np.std(np.diff(rpeaks)))           \n",
    "    X.append(np.mean(heart_rate))\n",
    "    X.append(np.min(heart_rate))\n",
    "    X.append(np.max(heart_rate))\n",
    "    X.append(np.std(heart_rate))\n",
    "    X.append(np.mean(np.diff(heart_rate)))\n",
    "    X.append(np.min(np.diff(heart_rate)))\n",
    "    X.append(np.max(np.diff(heart_rate)))\n",
    "    X.append(np.std(np.diff(heart_rate)))\n",
    "    X.append(np.mean(np.diff(heart_rate_ts)))\n",
    "    X.append(np.min(np.diff(heart_rate_ts)))\n",
    "    X.append(np.min(np.diff(heart_rate_ts)))\n",
    "    X.append(np.max(np.diff(heart_rate_ts)))\n",
    "    X.append(np.std(np.diff(heart_rate_ts)))\n",
    "    X.append(np.sum(filtered-signal))\n",
    "    \n",
    "    X += list(np.mean(templates, axis=0))\n",
    "    X += list(np.abs(np.fft.rfft(np.mean(templates, axis=0), axis=0)))\n",
    "    X += list(np.min(templates, axis=0))\n",
    "    X += list(np.max(templates, axis=0))\n",
    "    X = np.array(X)\n",
    "    \n",
    "    X[np.isnan(X)] = 0\n",
    "    return X"
   ]
  },
  {
   "cell_type": "markdown",
   "metadata": {},
   "source": [
    "# Obtain features from raw signal"
   ]
  },
  {
   "cell_type": "code",
   "execution_count": 6,
   "metadata": {},
   "outputs": [
    {
     "data": {
      "application/vnd.jupyter.widget-view+json": {
       "model_id": "7a29f397cd0141999a013152d7b24d2f",
       "version_major": 2,
       "version_minor": 0
      },
      "text/html": [
       "<p>Failed to display Jupyter Widget of type <code>HBox</code>.</p>\n",
       "<p>\n",
       "  If you're reading this message in the Jupyter Notebook or JupyterLab Notebook, it may mean\n",
       "  that the widgets JavaScript is still loading. If this message persists, it\n",
       "  likely means that the widgets JavaScript library is either not installed or\n",
       "  not enabled. See the <a href=\"https://ipywidgets.readthedocs.io/en/stable/user_install.html\">Jupyter\n",
       "  Widgets Documentation</a> for setup instructions.\n",
       "</p>\n",
       "<p>\n",
       "  If you're reading this message in another frontend (for example, a static\n",
       "  rendering on GitHub or <a href=\"https://nbviewer.jupyter.org/\">NBViewer</a>),\n",
       "  it may mean that your frontend doesn't currently support widgets.\n",
       "</p>\n"
      ],
      "text/plain": [
       "HBox(children=(IntProgress(value=0, max=5117), HTML(value='')))"
      ]
     },
     "metadata": {},
     "output_type": "display_data"
    },
    {
     "name": "stdout",
     "output_type": "stream",
     "text": [
      "\n"
     ]
    },
    {
     "data": {
      "application/vnd.jupyter.widget-view+json": {
       "model_id": "8fd05e44c6364072a853027053dcf56d",
       "version_major": 2,
       "version_minor": 0
      },
      "text/html": [
       "<p>Failed to display Jupyter Widget of type <code>HBox</code>.</p>\n",
       "<p>\n",
       "  If you're reading this message in the Jupyter Notebook or JupyterLab Notebook, it may mean\n",
       "  that the widgets JavaScript is still loading. If this message persists, it\n",
       "  likely means that the widgets JavaScript library is either not installed or\n",
       "  not enabled. See the <a href=\"https://ipywidgets.readthedocs.io/en/stable/user_install.html\">Jupyter\n",
       "  Widgets Documentation</a> for setup instructions.\n",
       "</p>\n",
       "<p>\n",
       "  If you're reading this message in another frontend (for example, a static\n",
       "  rendering on GitHub or <a href=\"https://nbviewer.jupyter.org/\">NBViewer</a>),\n",
       "  it may mean that your frontend doesn't currently support widgets.\n",
       "</p>\n"
      ],
      "text/plain": [
       "HBox(children=(IntProgress(value=0, max=3411), HTML(value='')))"
      ]
     },
     "metadata": {},
     "output_type": "display_data"
    },
    {
     "name": "stdout",
     "output_type": "stream",
     "text": [
      "\n"
     ]
    }
   ],
   "source": [
    "features = list()\n",
    "sampling_rate = float(SAMPLING_RATE)\n",
    "for id in tqdm(range(xtrain.shape[0])):\n",
    "    signal = np.array(pd.to_numeric(xtrain.iloc[id].dropna()))\n",
    "    features.append(get_features_from_raw_qrs(signal, sampling_rate))\n",
    "    \n",
    "    \n",
    "X = np.array(features)\n",
    "y = np.ravel(np.array(ytrain.values))\n",
    "\n",
    "features_test = list()\n",
    "for id in tqdm(range(xtest.shape[0])):\n",
    "    signal = np.array(pd.to_numeric(xtest.iloc[id].dropna()))\n",
    "    features_test.append(get_features_from_raw_qrs(signal, sampling_rate))\n",
    "    \n",
    "X_test = np.array(features_test)"
   ]
  },
  {
   "cell_type": "markdown",
   "metadata": {},
   "source": [
    "# Model Selection "
   ]
  },
  {
   "cell_type": "code",
   "execution_count": 44,
   "metadata": {},
   "outputs": [
    {
     "name": "stdout",
     "output_type": "stream",
     "text": [
      "(4605,) (4605, 654)\n"
     ]
    }
   ],
   "source": [
    "'''\n",
    "create subset of initial dataframe X for model selection \n",
    "'''\n",
    "X = pd.DataFrame(X) \n",
    "X['y'] = y\n",
    "X_sub = pd.DataFrame(X).sample(frac = 0.90, replace = False, axis=0)\n",
    "y_sub = X_sub['y']\n",
    "X_sub = X_sub.drop('y', axis = 1).values\n",
    "print(y_sub.shape, X_sub.shape)"
   ]
  },
  {
   "cell_type": "code",
   "execution_count": 48,
   "metadata": {},
   "outputs": [
    {
     "name": "stdout",
     "output_type": "stream",
     "text": [
      "Fitting 3 folds for each of 5 candidates, totalling 15 fits\n",
      "[CV] classifier__C=10, classifier__class_weight=balanced, classifier__degree=1, classifier__gamma=auto, classifier__kernel=rbf \n"
     ]
    },
    {
     "name": "stderr",
     "output_type": "stream",
     "text": [
      "[Parallel(n_jobs=1)]: Using backend SequentialBackend with 1 concurrent workers.\n"
     ]
    },
    {
     "name": "stdout",
     "output_type": "stream",
     "text": [
      "[CV]  classifier__C=10, classifier__class_weight=balanced, classifier__degree=1, classifier__gamma=auto, classifier__kernel=rbf, total=   8.5s\n",
      "[CV] classifier__C=10, classifier__class_weight=balanced, classifier__degree=1, classifier__gamma=auto, classifier__kernel=rbf \n"
     ]
    },
    {
     "name": "stderr",
     "output_type": "stream",
     "text": [
      "[Parallel(n_jobs=1)]: Done   1 out of   1 | elapsed:    8.5s remaining:    0.0s\n"
     ]
    },
    {
     "name": "stdout",
     "output_type": "stream",
     "text": [
      "[CV]  classifier__C=10, classifier__class_weight=balanced, classifier__degree=1, classifier__gamma=auto, classifier__kernel=rbf, total=   8.2s\n",
      "[CV] classifier__C=10, classifier__class_weight=balanced, classifier__degree=1, classifier__gamma=auto, classifier__kernel=rbf \n",
      "[CV]  classifier__C=10, classifier__class_weight=balanced, classifier__degree=1, classifier__gamma=auto, classifier__kernel=rbf, total=   7.8s\n",
      "[CV] classifier__C=25, classifier__class_weight=balanced, classifier__degree=1, classifier__gamma=auto, classifier__kernel=rbf \n",
      "[CV]  classifier__C=25, classifier__class_weight=balanced, classifier__degree=1, classifier__gamma=auto, classifier__kernel=rbf, total=   7.5s\n",
      "[CV] classifier__C=25, classifier__class_weight=balanced, classifier__degree=1, classifier__gamma=auto, classifier__kernel=rbf \n",
      "[CV]  classifier__C=25, classifier__class_weight=balanced, classifier__degree=1, classifier__gamma=auto, classifier__kernel=rbf, total=   8.6s\n",
      "[CV] classifier__C=25, classifier__class_weight=balanced, classifier__degree=1, classifier__gamma=auto, classifier__kernel=rbf \n",
      "[CV]  classifier__C=25, classifier__class_weight=balanced, classifier__degree=1, classifier__gamma=auto, classifier__kernel=rbf, total=   8.2s\n",
      "[CV] classifier__C=50, classifier__class_weight=balanced, classifier__degree=1, classifier__gamma=auto, classifier__kernel=rbf \n",
      "[CV]  classifier__C=50, classifier__class_weight=balanced, classifier__degree=1, classifier__gamma=auto, classifier__kernel=rbf, total=   7.2s\n",
      "[CV] classifier__C=50, classifier__class_weight=balanced, classifier__degree=1, classifier__gamma=auto, classifier__kernel=rbf \n",
      "[CV]  classifier__C=50, classifier__class_weight=balanced, classifier__degree=1, classifier__gamma=auto, classifier__kernel=rbf, total=   7.3s\n",
      "[CV] classifier__C=50, classifier__class_weight=balanced, classifier__degree=1, classifier__gamma=auto, classifier__kernel=rbf \n",
      "[CV]  classifier__C=50, classifier__class_weight=balanced, classifier__degree=1, classifier__gamma=auto, classifier__kernel=rbf, total=   7.2s\n",
      "[CV] classifier__C=75, classifier__class_weight=balanced, classifier__degree=1, classifier__gamma=auto, classifier__kernel=rbf \n",
      "[CV]  classifier__C=75, classifier__class_weight=balanced, classifier__degree=1, classifier__gamma=auto, classifier__kernel=rbf, total=   7.3s\n",
      "[CV] classifier__C=75, classifier__class_weight=balanced, classifier__degree=1, classifier__gamma=auto, classifier__kernel=rbf \n",
      "[CV]  classifier__C=75, classifier__class_weight=balanced, classifier__degree=1, classifier__gamma=auto, classifier__kernel=rbf, total=   7.9s\n",
      "[CV] classifier__C=75, classifier__class_weight=balanced, classifier__degree=1, classifier__gamma=auto, classifier__kernel=rbf \n",
      "[CV]  classifier__C=75, classifier__class_weight=balanced, classifier__degree=1, classifier__gamma=auto, classifier__kernel=rbf, total=   7.9s\n",
      "[CV] classifier__C=100, classifier__class_weight=balanced, classifier__degree=1, classifier__gamma=auto, classifier__kernel=rbf \n",
      "[CV]  classifier__C=100, classifier__class_weight=balanced, classifier__degree=1, classifier__gamma=auto, classifier__kernel=rbf, total=   7.8s\n",
      "[CV] classifier__C=100, classifier__class_weight=balanced, classifier__degree=1, classifier__gamma=auto, classifier__kernel=rbf \n",
      "[CV]  classifier__C=100, classifier__class_weight=balanced, classifier__degree=1, classifier__gamma=auto, classifier__kernel=rbf, total=   9.1s\n",
      "[CV] classifier__C=100, classifier__class_weight=balanced, classifier__degree=1, classifier__gamma=auto, classifier__kernel=rbf \n",
      "[CV]  classifier__C=100, classifier__class_weight=balanced, classifier__degree=1, classifier__gamma=auto, classifier__kernel=rbf, total=   7.7s\n"
     ]
    },
    {
     "name": "stderr",
     "output_type": "stream",
     "text": [
      "[Parallel(n_jobs=1)]: Done  15 out of  15 | elapsed:  2.0min finished\n"
     ]
    },
    {
     "name": "stdout",
     "output_type": "stream",
     "text": [
      "Grid best scores and stats: 0.7424538545059718\n",
      "{'classifier__C': 10, 'classifier__class_weight': 'balanced', 'classifier__degree': 1, 'classifier__gamma': 'auto', 'classifier__kernel': 'rbf'}\n"
     ]
    }
   ],
   "source": [
    "'''\n",
    "might have to filter class 3 beforehand\n",
    "'''\n",
    "\n",
    "scorer_f1 = make_scorer(f1_score, greater_is_better=True, average='micro')\n",
    "\n",
    "#scaler = StandardScaler() \n",
    "#scaler.fit(X_sub)\n",
    "\n",
    "## SVC APPROACH -- GRID-SEARCH CV\n",
    "\n",
    "steps = [(\"scaler\", preprocessing.StandardScaler()), (\"classifier\", SVC())]\n",
    "pipeline = Pipeline(steps = steps)\n",
    "\n",
    "parameters = {\"classifier__kernel\": [\"rbf\"],\n",
    "              \"classifier__gamma\": [\"auto\"],\n",
    "              \"classifier__C\": [10, 25, 50, 75, 100],  \n",
    "              \"classifier__class_weight\": ['balanced'],\n",
    "              \"classifier__degree\": [1]\n",
    "             }\n",
    "\n",
    "grid = GridSearchCV(pipeline, parameters, cv = 3, scoring = scorer_f1, verbose = 2)\n",
    "\n",
    "grid.fit(X_sub, y_sub)\n",
    "print(\"Grid best scores and stats:\", grid.best_score_)\n",
    "print(grid.best_params_)\n",
    "\n",
    "estimator = SVC(C = grid.best_params_['classifier__C'], gamma = 'auto', \n",
    "                class_weight = 'balanced', \n",
    "                kernel = grid.best_params_['classifier__kernel'], \n",
    "                degree = grid.best_params_['classifier__degree'])\n",
    "\n",
    "# estimator.fit(xtrain_scaled, y)\n",
    "# pred = estimator.predict(xtest_scaled)\n",
    "# make_submission(\"prediction_trial.csv\", pred)"
   ]
  },
  {
   "cell_type": "code",
   "execution_count": 47,
   "metadata": {},
   "outputs": [],
   "source": [
    "scaler = StandardScaler() \n",
    "# scaler.fit(X)\n",
    "X.drop(\"y\", axis=1, inplace=True)\n",
    "x_train_scaled = scaler.fit_transform(X)\n",
    "x_test_scaled = scaler.fit_transform(X_test)\n",
    "estimator.fit(x_train_scaled, y)\n",
    "pred = estimator.predict(x_test_scaled)\n",
    "make_submission(\"prediction_trial_svm_2.csv\", pred)"
   ]
  },
  {
   "cell_type": "markdown",
   "metadata": {},
   "source": [
    "# Conclusion: SVM best score on CV found was 0.74, best score on public 0.77."
   ]
  },
  {
   "cell_type": "code",
   "execution_count": 37,
   "metadata": {},
   "outputs": [
    {
     "name": "stderr",
     "output_type": "stream",
     "text": [
      "[Parallel(n_jobs=1)]: Using backend SequentialBackend with 1 concurrent workers.\n"
     ]
    },
    {
     "name": "stdout",
     "output_type": "stream",
     "text": [
      "[CV]  ................................................................\n",
      "[CV] ................................................. , total=  12.4s\n",
      "[CV]  ................................................................\n"
     ]
    },
    {
     "name": "stderr",
     "output_type": "stream",
     "text": [
      "[Parallel(n_jobs=1)]: Done   1 out of   1 | elapsed:   12.4s remaining:    0.0s\n"
     ]
    },
    {
     "name": "stdout",
     "output_type": "stream",
     "text": [
      "[CV] ................................................. , total=  12.9s\n",
      "[CV]  ................................................................\n",
      "[CV] ................................................. , total=  12.5s\n",
      "RES: [0.76061493 0.76336996 0.7703595 ]\n"
     ]
    },
    {
     "name": "stderr",
     "output_type": "stream",
     "text": [
      "[Parallel(n_jobs=1)]: Done   3 out of   3 | elapsed:   37.7s finished\n"
     ]
    }
   ],
   "source": [
    "scorer_f1 = make_scorer(f1_score, greater_is_better=True, average='micro')\n",
    "'''\n",
    "Gradient Boosting APPROACH -- GRID-SEARCH CV\n",
    "''' \n",
    "\n",
    "steps = [(\"scaler\", preprocessing.StandardScaler()), (\"classifier\", GradientBoostingClassifier())]\n",
    "pipeline = Pipeline(steps = steps)\n",
    "\n",
    "# parameters = {\"classifier__max_depth\": [5,10,15,20,25,40,50,100],\n",
    "#               \"classifier__n_estimators\": [100,200,300],\n",
    "#               \"classifier__learning_rate\": [3,1,0.3,0.05,0.01],\n",
    "#               \"classifier__max_features\": [20,40,60,80]\n",
    "#              }\n",
    "\n",
    "# grid = GridSearchCV(pipeline, parameters, cv = 2, scoring = scorer_f1, verbose = 2,\n",
    "#                    fit_params={'classifier__sample_weight': w_array}) -> Returns error with fit params\n",
    "\n",
    "# Sample weights version!!\n",
    "\n",
    "parameters = {\"classifier__max_depth\": [5],\n",
    "              \"classifier__n_estimators\": [200],\n",
    "              \"classifier__learning_rate\": [0.05],\n",
    "              \"classifier__max_features\": [40]\n",
    "             }\n",
    "# Calculate the class_weight for the gradient booster\n",
    "from sklearn.utils import class_weight\n",
    "class_weights = list(class_weight.compute_class_weight('balanced',\n",
    "                                             np.unique(y_sub),\n",
    "                                             y_sub))\n",
    "w_array = np.ones(y_sub.shape[0], dtype = 'float')\n",
    "for i, val in enumerate(y_sub):\n",
    "    w_array[i] = class_weights[val-1]\n",
    "pipeline.set_params(classifier__max_depth = 5, classifier__n_estimators = 200,\n",
    "              classifier__learning_rate = 0.05, classifier__max_features = 40)\n",
    "\n",
    "res = cross_val_score(pipeline, X_sub, y_sub, cv=3, verbose=2, scoring=scorer_f1,\n",
    "                         fit_params={'classifier__sample_weight': w_array})\n",
    "\n",
    "\n",
    "\n",
    "\n",
    "# grid.fit(X_sub, y_sub)\n",
    "# print(grid.best_score_)\n",
    "# print(grid.best_params_)\n",
    "print(\"RES:\", res)\n",
    "\n",
    "# scaler = StandardScaler() \n",
    "# # scaler.fit(X)\n",
    "# x_train_scaled = scaler.fit_transform(X)\n",
    "# x_test_scaled = scaler.fit_transform(X_test)\n",
    "# estimator.fit(x_train_scaled, y)\n",
    "# pred = estimator.predict(x_test_scaled)\n",
    "# make_submission(\"prediction_trial_GBclassweight.csv\", pred)"
   ]
  },
  {
   "cell_type": "markdown",
   "metadata": {},
   "source": [
    "# Conclusion: Score is better without class weights, so do not use class weights. "
   ]
  },
  {
   "cell_type": "code",
   "execution_count": null,
   "metadata": {},
   "outputs": [],
   "source": [
    "# Try random forest:\n",
    "\n",
    "scorer_f1 = make_scorer(f1_score, greater_is_better=True, average='micro')\n",
    "'''\n",
    "Gradient Boosting APPROACH -- GRID-SEARCH CV\n",
    "''' \n",
    "\n",
    "steps = [(\"scaler\", preprocessing.StandardScaler()), (\"classifier\", ())]\n",
    "pipeline = Pipeline(steps = steps)\n",
    "\n",
    "# parameters = {\"classifier__max_depth\": [5,10,15,20,25,40,50,100],\n",
    "#               \"classifier__n_estimators\": [100,200,300],\n",
    "#               \"classifier__learning_rate\": [3,1,0.3,0.05,0.01],\n",
    "#               \"classifier__max_features\": [20,40,60,80]\n",
    "#              }\n",
    "\n",
    "# grid = GridSearchCV(pipeline, parameters, cv = 2, scoring = scorer_f1, verbose = 2,\n",
    "#                    fit_params={'classifier__sample_weight': w_array}) -> Returns error with fit params\n",
    "\n",
    "# Sample weights version!!\n",
    "\n",
    "parameters = {\"classifier__max_depth\": [5],\n",
    "              \"classifier__n_estimators\": [200],\n",
    "              \"classifier__learning_rate\": [0.05],\n",
    "              \"classifier__max_features\": [40]\n",
    "             }\n",
    "# Calculate the class_weight for the gradient booster\n",
    "from sklearn.utils import class_weight\n",
    "class_weights = list(class_weight.compute_class_weight('balanced',\n",
    "                                             np.unique(y_sub),\n",
    "                                             y_sub))\n",
    "w_array = np.ones(y_sub.shape[0], dtype = 'float')\n",
    "for i, val in enumerate(y_sub):\n",
    "    w_array[i] = class_weights[val-1]\n",
    "pipeline.set_params(classifier__max_depth = 5, classifier__n_estimators = 200,\n",
    "              classifier__learning_rate = 0.05, classifier__max_features = 40)\n",
    "\n",
    "res = cross_val_score(pipeline, X_sub, y_sub, cv=3, verbose=2, scoring=scorer_f1,\n",
    "                         fit_params={'classifier__sample_weight': w_array})\n",
    "\n",
    "\n",
    "\n",
    "\n",
    "# grid.fit(X_sub, y_sub)\n",
    "# print(grid.best_score_)\n",
    "# print(grid.best_params_)\n",
    "print(\"RES:\", res)\n",
    "\n",
    "# scaler = StandardScaler() \n",
    "# # scaler.fit(X)\n",
    "# x_train_scaled = scaler.fit_transform(X)\n",
    "# x_test_scaled = scaler.fit_transform(X_test)\n",
    "# estimator.fit(x_train_scaled, y)\n",
    "# pred = estimator.predict(x_test_scaled)\n",
    "# make_submission(\"prediction_trial_GBclassweight.csv\", pred)"
   ]
  },
  {
   "cell_type": "markdown",
   "metadata": {},
   "source": [
    "# Make Submission"
   ]
  },
  {
   "cell_type": "code",
   "execution_count": 218,
   "metadata": {},
   "outputs": [],
   "source": [
    "scaler = StandardScaler() \n",
    "scaler.fit(X)\n",
    "x_train_scaled = scaler.transform(X)\n",
    "x_test_scaled = scaler.transform(X_test)\n",
    "\n",
    "estimator = GradientBoostingClassifier(n_estimators = grid.best_params_['classifier__n_estimators'], \n",
    "                                       max_depth = grid.best_params_['classifier__max_depth'],\n",
    "                                       learning_rate = grid.best_params_['classifier__learning_rate'], \n",
    "                                       max_features= grid.best_params_['classifier__max_features'])\n",
    "\n",
    "\n",
    "estimator.fit(xtrain_scaled, y)\n",
    "pred = estimator.predict(xtest_scaled)\n",
    "make_submission(\"prediction_trial.csv\", pred)"
   ]
  }
 ],
 "metadata": {
  "kernelspec": {
   "display_name": "Python 3",
   "language": "python",
   "name": "python3"
  },
  "language_info": {
   "codemirror_mode": {
    "name": "ipython",
    "version": 3
   },
   "file_extension": ".py",
   "mimetype": "text/x-python",
   "name": "python",
   "nbconvert_exporter": "python",
   "pygments_lexer": "ipython3",
   "version": "3.6.4"
  }
 },
 "nbformat": 4,
 "nbformat_minor": 2
}
