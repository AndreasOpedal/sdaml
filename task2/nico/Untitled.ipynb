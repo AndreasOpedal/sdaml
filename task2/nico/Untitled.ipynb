{
 "cells": [
  {
   "cell_type": "markdown",
   "metadata": {},
   "source": [
    "XGBoost -- hyperparameter tuning and estmation of generalised error via CV"
   ]
  },
  {
   "cell_type": "code",
   "execution_count": 2,
   "metadata": {},
   "outputs": [
    {
     "name": "stderr",
     "output_type": "stream",
     "text": [
      "Using TensorFlow backend.\n"
     ]
    }
   ],
   "source": [
    "#import libraries\n",
    "from sklearn.feature_selection import SelectPercentile\n",
    "import numpy as np\n",
    "import pandas as pd\n",
    "from sklearn import linear_model\n",
    "from sklearn.model_selection import train_test_split\n",
    "from sklearn.metrics import r2_score\n",
    "# from sklearn import preprocessing\n",
    "from sklearn import neighbors\n",
    "from sklearn import feature_selection\n",
    "from sklearn.model_selection import KFold\n",
    "from sklearn.model_selection import cross_val_score\n",
    "from sklearn import ensemble\n",
    "from sklearn import neural_network\n",
    "from sklearn import svm\n",
    "from sklearn import kernel_ridge\n",
    "from sklearn.decomposition import KernelPCA\n",
    "from sklearn.feature_selection import RFECV\n",
    "import csv\n",
    "from sklearn.ensemble import RandomForestClassifier\n",
    "from sklearn.ensemble import IsolationForest\n",
    "from sklearn.feature_selection import SelectFromModel\n",
    "from sklearn.model_selection import KFold\n",
    "from sklearn.metrics import balanced_accuracy_score\n",
    "import xgboost as xgb\n",
    "from sklearn.cluster import DBSCAN\n",
    "from sklearn.utils import resample\n",
    "import warnings  \n",
    "warnings.filterwarnings('ignore')\n",
    "from imblearn.over_sampling import SMOTE\n",
    "from sklearn import svm\n",
    "from numpy import loadtxt\n",
    "import xgboost\n",
    "from sklearn.model_selection import KFold\n",
    "from sklearn.model_selection import cross_val_score\n",
    "from sklearn import linear_model\n",
    "from scipy import stats\n",
    "from xgboost import XGBClassifier\n",
    "from sklearn.model_selection import RandomizedSearchCV, KFold\n",
    "from bayes_opt import BayesianOptimization\n",
    "from imblearn.over_sampling import SMOTE\n",
    "import pandas as pd\n",
    "from sklearn import datasets, linear_model\n",
    "from sklearn.model_selection import train_test_split\n",
    "from matplotlib import pyplot as plt"
   ]
  },
  {
   "cell_type": "code",
   "execution_count": 3,
   "metadata": {},
   "outputs": [],
   "source": [
    "#define functions for loading data and producing final CSV \n",
    "\n",
    "'''\n",
    "eliminate highly correlated features\n",
    "'''\n",
    "def to_be_eliminated(df):\n",
    "    # Create correlation matrix\n",
    "    corr_matrix = df.corr().abs()\n",
    "    # Select upper triangle of correlation matrix\n",
    "    upper = corr_matrix.where(np.triu(np.ones(corr_matrix.shape), k=1).astype(np.bool))\n",
    "    # Find features with correlation greater than 0.95\n",
    "    to_drop = [column for column in upper.columns if any(upper[column] > 0.95)]\n",
    "    return to_drop\n",
    "\n",
    "'''\n",
    "loading training and test datasets\n",
    "'''\n",
    "def load_data():\n",
    "    X_train = pd.read_csv(\"X_train.csv\")\n",
    "    X_test = pd.read_csv(\"X_test.csv\")\n",
    "    y_train = pd.read_csv(\"y_train.csv\")\n",
    "     \n",
    "    #dropping id column\n",
    "    X_train = X_train.drop('id', axis = 1)\n",
    "    X_test = X_test.drop('id', axis = 1)\n",
    "    y_train = y_train.drop('id', axis = 1)\n",
    "   \n",
    "    #reshuffling data \n",
    "    X_train['y'] = y_train\n",
    "    X_train = X_train.sample(frac=1).reset_index(drop=True)\n",
    "    y_train = X_train['y']\n",
    "    X_train = X_train.drop('y', axis = 1)\n",
    "    \n",
    "    to_drop = to_be_eliminated(X_train)\n",
    "    \n",
    "    for i in range(len(to_drop)):\n",
    "        X_train = X_train.drop(to_drop[i], axis = 1)\n",
    "    \n",
    "    for i in range(len(to_drop)):\n",
    "        X_test = X_test.drop(to_drop[i], axis = 1)\n",
    "\n",
    "    return X_train, X_test, y_train\n",
    "\n",
    "\n",
    "'''\n",
    "produce submission file\n",
    "'''\n",
    "def produce_solution(y):\n",
    "    with open('out.csv', 'w', newline='') as csvfile:\n",
    "        writer = csv.writer(csvfile, delimiter=',', lineterminator=\"\\n\")\n",
    "        writer.writerow(['id', 'y'])\n",
    "        for i in range(y.shape[0]):\n",
    "            writer.writerow([float(i), y[i]])\n"
   ]
  },
  {
   "cell_type": "code",
   "execution_count": 4,
   "metadata": {},
   "outputs": [],
   "source": [
    "X_train_original, X_test_original, y_train_original = load_data()\n",
    "\n",
    "X_train, X_val, y_train, y_val = train_test_split(X_train_original, y_train_original, test_size=0.2, random_state=4)"
   ]
  },
  {
   "cell_type": "code",
   "execution_count": null,
   "metadata": {},
   "outputs": [],
   "source": []
  }
 ],
 "metadata": {
  "kernelspec": {
   "display_name": "Python 3",
   "language": "python",
   "name": "python3"
  },
  "language_info": {
   "codemirror_mode": {
    "name": "ipython",
    "version": 3
   },
   "file_extension": ".py",
   "mimetype": "text/x-python",
   "name": "python",
   "nbconvert_exporter": "python",
   "pygments_lexer": "ipython3",
   "version": "3.6.4"
  }
 },
 "nbformat": 4,
 "nbformat_minor": 2
}
