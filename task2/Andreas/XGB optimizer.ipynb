{
 "cells": [
  {
   "cell_type": "code",
   "execution_count": 1,
   "metadata": {
    "scrolled": true
   },
   "outputs": [
    {
     "name": "stdout",
     "output_type": "stream",
     "text": [
      "(4800, 1001)\n"
     ]
    },
    {
     "name": "stderr",
     "output_type": "stream",
     "text": [
      "/Users/andreasopedaleriksson/Applications/anaconda3/lib/python3.7/site-packages/sklearn/utils/validation.py:724: DataConversionWarning: A column-vector y was passed when a 1d array was expected. Please change the shape of y to (n_samples, ), for example using ravel().\n",
      "  y = column_or_1d(y, warn=True)\n"
     ]
    },
    {
     "name": "stdout",
     "output_type": "stream",
     "text": [
      "(10800, 1001)\n"
     ]
    }
   ],
   "source": [
    "import pandas as pd\n",
    "import numpy as np\n",
    "import xgboost as xgb\n",
    "from xgboost.sklearn import XGBClassifier\n",
    "from sklearn import model_selection, metrics   #Additional scklearn functions\n",
    "from sklearn.model_selection import GridSearchCV   #Perforing grid search\n",
    "from imblearn.over_sampling import SMOTE\n",
    "import matplotlib.pylab as plt\n",
    "%matplotlib inline\n",
    "from matplotlib.pylab import rcParams\n",
    "rcParams['figure.figsize'] = 12, 4\n",
    "\n",
    "xtrain = pd.read_csv(\"X_train.csv\")\n",
    "ytrain = pd.read_csv(\"Y_train.csv\")\n",
    "ytrain = ytrain.drop('id', axis = 1)\n",
    "print(xtrain.shape)\n",
    "sm = SMOTE(random_state=42)\n",
    "x_tmp, y_tmp = sm.fit_resample(xtrain.values, ytrain.values)\n",
    "xtrain = pd.DataFrame(x_tmp, columns = xtrain.columns)\n",
    "ytrain = pd.DataFrame(y_tmp, columns = ytrain.columns)\n",
    "\n",
    "xytrain = pd.concat([ytrain, xtrain], axis = 1).drop(\"id\", axis = 1)\n",
    "\n",
    "target = 'y'\n",
    "#IDcol = 'ID'\n",
    "\n",
    "xytrain.head()\n",
    "print(xytrain.shape)"
   ]
  },
  {
   "cell_type": "code",
   "execution_count": 4,
   "metadata": {},
   "outputs": [],
   "source": [
    "def modelfit(alg, dtrain, predictors, useTrainCV=True, cv_folds=5, early_stopping_rounds=50):\n",
    "    \n",
    "    if useTrainCV:\n",
    "        xgb_param = alg.get_xgb_params()\n",
    "        xgtrain = xgb.DMatrix(dtrain[predictors].values, label=dtrain[target].values)\n",
    "        #xgb_param['num_class'] = 3\n",
    "        cvresult = xgb.cv(xgb_param, xgtrain, num_boost_round=alg.get_params()['n_estimators'], nfold=cv_folds, \n",
    "                          metrics='mlogloss', early_stopping_rounds=early_stopping_rounds)\n",
    "        alg.set_params(n_estimators=cvresult.shape[0])\n",
    "    \n",
    "    #Fit the algorithm on the data\n",
    "    alg.fit(dtrain[predictors], dtrain['y'],eval_metric='mlogloss')\n",
    "        \n",
    "    #Predict training set:\n",
    "    dtrain_predictions = alg.predict(dtrain[predictors])\n",
    "    dtrain_predprob = alg.predict_proba(dtrain[predictors])[:,1]\n",
    "        \n",
    "    #Print model report:\n",
    "    print(\"\\nModel Report\")\n",
    "    print(\"BMAC : %.4g\" % metrics.balanced_accuracy_score(dtrain['y'].values, dtrain_predictions))\n",
    "    #print(\"AUC Score (Train): %f\" % metrics.balanced_accuracy_score(dtrain['y'], dtrain_predprob))\n",
    "                    \n",
    "    #feat_imp = pd.Series(alg.booster().get_fscore()).sort_values(ascending=False)\n",
    "    #feat_imp.plot(kind='bar', title='Feature Importances')\n",
    "    #plt.ylabel('Feature Importance Score')"
   ]
  },
  {
   "cell_type": "code",
   "execution_count": 5,
   "metadata": {},
   "outputs": [
    {
     "name": "stdout",
     "output_type": "stream",
     "text": [
      "\n",
      "Model Report\n",
      "BMAC : 0.9998\n"
     ]
    }
   ],
   "source": [
    "#Choose all predictors except target & IDcols\n",
    "predictors = [x for x in xytrain.columns if x not in [target]]\n",
    "xgb1 = XGBClassifier(\n",
    " learning_rate =0.15,\n",
    " n_estimators=100,\n",
    " max_depth=5,\n",
    " min_child_weight=1,\n",
    " gamma=0,\n",
    " subsample=0.8,\n",
    " colsample_bytree=0.8,\n",
    " objective= 'multi:softmax',\n",
    " num_class = 3,\n",
    " nthread=4,\n",
    " scale_pos_weight=1,\n",
    " seed=27)\n",
    "modelfit(xgb1, xytrain, predictors)"
   ]
  },
  {
   "cell_type": "code",
   "execution_count": 6,
   "metadata": {},
   "outputs": [
    {
     "ename": "AttributeError",
     "evalue": "'GridSearchCV' object has no attribute 'grid_scores_'",
     "output_type": "error",
     "traceback": [
      "\u001b[0;31m---------------------------------------------------------------------------\u001b[0m",
      "\u001b[0;31mAttributeError\u001b[0m                            Traceback (most recent call last)",
      "\u001b[0;32m<ipython-input-6-a01140a3031c>\u001b[0m in \u001b[0;36m<module>\u001b[0;34m\u001b[0m\n\u001b[1;32m      8\u001b[0m  param_grid = param_test1, scoring='balanced_accuracy',n_jobs=4,iid=False, cv=5)\n\u001b[1;32m      9\u001b[0m \u001b[0mgsearch1\u001b[0m\u001b[0;34m.\u001b[0m\u001b[0mfit\u001b[0m\u001b[0;34m(\u001b[0m\u001b[0mxytrain\u001b[0m\u001b[0;34m[\u001b[0m\u001b[0mpredictors\u001b[0m\u001b[0;34m]\u001b[0m\u001b[0;34m,\u001b[0m\u001b[0mxytrain\u001b[0m\u001b[0;34m[\u001b[0m\u001b[0mtarget\u001b[0m\u001b[0;34m]\u001b[0m\u001b[0;34m)\u001b[0m\u001b[0;34m\u001b[0m\u001b[0;34m\u001b[0m\u001b[0m\n\u001b[0;32m---> 10\u001b[0;31m \u001b[0mgsearch1\u001b[0m\u001b[0;34m.\u001b[0m\u001b[0mgrid_scores_\u001b[0m\u001b[0;34m,\u001b[0m \u001b[0mgsearch1\u001b[0m\u001b[0;34m.\u001b[0m\u001b[0mbest_params_\u001b[0m\u001b[0;34m,\u001b[0m \u001b[0mgsearch1\u001b[0m\u001b[0;34m.\u001b[0m\u001b[0mbest_score_\u001b[0m\u001b[0;34m\u001b[0m\u001b[0;34m\u001b[0m\u001b[0m\n\u001b[0m",
      "\u001b[0;31mAttributeError\u001b[0m: 'GridSearchCV' object has no attribute 'grid_scores_'"
     ]
    }
   ],
   "source": [
    "param_test1 = {\n",
    " 'max_depth':range(3,10,2),\n",
    " 'min_child_weight':range(1,6,2)\n",
    "}\n",
    "gsearch1 = GridSearchCV(estimator = XGBClassifier(learning_rate =0.1, n_estimators=140, max_depth=5,\n",
    " min_child_weight=1, gamma=0, subsample=0.8, colsample_bytree=0.8,\n",
    " objective= 'multi:softmax', num_class = 3, nthread=4, scale_pos_weight=1, seed=27), \n",
    " param_grid = param_test1, scoring='balanced_accuracy',n_jobs=4,iid=False, cv=5)\n",
    "gsearch1.fit(xytrain[predictors],xytrain[target])\n",
    "gsearch1.grid_scores_, gsearch1.best_params_, gsearch1.best_score_"
   ]
  },
  {
   "cell_type": "code",
   "execution_count": null,
   "metadata": {},
   "outputs": [],
   "source": [
    "## Optimal params: {'max_depth': 7, 'min_child_weight': 5}"
   ]
  },
  {
   "cell_type": "code",
   "execution_count": 8,
   "metadata": {
    "scrolled": true
   },
   "outputs": [
    {
     "data": {
      "text/plain": [
       "(0.9462037037037037,\n",
       " {'max_depth': 7, 'min_child_weight': 5},\n",
       " {'mean_fit_time': array([ 539.45602379,  549.57117367,  535.64925957,  779.42582097,\n",
       "          738.48789458,  715.42313094, 4503.30701294, 2161.07991161,\n",
       "         1021.99868579, 1240.68805761, 1034.32741885,  880.52029543]),\n",
       "  'std_fit_time': array([1.75628040e+00, 1.18815684e+01, 2.27919738e+01, 2.10825342e+01,\n",
       "         5.09489906e+00, 1.53672506e+01, 2.86613793e+03, 2.30126966e+03,\n",
       "         3.73201897e+01, 1.82343480e+01, 1.47393974e+01, 8.48312977e+01]),\n",
       "  'mean_score_time': array([0.58148122, 0.67184358, 0.62683125, 0.66654868, 0.68556409,\n",
       "         0.58713908, 0.79203739, 0.75007458, 0.86818013, 0.71188173,\n",
       "         0.49912047, 0.4001976 ]),\n",
       "  'std_score_time': array([0.05948082, 0.10158132, 0.06625349, 0.06038848, 0.08891179,\n",
       "         0.06003801, 0.08430719, 0.11541728, 0.11143985, 0.0904525 ,\n",
       "         0.07349947, 0.14358151]),\n",
       "  'param_max_depth': masked_array(data=[3, 3, 3, 5, 5, 5, 7, 7, 7, 9, 9, 9],\n",
       "               mask=[False, False, False, False, False, False, False, False,\n",
       "                     False, False, False, False],\n",
       "         fill_value='?',\n",
       "              dtype=object),\n",
       "  'param_min_child_weight': masked_array(data=[1, 3, 5, 1, 3, 5, 1, 3, 5, 1, 3, 5],\n",
       "               mask=[False, False, False, False, False, False, False, False,\n",
       "                     False, False, False, False],\n",
       "         fill_value='?',\n",
       "              dtype=object),\n",
       "  'params': [{'max_depth': 3, 'min_child_weight': 1},\n",
       "   {'max_depth': 3, 'min_child_weight': 3},\n",
       "   {'max_depth': 3, 'min_child_weight': 5},\n",
       "   {'max_depth': 5, 'min_child_weight': 1},\n",
       "   {'max_depth': 5, 'min_child_weight': 3},\n",
       "   {'max_depth': 5, 'min_child_weight': 5},\n",
       "   {'max_depth': 7, 'min_child_weight': 1},\n",
       "   {'max_depth': 7, 'min_child_weight': 3},\n",
       "   {'max_depth': 7, 'min_child_weight': 5},\n",
       "   {'max_depth': 9, 'min_child_weight': 1},\n",
       "   {'max_depth': 9, 'min_child_weight': 3},\n",
       "   {'max_depth': 9, 'min_child_weight': 5}],\n",
       "  'split0_test_score': array([0.83981481, 0.83842593, 0.84166667, 0.92314815, 0.92037037,\n",
       "         0.91712963, 0.92685185, 0.92777778, 0.92962963, 0.92685185,\n",
       "         0.92546296, 0.93148148]),\n",
       "  'split1_test_score': array([0.89259259, 0.89351852, 0.89675926, 0.94537037, 0.94768519,\n",
       "         0.94444444, 0.94768519, 0.95046296, 0.95324074, 0.94768519,\n",
       "         0.95185185, 0.95092593]),\n",
       "  'split2_test_score': array([0.89537037, 0.89444444, 0.88981481, 0.94212963, 0.93888889,\n",
       "         0.93518519, 0.94305556, 0.94583333, 0.9462963 , 0.94351852,\n",
       "         0.94768519, 0.94398148]),\n",
       "  'split3_test_score': array([0.90324074, 0.90277778, 0.89768519, 0.95046296, 0.94861111,\n",
       "         0.94583333, 0.95601852, 0.95277778, 0.95740741, 0.95601852,\n",
       "         0.9587963 , 0.95972222]),\n",
       "  'split4_test_score': array([0.89212963, 0.89444444, 0.89074074, 0.93564815, 0.93703704,\n",
       "         0.93703704, 0.94166667, 0.94305556, 0.94444444, 0.94490741,\n",
       "         0.94675926, 0.94305556]),\n",
       "  'mean_test_score': array([0.88462963, 0.88472222, 0.88333333, 0.93935185, 0.93851852,\n",
       "         0.93592593, 0.94305556, 0.94398148, 0.9462037 , 0.9437963 ,\n",
       "         0.94611111, 0.94583333]),\n",
       "  'std_test_score': array([0.02275857, 0.02339132, 0.02106761, 0.0094199 , 0.01017424,\n",
       "         0.01025481, 0.00952849, 0.00878898, 0.00951679, 0.00951769,\n",
       "         0.01116346, 0.00933763]),\n",
       "  'rank_test_score': array([11, 10, 12,  7,  8,  9,  6,  4,  1,  5,  2,  3], dtype=int32)})"
      ]
     },
     "execution_count": 8,
     "metadata": {},
     "output_type": "execute_result"
    }
   ],
   "source": [
    "gsearch1.best_score_, gsearch1.best_params_, gsearch1.cv_results_"
   ]
  },
  {
   "cell_type": "code",
   "execution_count": null,
   "metadata": {},
   "outputs": [],
   "source": [
    "param_test2 = {\n",
    " 'max_depth':[6,7,8],\n",
    " 'min_child_weight':[4,5,6]\n",
    "}\n",
    "gsearch2 = GridSearchCV(estimator = XGBClassifier(learning_rate=0.15, n_estimators=140, max_depth=5,\n",
    " min_child_weight=2, gamma=0, subsample=0.8, colsample_bytree=0.8,\n",
    " objective= 'multi:softmax', num_class = 3, nthread=4, scale_pos_weight=1,seed=27), \n",
    " param_grid = param_test2, scoring='balanced_accuracy',n_jobs=4,iid=False, cv=5)\n",
    "gsearch2.fit(xytrain[predictors],xytrain[target])\n",
    "gsearch2.best_score_, gsearch2.best_params_, gsearch2.cv_results_"
   ]
  },
  {
   "cell_type": "code",
   "execution_count": null,
   "metadata": {},
   "outputs": [],
   "source": []
  },
  {
   "cell_type": "code",
   "execution_count": null,
   "metadata": {},
   "outputs": [],
   "source": []
  }
 ],
 "metadata": {
  "kernelspec": {
   "display_name": "Python 3",
   "language": "python",
   "name": "python3"
  },
  "language_info": {
   "codemirror_mode": {
    "name": "ipython",
    "version": 3
   },
   "file_extension": ".py",
   "mimetype": "text/x-python",
   "name": "python",
   "nbconvert_exporter": "python",
   "pygments_lexer": "ipython3",
   "version": "3.7.3"
  }
 },
 "nbformat": 4,
 "nbformat_minor": 2
}
