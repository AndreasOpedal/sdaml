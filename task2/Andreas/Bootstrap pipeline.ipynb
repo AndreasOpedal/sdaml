{
 "cells": [
  {
   "cell_type": "code",
   "execution_count": 6,
   "metadata": {},
   "outputs": [],
   "source": [
    "import numpy as np\n",
    "import pandas as pd\n",
    "import matplotlib.pyplot as plt\n",
    "import seaborn as sns\n",
    "\n",
    "from sklearn.linear_model import LinearRegression\n",
    "from sklearn import preprocessing\n",
    "from sklearn.decomposition import PCA\n",
    "from sklearn.ensemble import RandomForestRegressor\n",
    "from sklearn.feature_selection import SelectFromModel\n",
    "from sklearn.cluster import DBSCAN\n",
    "from sklearn.model_selection import cross_val_score\n",
    "from sklearn.ensemble import RandomForestClassifier\n",
    "from sklearn.model_selection import KFold\n",
    "from sklearn.metrics import r2_score\n",
    "from sklearn.linear_model import Ridge\n",
    "from sklearn.svm import SVC\n",
    "from sklearn.metrics import balanced_accuracy_score\n",
    "from sklearn.ensemble import BaggingClassifier\n",
    "import xgboost as xgb\n",
    "from imblearn.over_sampling import SMOTE"
   ]
  },
  {
   "cell_type": "code",
   "execution_count": 7,
   "metadata": {},
   "outputs": [
    {
     "data": {
      "text/html": [
       "<div>\n",
       "<style scoped>\n",
       "    .dataframe tbody tr th:only-of-type {\n",
       "        vertical-align: middle;\n",
       "    }\n",
       "\n",
       "    .dataframe tbody tr th {\n",
       "        vertical-align: top;\n",
       "    }\n",
       "\n",
       "    .dataframe thead th {\n",
       "        text-align: right;\n",
       "    }\n",
       "</style>\n",
       "<table border=\"1\" class=\"dataframe\">\n",
       "  <thead>\n",
       "    <tr style=\"text-align: right;\">\n",
       "      <th></th>\n",
       "      <th>y</th>\n",
       "    </tr>\n",
       "  </thead>\n",
       "  <tbody>\n",
       "    <tr>\n",
       "      <th>0</th>\n",
       "      <td>1</td>\n",
       "    </tr>\n",
       "    <tr>\n",
       "      <th>1</th>\n",
       "      <td>0</td>\n",
       "    </tr>\n",
       "    <tr>\n",
       "      <th>2</th>\n",
       "      <td>1</td>\n",
       "    </tr>\n",
       "    <tr>\n",
       "      <th>3</th>\n",
       "      <td>1</td>\n",
       "    </tr>\n",
       "    <tr>\n",
       "      <th>4</th>\n",
       "      <td>1</td>\n",
       "    </tr>\n",
       "  </tbody>\n",
       "</table>\n",
       "</div>"
      ],
      "text/plain": [
       "   y\n",
       "0  1\n",
       "1  0\n",
       "2  1\n",
       "3  1\n",
       "4  1"
      ]
     },
     "execution_count": 7,
     "metadata": {},
     "output_type": "execute_result"
    }
   ],
   "source": [
    "xtrain = pd.read_csv(\"X_train.csv\")\n",
    "xtrain = xtrain.iloc[:, 1:]\n",
    "xtest = pd.read_csv(\"X_test.csv\")\n",
    "xtest = xtest.iloc[:, 1:]\n",
    "ytrain = pd.read_csv(\"Y_train.csv\")\n",
    "\n",
    "# Remove id from ytrain\n",
    "ytrain = ytrain.drop('id', axis = 1)\n",
    "ytrain.head()"
   ]
  },
  {
   "cell_type": "code",
   "execution_count": 8,
   "metadata": {
    "scrolled": true
   },
   "outputs": [
    {
     "ename": "SyntaxError",
     "evalue": "invalid syntax (<ipython-input-8-cb5a46e17e92>, line 4)",
     "output_type": "error",
     "traceback": [
      "\u001b[0;36m  File \u001b[0;32m\"<ipython-input-8-cb5a46e17e92>\"\u001b[0;36m, line \u001b[0;32m4\u001b[0m\n\u001b[0;31m    xgabb = pd.DataFrame(data = {: bootstrap_y.values}, index = bootstrap_y.index)\u001b[0m\n\u001b[0m                                 ^\u001b[0m\n\u001b[0;31mSyntaxError\u001b[0m\u001b[0;31m:\u001b[0m invalid syntax\n"
     ]
    }
   ],
   "source": [
    "sm = SMOTE(random_state=42)\n",
    "X_res, y_res = sm.fit_resample(xtrain.values, ytrain.values)\n",
    "\n",
    "xgabb = pd.DataFrame(data = {: bootstrap_y.values}, index = bootstrap_y.index)"
   ]
  },
  {
   "cell_type": "code",
   "execution_count": null,
   "metadata": {},
   "outputs": [],
   "source": [
    "def generate_bootstrap_sample(x_df, y_df):\n",
    "    xytrain = pd.concat([x_df, y_df], axis = 1).drop(\"id\", axis = 1)\n",
    "    bootstrap_sample = xytrain.sample(n = len(xytrain), replace = True)\n",
    "    bootstrap_x = bootstrap_sample.drop('y', axis = 1)\n",
    "    bootstrap_y = bootstrap_sample.loc[:,'y']\n",
    "    bootstrap_y = pd.DataFrame(data = {'y': bootstrap_y.values}, index = bootstrap_y.index)\n",
    "    return bootstrap_x, bootstrap_y"
   ]
  },
  {
   "cell_type": "code",
   "execution_count": 41,
   "metadata": {
    "scrolled": true
   },
   "outputs": [
    {
     "ename": "AttributeError",
     "evalue": "'numpy.ndarray' object has no attribute 'count'",
     "output_type": "error",
     "traceback": [
      "\u001b[0;31m---------------------------------------------------------------------------\u001b[0m",
      "\u001b[0;31mAttributeError\u001b[0m                            Traceback (most recent call last)",
      "\u001b[0;32m<ipython-input-41-fdda943615f7>\u001b[0m in \u001b[0;36m<module>\u001b[0;34m\u001b[0m\n\u001b[1;32m     33\u001b[0m \u001b[0;34m\u001b[0m\u001b[0m\n\u001b[1;32m     34\u001b[0m     \u001b[0;31m# Combine all bootstrap predictions (take max value of count)\u001b[0m\u001b[0;34m\u001b[0m\u001b[0;34m\u001b[0m\u001b[0;34m\u001b[0m\u001b[0m\n\u001b[0;32m---> 35\u001b[0;31m     \u001b[0mbagging_predictions\u001b[0m \u001b[0;34m=\u001b[0m \u001b[0mmax\u001b[0m\u001b[0;34m(\u001b[0m\u001b[0mset\u001b[0m\u001b[0;34m(\u001b[0m\u001b[0mpredictions\u001b[0m\u001b[0;34m)\u001b[0m\u001b[0;34m,\u001b[0m \u001b[0mkey\u001b[0m\u001b[0;34m=\u001b[0m\u001b[0mpredictions\u001b[0m\u001b[0;34m.\u001b[0m\u001b[0mcount\u001b[0m\u001b[0;34m)\u001b[0m\u001b[0;34m\u001b[0m\u001b[0;34m\u001b[0m\u001b[0m\n\u001b[0m\u001b[1;32m     36\u001b[0m \u001b[0;34m\u001b[0m\u001b[0m\n\u001b[1;32m     37\u001b[0m     \u001b[0;31m# Compute BMAC for bagging_predictions\u001b[0m\u001b[0;34m\u001b[0m\u001b[0;34m\u001b[0m\u001b[0;34m\u001b[0m\u001b[0m\n",
      "\u001b[0;31mAttributeError\u001b[0m: 'numpy.ndarray' object has no attribute 'count'"
     ]
    }
   ],
   "source": [
    "# Bootstrap pipeline CODE IN PROGRESS\n",
    "'''\n",
    "\n",
    "kf = KFold(n_splits=5, shuffle = True)\n",
    "\n",
    "BMAC_scores = np.array([])\n",
    "for train_index, test_index in kf.split(xtrain.values):\n",
    "    \n",
    "    x_train = xtrain.loc[train_index, :]\n",
    "    x_test = xtrain.loc[test_index, :]\n",
    "    \n",
    "    y_train = ytrain.loc[train_index, :]\n",
    "    y_test = ytrain.loc[test_index, :]\n",
    "    \n",
    "    no_of_bootstraps = 2\n",
    "    predictions = list()\n",
    "    for i in np.arange(no_of_bootstraps):\n",
    "        \n",
    "        # Generate bootstrap sample\n",
    "        bootstrap_x, bootstrap_y = generate_bootstrap_sample(x_train, y_train)\n",
    "        \n",
    "        # Scale the data\n",
    "        scaler = preprocessing.StandardScaler()\n",
    "        xtrain_scaled = scaler.fit_transform(bootstrap_x)\n",
    "        bootstrap_x = pd.DataFrame(xtrain_scaled, columns = bootstrap_x.columns)\n",
    "        \n",
    "        # Fit a support vector classifier\n",
    "        clf = SVC(gamma=1)\n",
    "        clf.fit(bootstrap_x, bootstrap_y.values.ravel())\n",
    "        \n",
    "        \n",
    "        # Predict on test fold and append to predictions\n",
    "        y_pred = clf.predict(x_test)\n",
    "        predictions = np.append(predictions, y_pred)\n",
    "    \n",
    "    # Combine all bootstrap predictions (take max value of count)\n",
    "    bagging_predictions = max(set(predictions), key=predictions.count)\n",
    "    \n",
    "    # Compute BMAC for bagging_predictions\n",
    "    BMAC = balanced_accuracy_score(y_test, bagging_predictions)\n",
    "    BMAC_scores = np.append(BMAC_scores, BMAC)\n",
    "'''       "
   ]
  },
  {
   "cell_type": "code",
   "execution_count": null,
   "metadata": {},
   "outputs": [
    {
     "name": "stderr",
     "output_type": "stream",
     "text": [
      "/anaconda3/lib/python3.6/site-packages/sklearn/utils/validation.py:724: DataConversionWarning: A column-vector y was passed when a 1d array was expected. Please change the shape of y to (n_samples, ), for example using ravel().\n",
      "  y = column_or_1d(y, warn=True)\n",
      "/anaconda3/lib/python3.6/site-packages/sklearn/utils/validation.py:724: DataConversionWarning: A column-vector y was passed when a 1d array was expected. Please change the shape of y to (n_samples, ), for example using ravel().\n",
      "  y = column_or_1d(y, warn=True)\n",
      "/anaconda3/lib/python3.6/site-packages/sklearn/utils/validation.py:724: DataConversionWarning: A column-vector y was passed when a 1d array was expected. Please change the shape of y to (n_samples, ), for example using ravel().\n",
      "  y = column_or_1d(y, warn=True)\n",
      "/anaconda3/lib/python3.6/site-packages/sklearn/utils/validation.py:724: DataConversionWarning: A column-vector y was passed when a 1d array was expected. Please change the shape of y to (n_samples, ), for example using ravel().\n",
      "  y = column_or_1d(y, warn=True)\n",
      "/anaconda3/lib/python3.6/site-packages/sklearn/utils/validation.py:724: DataConversionWarning: A column-vector y was passed when a 1d array was expected. Please change the shape of y to (n_samples, ), for example using ravel().\n",
      "  y = column_or_1d(y, warn=True)\n",
      "/anaconda3/lib/python3.6/site-packages/sklearn/utils/validation.py:724: DataConversionWarning: A column-vector y was passed when a 1d array was expected. Please change the shape of y to (n_samples, ), for example using ravel().\n",
      "  y = column_or_1d(y, warn=True)\n",
      "/anaconda3/lib/python3.6/site-packages/sklearn/utils/validation.py:724: DataConversionWarning: A column-vector y was passed when a 1d array was expected. Please change the shape of y to (n_samples, ), for example using ravel().\n",
      "  y = column_or_1d(y, warn=True)\n",
      "/anaconda3/lib/python3.6/site-packages/sklearn/utils/validation.py:724: DataConversionWarning: A column-vector y was passed when a 1d array was expected. Please change the shape of y to (n_samples, ), for example using ravel().\n",
      "  y = column_or_1d(y, warn=True)\n"
     ]
    }
   ],
   "source": [
    "# Bootstrap pipeline with bagging classifier\n",
    "\n",
    "kf = KFold(n_splits=5, shuffle = True)\n",
    "\n",
    "c_values = np.array([0.5, 0.8, 1, 1.5, 2, 3, 5, 8, 12])\n",
    "BMAC_means = np.array([])\n",
    "BMAC_stds = np.array([])\n",
    "for c in c_values:\n",
    "    BMAC_scores = np.array([])\n",
    "    for train_index, test_index in kf.split(xtrain.values):\n",
    "\n",
    "        x_train = xtrain.loc[train_index, :]\n",
    "        x_test = xtrain.loc[test_index, :]\n",
    "\n",
    "        y_train = ytrain.loc[train_index, :]\n",
    "        y_test = ytrain.loc[test_index, :]\n",
    "\n",
    "        # Handle class imbalance with smote function\n",
    "        sm = SMOTE(random_state=42)\n",
    "        x_train, y_train = sm.fit_resample(x_train.values, y_train.values) #x_train and y_train are now arrays\n",
    "\n",
    "        # Scale the data (should this be done for each bootstrap sample? in that case how)\n",
    "        scaler = preprocessing.StandardScaler()\n",
    "        x_train = scaler.fit_transform(x_train)\n",
    "        #x_train = pd.DataFrame(xtrain_scaled, columns = x_train.columns)\n",
    "        x_test = scaler.fit_transform(x_test)\n",
    "        #x_test = pd.DataFrame(xtest_scaled, columns = x_test.columns)\n",
    "\n",
    "        # Model to fit\n",
    "        estimator = SVC(C=c)\n",
    "        #estimator = xgb.XGBClassifier(objective=\"multi:softprob\", random_state=40)\n",
    "        '''\n",
    "        bagging = BaggingClassifier(base_estimator = estimator,\n",
    "                                   n_estimators = 20)\n",
    "        bagging.fit(x_train, y_train)\n",
    "        bagging_prediction = bagging.predict(x_test)\n",
    "        BMAC = balanced_accuracy_score(y_test, bagging_prediction)\n",
    "        '''\n",
    "        estimator.fit(x_train, y_train.ravel())\n",
    "        pred = estimator.predict(x_test)\n",
    "        BMAC = balanced_accuracy_score(y_test, pred)\n",
    "\n",
    "        BMAC_scores = np.append(BMAC_scores, BMAC)\n",
    "\n",
    "    BMAC_means = np.append(BMAC_means, np.mean(BMAC_scores))\n",
    "    BMAC_stds = np.append(BMAC_stds, np.std(BMAC_scores))\n",
    "    #print(BMAC_scores)\n",
    "    #print(np.mean(BMAC_scores))\n",
    "    #print(np.std(BMAC_scores))\n",
    "\n",
    "print(BMAC_means)\n",
    "print(BMAC_stds)"
   ]
  },
  {
   "cell_type": "code",
   "execution_count": 4,
   "metadata": {},
   "outputs": [
    {
     "name": "stderr",
     "output_type": "stream",
     "text": [
      "/anaconda3/lib/python3.6/site-packages/sklearn/utils/validation.py:724: DataConversionWarning: A column-vector y was passed when a 1d array was expected. Please change the shape of y to (n_samples, ), for example using ravel().\n",
      "  y = column_or_1d(y, warn=True)\n"
     ]
    }
   ],
   "source": [
    "# Pipeline on all training data and export to csv\n",
    "\n",
    "# Handle class imbalance with smote function\n",
    "sm = SMOTE(random_state=42)\n",
    "xtrain, ytrain = sm.fit_resample(xtrain.values, ytrain.values) #x_train and y_train are now arrays\n",
    "\n",
    "# Scale the data (should this be done for each bootstrap sample? in that case how)\n",
    "scaler = preprocessing.StandardScaler()\n",
    "xtrain = scaler.fit_transform(xtrain)\n",
    "#x_train = pd.DataFrame(xtrain_scaled, columns = x_train.columns)\n",
    "xtest = scaler.fit_transform(xtest)\n",
    "#x_test = pd.DataFrame(xtest_scaled, columns = x_test.columns)\n",
    "\n",
    "# Model to fit\n",
    "estimator = SVC()\n",
    "#estimator = xgb.XGBClassifier(objective=\"multi:softprob\", random_state=40)\n",
    "'''\n",
    "bagging = BaggingClassifier(base_estimator = estimator,\n",
    "n_estimators = 50)\n",
    "bagging.fit(x_train, y_train)\n",
    "bagging_prediction = bagging.predict(x_test)\n",
    "BMAC = balanced_accuracy_score(y_test, bagging_prediction)\n",
    "'''\n",
    "estimator.fit(xtrain, ytrain)\n",
    "y_pred = estimator.predict(xtest)\n",
    "\n",
    "index = pd.read_csv(\"sample.csv\")\n",
    "index['y'] = y_pred\n",
    "\n",
    "index.to_csv(\"predictionsSMOTESVM.csv\")"
   ]
  },
  {
   "cell_type": "code",
   "execution_count": 5,
   "metadata": {},
   "outputs": [
    {
     "name": "stdout",
     "output_type": "stream",
     "text": [
      "1.0263414634146342 0.6631696104189518\n"
     ]
    }
   ],
   "source": [
    "print(np.mean(y_pred), np.std(y_pred))"
   ]
  },
  {
   "cell_type": "raw",
   "metadata": {},
   "source": []
  }
 ],
 "metadata": {
  "kernelspec": {
   "display_name": "Python 3",
   "language": "python",
   "name": "python3"
  },
  "language_info": {
   "codemirror_mode": {
    "name": "ipython",
    "version": 3
   },
   "file_extension": ".py",
   "mimetype": "text/x-python",
   "name": "python",
   "nbconvert_exporter": "python",
   "pygments_lexer": "ipython3",
   "version": "3.6.4"
  }
 },
 "nbformat": 4,
 "nbformat_minor": 2
}
