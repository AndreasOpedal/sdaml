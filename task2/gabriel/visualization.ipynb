{
 "cells": [
  {
   "cell_type": "code",
   "execution_count": 1,
   "metadata": {},
   "outputs": [],
   "source": [
    "# Do all necessary preprocessing, calling prepro.py\n",
    "import utils\n",
    "from utils import *\n",
    "importlib.reload(utils)\n",
    "from utils import *"
   ]
  },
  {
   "cell_type": "code",
   "execution_count": 2,
   "metadata": {},
   "outputs": [],
   "source": [
    "# Load data\n",
    "X, X_test_original, y = load_data() \n",
    "y = y.ravel()\n",
    "scores = np.array([])\n",
    "xtrain = X  # For andreas cross validation\n",
    "ytrain = y"
   ]
  },
  {
   "cell_type": "markdown",
   "metadata": {},
   "source": [
    "# Visualize PCA contributions"
   ]
  },
  {
   "cell_type": "code",
   "execution_count": 3,
   "metadata": {},
   "outputs": [
    {
     "name": "stdout",
     "output_type": "stream",
     "text": [
      "Sizes X, y: (4800, 1000) (4800,)\n"
     ]
    },
    {
     "data": {
      "text/plain": [
       "Text(0.5,1,'Explained Variance Ratio')"
      ]
     },
     "execution_count": 3,
     "metadata": {},
     "output_type": "execute_result"
    },
    {
     "data": {
      "image/png": "[encoded data removed]",
      "text/plain": [
       "<matplotlib.figure.Figure at 0x114b50f60>"
      ]
     },
     "metadata": {},
     "output_type": "display_data"
    }
   ],
   "source": [
    "print(\"Sizes X, y:\", X.shape, y.shape)\n",
    "transformer = PCA(n_components=200)\n",
    "xpca = transformer.fit_transform(X)\n",
    "var_ratio = transformer.explained_variance_ratio_\n",
    "\n",
    "# Plot\n",
    "plt.figure()\n",
    "plt.plot(var_ratio, label=\"Explained var\")\n",
    "plt.plot(np.cumsum(var_ratio), label=\"Explained var sum\")\n",
    "plt.legend()\n",
    "plt.title(\"Explained Variance Ratio\")\n"
   ]
  },
  {
   "cell_type": "markdown",
   "metadata": {},
   "source": [
    "# Plot the variances of each column"
   ]
  },
  {
   "cell_type": "code",
   "execution_count": 18,
   "metadata": {},
   "outputs": [
    {
     "data": {
      "text/plain": [
       "Text(0.5,1,'Column Variance')"
      ]
     },
     "execution_count": 18,
     "metadata": {},
     "output_type": "execute_result"
    },
    {
     "data": {
      "image/png": "[encoded data removed]",
      "text/plain": [
       "<matplotlib.figure.Figure at 0x113aa3160>"
      ]
     },
     "metadata": {},
     "output_type": "display_data"
    }
   ],
   "source": [
    "# Plot\n",
    "plt.figure()\n",
    "plt.plot(np.sort(np.var(X, axis=0)), label=\"Col var\")\n",
    "plt.legend()\n",
    "plt.title(\"Column Variance\")"
   ]
  },
  {
   "cell_type": "markdown",
   "metadata": {},
   "source": [
    "# Now, do preprocessing, and then PCA"
   ]
  },
  {
   "cell_type": "code",
   "execution_count": 44,
   "metadata": {},
   "outputs": [],
   "source": [
    "def prepro(X_, y_, X_test=None, y_test=None, threshold=0.3, k=800, n_estimators=200):\n",
    "    if X_test is None:\n",
    "        X_test = np.zeros_like(X_)\n",
    "        y_test = np.zeros_like(y_)\n",
    "    print(\"Original sizes X, y:\", X_.shape, y_.shape)\n",
    "    # Remove low variance things\n",
    "    sel = VarianceThreshold(threshold=threshold)\n",
    "    sel.fit(X_)\n",
    "    X_highvar = sel.transform(X_)\n",
    "    X_test_highvar = sel.transform(X_test)\n",
    "    print(\"Size of X after removing low variance:\", X_highvar.shape)\n",
    "\n",
    "    # Standardize\n",
    "    scaler = preprocessing.StandardScaler()\n",
    "    X_std = scaler.fit_transform(X_highvar)\n",
    "    X_test_std = scaler.transform(X_test_highvar)\n",
    "\n",
    "    # Select top 800 using mutual info_classif o f_classif? \n",
    "    best = SelectKBest(mutual_info_classif, k=k)\n",
    "    X_new = best.fit_transform(X_std, y_)\n",
    "    X_test_new = best.transform(X_test_std)\n",
    "\n",
    "    # Outlier Detection\n",
    "    # Fit an isolation forest\n",
    "    clf = IsolationForest(n_estimators=n_estimators)\n",
    "    clf.fit(X_new)\n",
    "    clf.decision_function(X_new)\n",
    "    inlier_indices = np.where(clf.predict(X_new) == 1)[0]\n",
    "    print(\"Size of inliers:\", inlier_indices.shape)\n",
    "    X_inliers = X_new[inlier_indices]\n",
    "    y_inliers = y_[inlier_indices]\n",
    "    X_test_inliers = X_test_new # Do not remove outliers from test dataset\n",
    "    y_test_inliers = y_test\n",
    "    print(\"Inliers shapes:\", X_inliers.shape, y_inliers.shape)\n",
    "\n",
    "    # PCA\n",
    "    transformer = PCA(n_components=k)\n",
    "    xpca_train = transformer.fit_transform(X_inliers)\n",
    "    var_ratio_ = transformer.explained_variance_ratio_\n",
    "    xpca_test = transformer.fit_transform(X_test_inliers)\n",
    "    return X_inliers, y_inliers, X_test_inliers, y_test_inliers, var_ratio_\n",
    "\n",
    "# X_in, y_in, _, __, var_ratio = prepro(X, y, threshold=0.3, k=100, n_estimators=200)\n",
    "# # Plot\n",
    "# plt.figure()\n",
    "# plt.plot(var_ratio, label=\"Explained var\")\n",
    "# plt.plot(np.cumsum(var_ratio), label=\"Explained var sum\")\n",
    "# plt.legend()\n",
    "# plt.title(\"Explained Variance Ratio\")"
   ]
  },
  {
   "cell_type": "markdown",
   "metadata": {},
   "source": [
    "# Try training a Balanced SVM on this"
   ]
  },
  {
   "cell_type": "code",
   "execution_count": null,
   "metadata": {},
   "outputs": [
    {
     "name": "stdout",
     "output_type": "stream",
     "text": [
      "Original sizes X, y: (3840, 1000) (3840,)\n",
      "Size of X after removing low variance: (3840, 995)\n",
      "Size of inliers: (3456,)\n",
      "Inliers shapes: (3456, 300) (3456,)\n",
      "BMAC Score:  0.6742722930483708\n",
      "Original sizes X, y: (3840, 1000) (3840,)\n",
      "Size of X after removing low variance: (3840, 997)\n",
      "Size of inliers: (3456,)\n",
      "Inliers shapes: (3456, 300) (3456,)\n",
      "BMAC Score:  0.6712076263835397\n",
      "Original sizes X, y: (3840, 1000) (3840,)\n",
      "Size of X after removing low variance: (3840, 996)\n",
      "Size of inliers: (3456,)\n",
      "Inliers shapes: (3456, 300) (3456,)\n",
      "BMAC Score:  0.6601031278785694\n",
      "Original sizes X, y: (3840, 1000) (3840,)\n",
      "Size of X after removing low variance: (3840, 996)\n",
      "Size of inliers: (3456,)\n",
      "Inliers shapes: (3456, 300) (3456,)\n"
     ]
    }
   ],
   "source": [
    "# Try a nn Estimator with SMOTE\n",
    "\n",
    "kf = KFold(n_splits=5, shuffle = True)\n",
    "\n",
    "BMAC_means = np.array([])\n",
    "BMAC_stds = np.array([])\n",
    "BMAC_scores = np.array([])\n",
    "for train_index, test_index in kf.split(xtrain):\n",
    "\n",
    "    x_train = xtrain[train_index]\n",
    "    x_test = xtrain[test_index]\n",
    "\n",
    "    y_train = ytrain[train_index]\n",
    "    y_test = ytrain[test_index]\n",
    "\n",
    "    x_train, y_train, x_test, y_test, var_ratio = prepro(x_train, y_train, x_test, y_test, \n",
    "                                                        threshold=0.25, k=300, n_estimators=200)\n",
    "\n",
    "    # Model to fit\n",
    "    estimator = svm.SVC(class_weight='balanced')\n",
    "    estimator.fit(x_train, y_train.ravel())\n",
    "    pred = estimator.predict(x_test)\n",
    "    BMAC = balanced_accuracy_score(y_test, pred)\n",
    "\n",
    "    print(\"BMAC Score: \", BMAC)\n",
    "    BMAC_scores = np.append(BMAC_scores, BMAC)\n",
    "    \n",
    "#     train_sizes, train_scores, valid_scores = learning_curve(estimator, x_train, y_train, train_sizes=[50, 80, 110], cv=5)\n",
    "\n",
    "BMAC_means = np.append(BMAC_means, np.mean(BMAC_scores))\n",
    "BMAC_stds = np.append(BMAC_stds, np.std(BMAC_scores))\n",
    "#print(np.mean(BMAC_scores))\n",
    "#print(np.std(BMAC_scores))\n",
    "\n",
    "print(\"Scores:\", BMAC_scores)\n",
    "print(\"Mean Scores:\", BMAC_means)\n",
    "print(\"Std Scores:\", BMAC_stds)\n",
    "\n",
    "# Mean Scores: [0.67625076], cv=5:\n",
    "#    estimator = MLPClassifier(solver='lbfgs', alpha=1e-5,\n",
    "#                            hidden_layer_sizes=(150,150), random_state=1,\n",
    "#                             activation='relu', learning_rate='constant', beta_1=0.9, \n",
    "#                               beta_2=0.999, learning_rate_init=0.001\n",
    "#                           )\n",
    "\n",
    "#  Scores: [0.66639015 0.6848148  0.70958482 0.69875664 0.65585182]\n",
    "# Mean Scores: [0.68307965]\n",
    "# Std Scores: [0.01985546]\n",
    "    \n",
    "# estimator = MLPClassifier(solver='lbfgs', alpha=1e-5,\n",
    "#                        hidden_layer_sizes=(150,150), random_state=1,\n",
    "#                         activation='relu', learning_rate='invscaling', beta_1=0.9, \n",
    "#                           beta_2=0.999, learning_rate_init=0.001, early_stopping=True,\n",
    "#                           momentum=0.9, shuffle=True, epsilon=1e-08, \n",
    "\n",
    "#                       )"
   ]
  },
  {
   "cell_type": "code",
   "execution_count": null,
   "metadata": {},
   "outputs": [],
   "source": []
  }
 ],
 "metadata": {
  "kernelspec": {
   "display_name": "Python 3",
   "language": "python",
   "name": "python3"
  },
  "language_info": {
   "codemirror_mode": {
    "name": "ipython",
    "version": 3
   },
   "file_extension": ".py",
   "mimetype": "text/x-python",
   "name": "python",
   "nbconvert_exporter": "python",
   "pygments_lexer": "ipython3",
   "version": "3.6.4"
  }
 },
 "nbformat": 4,
 "nbformat_minor": 2
}
