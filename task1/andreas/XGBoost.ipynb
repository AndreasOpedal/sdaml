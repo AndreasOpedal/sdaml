{
 "cells": [
  {
   "cell_type": "code",
   "execution_count": 9,
   "metadata": {},
   "outputs": [],
   "source": [
    "import numpy as np\n",
    "import pandas as pd\n",
    "import matplotlib.pyplot as plt\n",
    "import seaborn as sns\n",
    "\n",
    "from sklearn.linear_model import LinearRegression\n",
    "from sklearn import preprocessing\n",
    "from sklearn.decomposition import PCA\n",
    "from sklearn.ensemble import RandomForestRegressor\n",
    "from sklearn.feature_selection import SelectFromModel\n",
    "from sklearn.cluster import DBSCAN\n",
    "from sklearn.model_selection import cross_val_score\n",
    "from sklearn.ensemble import RandomForestClassifier\n",
    "from sklearn.model_selection import KFold\n",
    "from sklearn.metrics import r2_score\n",
    "from sklearn.linear_model import Ridge, Lasso\n",
    "from sklearn import preprocessing\n",
    "import xgboost as xgb"
   ]
  },
  {
   "cell_type": "code",
   "execution_count": 10,
   "metadata": {},
   "outputs": [],
   "source": [
    "# Step 0: Load the proper csvs\n",
    "\n",
    "xtrain = pd.read_csv(\"X_train.csv\")\n",
    "xtrain = xtrain.iloc[:, 1:]\n",
    "xtest = pd.read_csv(\"X_test.csv\")\n",
    "xtest = xtest.iloc[:, 1:]\n",
    "ytrain = pd.read_csv(\"Y_train.csv\")"
   ]
  },
  {
   "cell_type": "code",
   "execution_count": 11,
   "metadata": {},
   "outputs": [],
   "source": [
    "# Step 1: Treat missing values\n",
    "# Treat missing values as column medians. Important (apparently) to use the medians from the training set in the test set\n",
    "\n",
    "xtrain = xtrain.fillna(xtrain.median())\n",
    "xtest = xtest.fillna(xtrain.median())"
   ]
  },
  {
   "cell_type": "code",
   "execution_count": 12,
   "metadata": {},
   "outputs": [],
   "source": [
    "# Step 2: Scale the training and test data\n",
    "\n",
    "scaler = preprocessing.StandardScaler()\n",
    "\n",
    "xtrain_scaled = scaler.fit_transform(xtrain)\n",
    "xtrain = pd.DataFrame(xtrain_scaled, columns = xtrain.columns)\n",
    "xtest_scaled = scaler.fit_transform(xtest)\n",
    "xtest = pd.DataFrame(xtest_scaled, columns = xtest.columns)"
   ]
  },
  {
   "cell_type": "code",
   "execution_count": 13,
   "metadata": {},
   "outputs": [],
   "source": [
    "# Step 3: Remove unnecessary id column from ytrain that just ***** things up\n",
    "\n",
    "ytrain1 = ytrain.loc[:, \"y\"]\n",
    "ytrain2 = pd.DataFrame(data = ytrain1.values, columns= ['y'])\n",
    "ytrain = ytrain2"
   ]
  },
  {
   "cell_type": "code",
   "execution_count": 6,
   "metadata": {},
   "outputs": [],
   "source": [
    "# Remove features with zero weight from Lasso\n",
    "\n",
    "clf = Lasso(alpha=0.3)\n",
    "clf.fit(xtrain, ytrain)\n",
    "\n",
    "features = (clf.coef_ != 0)\n",
    "\n",
    "xtrain = xtrain.loc[:, features]\n",
    "xtest = xtest.loc[:, features]"
   ]
  },
  {
   "cell_type": "code",
   "execution_count": 15,
   "metadata": {},
   "outputs": [
    {
     "name": "stderr",
     "output_type": "stream",
     "text": [
      "/Users/andreasopedaleriksson/Applications/anaconda3/lib/python3.7/site-packages/sklearn/feature_selection/from_model.py:196: DataConversionWarning: A column-vector y was passed when a 1d array was expected. Please change the shape of y to (n_samples,), for example using ravel().\n",
      "  self.estimator_.fit(X, y, **fit_params)\n"
     ]
    },
    {
     "name": "stdout",
     "output_type": "stream",
     "text": [
      "187\n"
     ]
    }
   ],
   "source": [
    "# Run random forest to select features\n",
    "\n",
    "sel = SelectFromModel(RandomForestClassifier(n_estimators = 100))\n",
    "sel.fit(xtrain, ytrain)\n",
    "sel.get_support()\n",
    "\n",
    "print(np.count_nonzero(sel.get_support()))\n",
    "\n",
    "selected_feat = xtrain.columns[(sel.get_support())]\n",
    "xtrain = xtrain.loc[:,selected_feat]\n",
    "xtest = xtest.loc[:,selected_feat]"
   ]
  },
  {
   "cell_type": "code",
   "execution_count": 16,
   "metadata": {},
   "outputs": [
    {
     "name": "stdout",
     "output_type": "stream",
     "text": [
      "1130\n"
     ]
    },
    {
     "data": {
      "text/plain": [
       "'\\n\\n# Outlier detection with local outlier factor\\nfrom sklearn.neighbors import LocalOutlierFactor\\n\\nclf = LocalOutlierFactor(n_neighbors=700, contamination=0.08)\\noutliers = clf.fit_predict(xtrain)\\n\\n# Remove outliers from xtrain and ytrain\\n\\n\\noutliers = outliers == 1\\nprint(np.count_nonzero(outliers))\\nxtrain = xtrain[outliers]\\nytrain = ytrain[outliers]\\n\\n'"
      ]
     },
     "execution_count": 16,
     "metadata": {},
     "output_type": "execute_result"
    }
   ],
   "source": [
    "\n",
    "\n",
    "\n",
    "# Do weird Andreas PCA thing\n",
    "\n",
    "from sklearn import decomposition\n",
    "import matplotlib.pyplot as plt\n",
    "pca = decomposition.PCA(n_components=2)\n",
    "principal_components = pca.fit_transform(xtrain)\n",
    "xpca = pd.DataFrame(data = principal_components, columns = ['PC1', 'PC2'])\n",
    "\n",
    "outliers = (xpca['PC1'] <= 9) & (xpca['PC1'] >= -8) & (xpca['PC2'] <= 7) & (xpca['PC2'] >= -7)\n",
    "print(np.count_nonzero(outliers))\n",
    "xtrain = xtrain[outliers]\n",
    "ytrain = ytrain[outliers]\n",
    "\n",
    "'''\n",
    "\n",
    "# Outlier detection with local outlier factor\n",
    "from sklearn.neighbors import LocalOutlierFactor\n",
    "\n",
    "clf = LocalOutlierFactor(n_neighbors=700, contamination=0.08)\n",
    "outliers = clf.fit_predict(xtrain)\n",
    "\n",
    "# Remove outliers from xtrain and ytrain\n",
    "\n",
    "\n",
    "outliers = outliers == 1\n",
    "print(np.count_nonzero(outliers))\n",
    "xtrain = xtrain[outliers]\n",
    "ytrain = ytrain[outliers]\n",
    "\n",
    "'''"
   ]
  },
  {
   "cell_type": "code",
   "execution_count": 17,
   "metadata": {},
   "outputs": [
    {
     "name": "stdout",
     "output_type": "stream",
     "text": [
      "[0.5843780393241074, 0.6051466512254278, 0.5792160005648814, 0.5884335370314853, 0.5796901589253641, 0.5812863890903672, 0.5939001075487136, 0.5952017494319561, 0.6037976861195885, 0.5999812160154778]\n",
      "[0.03406034733961235, 0.02788155696743091, 0.028884326591303754, 0.019336394503352606, 0.04207427197152635, 0.05610323858298973, 0.03471751035931504, 0.03270662885253892, 0.0434266791798503, 0.04002556940167263]\n",
      "0.5911031535277369\n",
      "0.03592165237495926\n"
     ]
    }
   ],
   "source": [
    "# k-fold cross validation evaluation of xgboost model\n",
    "\n",
    "from numpy import loadtxt\n",
    "import xgboost\n",
    "from sklearn.model_selection import KFold\n",
    "from sklearn.model_selection import cross_val_score\n",
    "from sklearn import linear_model\n",
    "from scipy import stats\n",
    "from xgboost import XGBClassifier\n",
    "from sklearn.model_selection import RandomizedSearchCV, KFold\n",
    "\n",
    "\n",
    "clf = xgb.XGBRegressor(objective=\"reg:squarederror\", random_state=42)\n",
    "\n",
    "\n",
    "\n",
    "cv_means = []\n",
    "cv_stds = []\n",
    "for i in np.arange(10):\n",
    "    scores = cross_val_score(estimator = clf,\n",
    "                                 X = xtrain,\n",
    "                                 y = ytrain,\n",
    "                                 scoring = 'r2',\n",
    "                                 cv = KFold(n_splits=5, shuffle = True))\n",
    "    cv_means.append(np.mean(scores))\n",
    "    cv_stds.append(np.std(scores))\n",
    "\n",
    "print(cv_means)\n",
    "print(cv_stds)\n",
    "print(np.mean(cv_means))\n",
    "print(np.mean(cv_stds))"
   ]
  },
  {
   "cell_type": "markdown",
   "metadata": {},
   "source": [
    "LOF 10 folds with 10 iterations:\n",
    "Mean of meanscores: 0.542\n",
    "Mean of stdscores: 0.0778\n",
    "Public score: \n",
    "\n",
    "Standard XGB 5 folds with 10 iterations:\n",
    "Mean of meanscores: 0.514\n",
    "Mean of stdscores: 0.0487\n",
    "Public score: 0.656859408726\n",
    "\n",
    "LOF XGB 5 folds with 10 iterations:\n",
    "Mean of meanscores: 0.534\n",
    "Mean of stdscores: 0.0491\n",
    "Public Score: 0.596\n",
    "\n",
    "PCA XGB 5 folds with 10 iterations:\n",
    "Mean of meanscores: 0.541\n",
    "Mean of stdscores: 0.0381\n",
    "Public score: 0.613\n",
    "\n",
    "Lasso feats XGB 5 folds with 10 iterations:\n",
    "Mean of meanscores: 0.529\n",
    "Mean of stdscores: 0.0489\n",
    "Public score: 0.621\n",
    "\n",
    "Lasso feats LOF XGB 5 folds with 10 iterations:\n",
    "Mean of meanscores: 0.571\n",
    "Mean of stdscores: 0.0287\n",
    "Public score: 0.628\n",
    "\n",
    "Lasso feats PCA XGB 5 folds with 10 iterations:\n",
    "Mean of meanscores: 0.642\n",
    "Mean of stdscores: 0.0307\n",
    "Public score: 0.650\n",
    "\n",
    "Random Forest (x3: 86 feats left) XGB 5 folds with 10 iterations:\n",
    "Mean of meanscores: 0.504\n",
    "Mean of stdscores: 0.0734\n",
    "Public score: \n",
    "\n",
    "Random Forest (x3: 96 feats left) LOF XGB 5 folds with 10 iterations:\n",
    "Mean of meanscores: 0.504\n",
    "Mean of stdscores: 0.0605\n",
    "Public score:\n",
    "\n",
    "Random Forest (x3: 80 feats left) PCA XGB 5 folds with 10 iterations:\n",
    "Mean of meanscores: 0.555\n",
    "Mean of stdscores: 0.0479\n",
    "Public score:\n",
    "\n",
    "Random Forest (x2: 187 feats left) PCA XGB 5 folds with 10 iterations:\n",
    "Mean of meanscores: 0.591\n",
    "Mean of stdscores: 0.0359\n",
    "Public score: 0.647"
   ]
  },
  {
   "cell_type": "code",
   "execution_count": 18,
   "metadata": {},
   "outputs": [],
   "source": [
    "# Save to csv\n",
    "\n",
    "clf = xgb.XGBRegressor(objective=\"reg:squarederror\", random_state=42)\n",
    "clf.fit(xtrain, ytrain)\n",
    "\n",
    "y_pred = clf.predict(xtest)\n",
    "\n",
    "index = pd.read_csv(\"sample.csv\")\n",
    "index['y'] = y_pred\n",
    "\n",
    "index.to_csv(\"predictionsRF2PCAXGB.csv\")"
   ]
  },
  {
   "cell_type": "code",
   "execution_count": null,
   "metadata": {},
   "outputs": [],
   "source": []
  }
 ],
 "metadata": {
  "kernelspec": {
   "display_name": "Python 3",
   "language": "python",
   "name": "python3"
  },
  "language_info": {
   "codemirror_mode": {
    "name": "ipython",
    "version": 3
   },
   "file_extension": ".py",
   "mimetype": "text/x-python",
   "name": "python",
   "nbconvert_exporter": "python",
   "pygments_lexer": "ipython3",
   "version": "3.6.4"
  }
 },
 "nbformat": 4,
 "nbformat_minor": 2
}
