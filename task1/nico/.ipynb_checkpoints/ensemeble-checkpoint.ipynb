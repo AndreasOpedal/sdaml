{
 "cells": [
  {
   "cell_type": "code",
   "execution_count": null,
   "metadata": {},
   "outputs": [],
   "source": [
    "import pandas as pd\n",
    "import matplotlib.pyplot as plt\n",
    "import seaborn as sns\n",
    "import numpy as np\n",
    "from sklearn.linear_model import LinearRegression\n",
    "from sklearn import preprocessing\n",
    "from sklearn.decomposition import PCA\n",
    "from sklearn.ensemble import RandomForestRegressor\n",
    "from sklearn.feature_selection import SelectFromModel\n",
    "from sklearn.cluster import DBSCAN\n",
    "from sklearn.model_selection import cross_val_score\n",
    "from sklearn.ensemble import RandomForestClassifier\n",
    "from sklearn.model_selection import KFold\n",
    "from sklearn.metrics import r2_score\n",
    "from sklearn.linear_model import Ridge\n",
    "from sklearn import preprocessing\n",
    "import xgboost as xgb"
   ]
  },
  {
   "cell_type": "code",
   "execution_count": null,
   "metadata": {},
   "outputs": [],
   "source": [
    "# Step 0: Load the proper csvs\n",
    "\n",
    "xtrain = pd.read_csv(\"X_train.csv\")\n",
    "xtrain = xtrain.iloc[:, 1:]\n",
    "xtest = pd.read_csv(\"X_test.csv\")\n",
    "xtest = xtest.iloc[:, 1:]\n",
    "ytrain = pd.read_csv(\"Y_train.csv\")"
   ]
  },
  {
   "cell_type": "code",
   "execution_count": null,
   "metadata": {},
   "outputs": [],
   "source": [
    "# Step 1: Treat missing values\n",
    "# Treat missing values as column medians. Important (apparently) to use the medians from the training set in the test set\n",
    "\n",
    "xtrain = xtrain.fillna(xtrain.median())\n",
    "xtest = xtest.fillna(xtrain.median())"
   ]
  },
  {
   "cell_type": "code",
   "execution_count": null,
   "metadata": {},
   "outputs": [],
   "source": [
    "# Step 2: Scale the training and test data\n",
    "\n",
    "scaler = preprocessing.StandardScaler()\n",
    "\n",
    "xtrain_scaled = scaler.fit_transform(xtrain)\n",
    "xtrain = pd.DataFrame(xtrain_scaled, columns = xtrain.columns)\n",
    "xtest_scaled = scaler.fit_transform(xtest)\n",
    "xtest = pd.DataFrame(xtest_scaled, columns = xtest.columns)"
   ]
  },
  {
   "cell_type": "code",
   "execution_count": null,
   "metadata": {},
   "outputs": [],
   "source": [
    "# Step 3: Remove unnecessary id column from ytrain that just ***** things up\n",
    "\n",
    "ytrain1 = ytrain.loc[:, \"y\"]\n",
    "ytrain2 = pd.DataFrame(data = ytrain1.values, columns= ['y'])\n",
    "ytrain = ytrain2"
   ]
  },
  {
   "cell_type": "code",
   "execution_count": null,
   "metadata": {},
   "outputs": [],
   "source": [
    "#reshuffling data\n",
    "\n",
    "xtrain['y'] = ytrain\n",
    "xtrain = xtrain.sample(frac=1).reset_index(drop=True)\n",
    "ytrain = xtrain['y']\n",
    "xtrain = xtrain.drop('y', axis = 1)"
   ]
  },
  {
   "cell_type": "code",
   "execution_count": null,
   "metadata": {},
   "outputs": [],
   "source": [
    "# Outlier detection with local outlier factor\n",
    "from sklearn.neighbors import LocalOutlierFactor\n",
    "\n",
    "clf = LocalOutlierFactor(n_neighbors=700, contamination=0.1)\n",
    "outliers = clf.fit_predict(xtrain)\n",
    "\n",
    "# Remove outliers from xtrain and ytrain\n",
    "\n",
    "\n",
    "outliers = outliers == 1\n",
    "print(np.count_nonzero(outliers))\n",
    "xtrain = xtrain[outliers]\n",
    "ytrain = ytrain[outliers]"
   ]
  },
  {
   "cell_type": "code",
   "execution_count": null,
   "metadata": {},
   "outputs": [],
   "source": [
    "'''\n",
    "\n",
    "#Feature selection  -- cross validated inside the loop below\n",
    "# option 1  \n",
    "from sklearn.feature_selection import SelectKBest\n",
    "from sklearn.feature_selection import mutual_info_regression\n",
    "k_best = 500\n",
    "xtrain = SelectKBest(mutual_info_regression, k=k_best).fit_transform(xtrain, ytrain)\n",
    "\n",
    "\n",
    "# option 2\n",
    "sel = SelectFromModel(RandomForestClassifier(n_estimators = 200))\n",
    "sel.fit(xtrain, ytrain)\n",
    "selected_feat = xtrain.columns[(sel.get_support())]\n",
    "xtrain = xtrain.loc[:,selected_feat]\n",
    "xtest = xtest.loc[:,selected_feat]\n",
    "'''\n"
   ]
  },
  {
   "cell_type": "code",
   "execution_count": null,
   "metadata": {},
   "outputs": [],
   "source": [
    "pd.DataFrame(xtrain).head()"
   ]
  },
  {
   "cell_type": "code",
   "execution_count": null,
   "metadata": {},
   "outputs": [],
   "source": [
    "from sklearn.linear_model import LinearRegression\n",
    "from sklearn.ensemble import RandomForestRegressor\n",
    "from sklearn.ensemble import VotingRegressor\n",
    "from sklearn.linear_model import LinearRegression\n",
    "from sklearn import linear_model\n",
    "\n",
    "folds = 10\n",
    "\n",
    "cv_mean_scores = []\n",
    "cv_stds = []\n",
    "estimators = np.array([100])\n",
    "alphas = np.array([0.01])\n",
    "mutual_features = np.array([50])\n",
    "max_depth = np.array([5, 10])\n",
    "\n",
    "\n",
    "\n",
    "for n in estimators:\n",
    "    for best in mutual_features:\n",
    "        for a in alphas: \n",
    "            for depth in max_depth: \n",
    "                \n",
    "                xtrain = SelectKBest(mutual_info_regression, k = best).fit_transform(xtrain, ytrain)\n",
    "                r1 = RandomForestRegressor(n_estimators= n, random_state = 42, max_depth= depth, bootstrap = True)\n",
    "                r2 = linear_model.Lasso(alpha= a)\n",
    "                r3 = xgb.XGBRegressor(objective  = \"reg:squarederror\", random_state = 42, n_estimators=200)\n",
    "                er = VotingRegressor([('rf', r1), ('lasso', r2), ('xgb', r3)])\n",
    "                scores = cross_val_score(estimator = er, X = xtrain,\n",
    "                                   y = ytrain, scoring = 'r2', cv = folds)\n",
    "                cv_mean_scores.append(np.mean(scores))   \n",
    "                cv_stds.append(np.std(scores))\n",
    "\n",
    "    \n",
    "print(cv_mean_scores)\n",
    "print(cv_stds)"
   ]
  },
  {
   "cell_type": "code",
   "execution_count": null,
   "metadata": {},
   "outputs": [],
   "source": [
    "cv_mean_scores"
   ]
  }
 ],
 "metadata": {
  "kernelspec": {
   "display_name": "Python 3",
   "language": "python",
   "name": "python3"
  },
  "language_info": {
   "codemirror_mode": {
    "name": "ipython",
    "version": 3
   },
   "file_extension": ".py",
   "mimetype": "text/x-python",
   "name": "python",
   "nbconvert_exporter": "python",
   "pygments_lexer": "ipython3",
   "version": "3.7.3"
  }
 },
 "nbformat": 4,
 "nbformat_minor": 2
}
