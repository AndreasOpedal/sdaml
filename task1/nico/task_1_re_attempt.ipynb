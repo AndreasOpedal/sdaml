{
 "cells": [
  {
   "cell_type": "code",
   "execution_count": 37,
   "metadata": {},
   "outputs": [],
   "source": [
    "import numpy as np\n",
    "import pandas as pd\n",
    "import matplotlib.pyplot as plt\n",
    "import seaborn as sns\n",
    "import warnings  \n",
    "import math\n",
    "import time\n",
    "import seaborn as sn\n",
    "\n",
    "from sklearn.datasets import fetch_mldata\n",
    "from sklearn.decomposition import PCA\n",
    "from sklearn.manifold import TSNE\n",
    "from sklearn.linear_model import Lasso\n",
    "from sklearn.linear_model import LinearRegression\n",
    "from sklearn import preprocessing\n",
    "from sklearn.decomposition import PCA\n",
    "from sklearn.preprocessing import StandardScaler\n",
    "from sklearn.metrics import r2_score\n",
    "from sklearn.model_selection import cross_val_score\n",
    "from sklearn.model_selection import LeaveOneOut\n",
    "from sklearn.linear_model import Ridge\n",
    "from sklearn.ensemble import IsolationForest\n",
    "from sklearn.feature_selection import SelectFromModel\n",
    "from sklearn.ensemble import RandomForestClassifier\n",
    "from sklearn.ensemble import RandomForestRegressor\n",
    "from sklearn.model_selection import cross_val_score\n",
    "from sklearn.model_selection import KFold\n",
    "from sklearn.svm import SVR\n",
    "from mpl_toolkits.mplot3d import Axes3D\n",
    "from sklearn import manifold\n",
    "\n",
    "\n",
    "\n",
    "warnings.filterwarnings('ignore')"
   ]
  },
  {
   "cell_type": "code",
   "execution_count": 116,
   "metadata": {},
   "outputs": [],
   "source": [
    "#load data\n",
    "\n",
    "x_train = pd.read_csv('X_train.csv')\n",
    "y_train = pd.read_csv('y_train.csv')\n",
    "x_train = x_train.drop('id', axis = 1)\n",
    "y_train = y_train.drop('id', axis = 1)\n",
    "\n",
    "x_test = pd.read_csv('X_test.csv')\n",
    "x_test =x_test.drop('id', axis = 1)\n",
    "\n",
    "#insert column medians instead of NaN's\n",
    "x_train = x_train.fillna(x_train.median())\n",
    "\n",
    "#x_train = pd.DataFrame(x_train, columns = x_train.columns) \n",
    "#note: x_train is now the rescaled original data"
   ]
  },
  {
   "cell_type": "markdown",
   "metadata": {},
   "source": [
    "Description: outlier detection via ISO Forest followed by feature sel and subseq random for regression "
   ]
  },
  {
   "cell_type": "code",
   "execution_count": 117,
   "metadata": {},
   "outputs": [],
   "source": [
    "#rescale data \n",
    "scaler = StandardScaler()\n",
    "x_train_rescaled = scaler.fit_transform(x_train)\n",
    "x_train = pd.DataFrame(x_train_rescaled, columns = x_train.columns) \n",
    "#x_train.head()"
   ]
  },
  {
   "cell_type": "code",
   "execution_count": 46,
   "metadata": {},
   "outputs": [],
   "source": [
    "#outlier detection \n",
    "#method: IsolationForest\n",
    "\n",
    "to_model_columns = x_train.columns\n",
    "clf = IsolationForest(n_estimators=200, max_samples='auto', contamination=float(.12), \\\n",
    "                        max_features=0.5, bootstrap=False, n_jobs=-1, random_state=42, verbose=0)\n",
    "clf.fit(x_train[to_model_columns])\n",
    "\n",
    "pred = clf.predict(x_train[to_model_columns])\n",
    "x_train['anomaly'] = pred\n",
    "\n",
    "is_not_outlier = x_train['anomaly']==1\n",
    "##print(is_not_outlier)\n",
    "x_train_filter = x_train[is_not_outlier]\n",
    "x_train_filter = x_train_filter.drop('anomaly', axis = 1)\n",
    "y_train_filter = y_train[is_not_outlier]"
   ]
  },
  {
   "cell_type": "code",
   "execution_count": 47,
   "metadata": {},
   "outputs": [],
   "source": [
    "#feature selection\n",
    "\n",
    "sel = SelectFromModel(RandomForestClassifier(n_estimators = 200))\n",
    "sel.fit(x_train_filter, y_train_filter)\n",
    "selected_feat = x_train_filter.columns[(sel.get_support())]\n",
    "x_train_filter = x_train_filter.loc[:,selected_feat]\n",
    "x_test = x_test.loc[:,selected_feat]"
   ]
  },
  {
   "cell_type": "code",
   "execution_count": 49,
   "metadata": {},
   "outputs": [
    {
     "name": "stdout",
     "output_type": "stream",
     "text": [
      "Mean Validation score 0.4158163279627239\n",
      "Std Validation score 0.09655867424070073\n"
     ]
    }
   ],
   "source": [
    "#regression fit via ran For\n",
    "\n",
    "model = RandomForestRegressor(n_estimators = 200).fit(y = y_train_filter, X = x_train_filter)\n",
    "scores = cross_val_score(estimator = model, X = x_train_filter, y = y_train_filter,\n",
    "                         scoring = 'r2', cv = 10) \n",
    "print(\"Mean Validation score {}\".format(np.mean(scores)))\n",
    "print(\"Std Validation score {}\".format(np.std(scores)))"
   ]
  },
  {
   "cell_type": "markdown",
   "metadata": {},
   "source": [
    "Update: outlier detection via PCA (~90% of variance) followed by feature sel and subseq random for regression on orignal data with no outliers "
   ]
  },
  {
   "cell_type": "code",
   "execution_count": 118,
   "metadata": {},
   "outputs": [
    {
     "data": {
      "image/png": "[encoded data removed]",
      "text/plain": [
       "<Figure size 432x288 with 1 Axes>"
      ]
     },
     "metadata": {
      "needs_background": "light"
     },
     "output_type": "display_data"
    },
    {
     "name": "stdout",
     "output_type": "stream",
     "text": [
      "0.9065053608013854\n"
     ]
    }
   ],
   "source": [
    "#fit PCA on original rescaled data\n",
    "\n",
    "pca = PCA(n_components=440)\n",
    "x_train_pca = pca.fit_transform(x_train)\n",
    "x_pca = pd.DataFrame(data = x_train_pca)\n",
    "\n",
    "per_var = np.round(pca.explained_variance_ratio_ * 100, decimals=1)\n",
    "labels = ['PC' + str(x) for x in range(1, len(per_var) + 1)]\n",
    "plt.bar(x = range(1, len(per_var)+1), height=per_var, tick_label=labels)\n",
    "plt.ylabel('percentange of explained variance')\n",
    "plt.xlabel('principal component')\n",
    "plt.title('scree plot')\n",
    "plt.show()\n",
    "\n",
    "x_train_pca = pd.DataFrame(x_train_pca, columns = np.arange(440)) \n",
    "print(sum(pca.explained_variance_ratio_))"
   ]
  },
  {
   "cell_type": "code",
   "execution_count": 120,
   "metadata": {},
   "outputs": [],
   "source": [
    "#outlier detection \n",
    "#method: IsolationForest on PCA compressed data \n",
    "\n",
    "to_model_columns = x_train_pca.columns\n",
    "clf = IsolationForest(n_estimators = 200, max_samples='auto', contamination=float(.12), \\\n",
    "                        max_features=0.8, bootstrap=False, n_jobs=-1, random_state=42, verbose=0)\n",
    "clf.fit(x_train_pca[to_model_columns])\n",
    "\n",
    "pred = clf.predict(x_train_pca[to_model_columns])\n",
    "x_train_pca['anomaly'] = pred\n",
    "\n",
    "is_not_outlier = x_train_pca['anomaly']==1\n",
    "##print(is_not_outlier)\n",
    "x_train_filter = x_train[is_not_outlier]\n",
    "y_train_filter = y_train[is_not_outlier]"
   ]
  },
  {
   "cell_type": "code",
   "execution_count": 114,
   "metadata": {},
   "outputs": [],
   "source": [
    "#feature selection \n",
    "\n",
    "sel = SelectFromModel(RandomForestClassifier(n_estimators = 200))\n",
    "sel.fit(x_train_filter, y_train_filter)\n",
    "selected_feat = x_train_filter.columns[(sel.get_support())]\n",
    "x_train_filter = x_train_filter.loc[:,selected_feat]\n",
    "x_test = x_test.loc[:,selected_feat]"
   ]
  },
  {
   "cell_type": "code",
   "execution_count": 115,
   "metadata": {},
   "outputs": [
    {
     "name": "stdout",
     "output_type": "stream",
     "text": [
      "Mean Validation score 0.4785508242131611\n",
      "Std Validation score 0.07864986821730291\n"
     ]
    }
   ],
   "source": [
    "#regression fit via ran For\n",
    "\n",
    "model = RandomForestRegressor(n_estimators = 200).fit(y = y_train_filter, X = x_train_filter)\n",
    "scores = cross_val_score(estimator = model, X = x_train_filter, y = y_train_filter,\n",
    "                         scoring = 'r2', cv = 10) \n",
    "print(\"Mean Validation score {}\".format(np.mean(scores)))\n",
    "print(\"Std Validation score {}\".format(np.std(scores)))"
   ]
  },
  {
   "cell_type": "markdown",
   "metadata": {},
   "source": [
    "Update: rescale data, perform PCA, remove outliers from original unscaled via IS forest, take log of original filtered data, do feature selection, fit model (rand For)"
   ]
  },
  {
   "cell_type": "code",
   "execution_count": 171,
   "metadata": {},
   "outputs": [],
   "source": [
    "#load data\n",
    "\n",
    "x_train = pd.read_csv('X_train.csv')\n",
    "y_train = pd.read_csv('y_train.csv')\n",
    "x_train = x_train.drop('id', axis = 1)\n",
    "y_train = y_train.drop('id', axis = 1)\n",
    "\n",
    "x_test = pd.read_csv('X_test.csv')\n",
    "x_test =x_test.drop('id', axis = 1)\n",
    "\n",
    "#insert column medians instead of NaN's\n",
    "x_train = x_train.fillna(x_train.median())\n",
    "\n",
    "is_positive = (x_train > 0).all(axis = 0)\n",
    "columns_positive = x_train.columns[is_positive.values]\n",
    "x_train = x_train.loc[:,columns_positive]\n",
    "\n",
    "#rescale data \n",
    "scaler = StandardScaler()\n",
    "x_train_rescaled = scaler.fit_transform(x_train)\n",
    "x_train_rescaled = pd.DataFrame(x_train_rescaled, columns = x_train.columns) \n",
    "#x_train.head()"
   ]
  },
  {
   "cell_type": "code",
   "execution_count": 172,
   "metadata": {},
   "outputs": [
    {
     "data": {
      "image/png": "[encoded data removed]",
      "text/plain": [
       "<Figure size 432x288 with 1 Axes>"
      ]
     },
     "metadata": {
      "needs_background": "light"
     },
     "output_type": "display_data"
    },
    {
     "name": "stdout",
     "output_type": "stream",
     "text": [
      "0.9073149522318885\n"
     ]
    }
   ],
   "source": [
    "#fit PCA on original rescaled data\n",
    "\n",
    "pca = PCA(n_components=440)\n",
    "x_train_pca = pca.fit_transform(x_train_rescaled)\n",
    "x_pca = pd.DataFrame(data = x_train_pca)\n",
    "\n",
    "per_var = np.round(pca.explained_variance_ratio_ * 100, decimals=1)\n",
    "labels = ['PC' + str(x) for x in range(1, len(per_var) + 1)]\n",
    "plt.bar(x = range(1, len(per_var)+1), height=per_var, tick_label=labels)\n",
    "plt.ylabel('percentange of explained variance')\n",
    "plt.xlabel('principal component')\n",
    "plt.title('scree plot')\n",
    "plt.show()\n",
    "\n",
    "x_train_pca = pd.DataFrame(x_train_pca, columns = np.arange(440)) \n",
    "print(sum(pca.explained_variance_ratio_))"
   ]
  },
  {
   "cell_type": "code",
   "execution_count": 173,
   "metadata": {},
   "outputs": [],
   "source": [
    "#outlier detection \n",
    "#method: IsolationForest on PCA compressed data \n",
    "\n",
    "to_model_columns = x_train_pca.columns\n",
    "clf = IsolationForest(n_estimators = 200, max_samples='auto', contamination=float(.12), \\\n",
    "                        max_features=0.8, bootstrap=False, n_jobs=-1, random_state=42, verbose=0)\n",
    "clf.fit(x_train_pca[to_model_columns])\n",
    "\n",
    "pred = clf.predict(x_train_pca[to_model_columns])\n",
    "x_train_pca['anomaly'] = pred\n",
    "\n",
    "is_not_outlier = x_train_pca['anomaly']==1\n",
    "##print(is_not_outlier)\n",
    "x_train_filter = x_train[is_not_outlier]\n",
    "y_train_filter = y_train[is_not_outlier]"
   ]
  },
  {
   "cell_type": "code",
   "execution_count": 174,
   "metadata": {},
   "outputs": [],
   "source": [
    "#take log of x_train_filter\n",
    "x_train_filter_log = x_train_filter.apply(np.log)\n",
    "scaler = StandardScaler()\n",
    "x_train_filter_log = scaler.fit_transform(x_train_filter_log)\n",
    "x_train_filter_log = pd.DataFrame(x_train_filter_log, columns = x_train.columns) "
   ]
  },
  {
   "cell_type": "code",
   "execution_count": 175,
   "metadata": {},
   "outputs": [],
   "source": [
    "#feature selection \n",
    "\n",
    "sel = SelectFromModel(RandomForestClassifier(n_estimators = 200))\n",
    "sel.fit(x_train_filter_log, y_train_filter)\n",
    "selected_feat = x_train_filter_log.columns[(sel.get_support())]\n",
    "x_train_filter_log = x_train_filter_log.loc[:,selected_feat]\n",
    "x_test = x_test.loc[:,selected_feat]"
   ]
  },
  {
   "cell_type": "code",
   "execution_count": 176,
   "metadata": {},
   "outputs": [
    {
     "name": "stdout",
     "output_type": "stream",
     "text": [
      "Mean Validation score 0.38359769789231524\n",
      "Std Validation score 0.0680996601225978\n"
     ]
    }
   ],
   "source": [
    "model = RandomForestRegressor(n_estimators = 200).fit(y = y_train_filter, X = x_train_filter_log)\n",
    "scores = cross_val_score(estimator = model, X = x_train_filter_log, y = y_train_filter,\n",
    "                         scoring = 'r2', cv = 10) \n",
    "print(\"Mean Validation score {}\".format(np.mean(scores)))\n",
    "print(\"Std Validation score {}\".format(np.std(scores)))"
   ]
  },
  {
   "cell_type": "code",
   "execution_count": null,
   "metadata": {},
   "outputs": [],
   "source": []
  },
  {
   "cell_type": "code",
   "execution_count": null,
   "metadata": {},
   "outputs": [],
   "source": []
  },
  {
   "cell_type": "code",
   "execution_count": null,
   "metadata": {},
   "outputs": [],
   "source": []
  },
  {
   "cell_type": "markdown",
   "metadata": {},
   "source": [
    "Update: rescale data, perform PCA, remove outliers from original unscaled via IS forest, take log of original filtered data, rescale data, do feature selection, fit model (rand For)"
   ]
  },
  {
   "cell_type": "code",
   "execution_count": null,
   "metadata": {},
   "outputs": [],
   "source": []
  },
  {
   "cell_type": "code",
   "execution_count": null,
   "metadata": {},
   "outputs": [],
   "source": []
  },
  {
   "cell_type": "code",
   "execution_count": null,
   "metadata": {},
   "outputs": [],
   "source": []
  },
  {
   "cell_type": "code",
   "execution_count": null,
   "metadata": {},
   "outputs": [],
   "source": []
  }
 ],
 "metadata": {
  "kernelspec": {
   "display_name": "Python 3",
   "language": "python",
   "name": "python3"
  },
  "language_info": {
   "codemirror_mode": {
    "name": "ipython",
    "version": 3
   },
   "file_extension": ".py",
   "mimetype": "text/x-python",
   "name": "python",
   "nbconvert_exporter": "python",
   "pygments_lexer": "ipython3",
   "version": "3.7.3"
  }
 },
 "nbformat": 4,
 "nbformat_minor": 2
}
