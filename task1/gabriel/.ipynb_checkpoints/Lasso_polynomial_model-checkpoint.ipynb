{
 "cells": [
  {
   "cell_type": "code",
   "execution_count": 122,
   "metadata": {},
   "outputs": [],
   "source": [
    "import pandas as pd\n",
    "import numpy as np\n",
    "from sklearn import preprocessing"
   ]
  },
  {
   "cell_type": "code",
   "execution_count": 123,
   "metadata": {},
   "outputs": [],
   "source": [
    "# Step 0: Load the proper csvs\n",
    "\n",
    "xtrain = pd.read_csv(\"X_train.csv\")\n",
    "xtrain = xtrain.iloc[:, 1:]\n",
    "xtest = pd.read_csv(\"X_test.csv\")\n",
    "xtest = xtest.iloc[:, 1:]\n",
    "ytrain = pd.read_csv(\"Y_train.csv\")"
   ]
  },
  {
   "cell_type": "code",
   "execution_count": 124,
   "metadata": {},
   "outputs": [],
   "source": [
    "# Step 1: Treat missing values\n",
    "# Treat missing values as column medians. Important (apparently) to use the medians from the training set in the test set\n",
    "\n",
    "xtrain = xtrain.fillna(xtrain.median())\n",
    "xtest = xtest.fillna(xtrain.median())"
   ]
  },
  {
   "cell_type": "code",
   "execution_count": 125,
   "metadata": {},
   "outputs": [],
   "source": [
    "# Step 2: Scale the training and test data\n",
    "\n",
    "scaler = preprocessing.StandardScaler()\n",
    "\n",
    "xtrain_scaled = scaler.fit_transform(xtrain)\n",
    "xtrain = pd.DataFrame(xtrain_scaled, columns = xtrain.columns)\n",
    "xtest_scaled = scaler.fit_transform(xtest)\n",
    "xtest = pd.DataFrame(xtest_scaled, columns = xtest.columns)"
   ]
  },
  {
   "cell_type": "code",
   "execution_count": 126,
   "metadata": {},
   "outputs": [],
   "source": [
    "# Step 3: Remove unnecessary id column from ytrain that just ***** things up\n",
    "\n",
    "ytrain1 = ytrain.loc[:, \"y\"]\n",
    "ytrain2 = pd.DataFrame(data = ytrain1.values, columns= ['y'])\n",
    "ytrain = ytrain2"
   ]
  },
  {
   "cell_type": "code",
   "execution_count": 127,
   "metadata": {},
   "outputs": [
    {
     "name": "stdout",
     "output_type": "stream",
     "text": [
      "((1212, 832), (1212, 94))\n"
     ]
    }
   ],
   "source": [
    "# Step 4: Select top K columns using LassoCV\n",
    "\n",
    "# Fit Lasso model on the data\n",
    "from sklearn import linear_model\n",
    "#reg = linear_model.LassoCV(n_alphas=10)\n",
    "reg = linear_model.Lasso(alpha=0.3)\n",
    "reg.fit(xtrain, ytrain)  \n",
    "#reg.predict(xtest)\n",
    "\n",
    "# Select top K features from Lasso\n",
    "from sklearn.feature_selection import SelectFromModel\n",
    "model = SelectFromModel(reg, prefit=True)\n",
    "xtrain_lasso = model.transform(xtrain)\n",
    "\n",
    "features = (reg.coef_ != 0)\n",
    "#xtest_lasso = model.transform(xtest)\n",
    "xtest_lasso = xtest.loc[:, features]\n",
    "print((xtrain.shape, xtrain_lasso.shape))\n"
   ]
  },
  {
   "cell_type": "code",
   "execution_count": 128,
   "metadata": {},
   "outputs": [
    {
     "data": {
      "text/plain": [
       "\"\\n\\n# Do weird Andreas PCA thing\\n\\nfrom sklearn import decomposition\\nimport matplotlib.pyplot as plt\\npca = decomposition.PCA(n_components=2)\\nprincipal_components = pca.fit_transform(xtrain_lasso)\\nxpca = pd.DataFrame(data = principal_components, columns = ['PC1', 'PC2'])\\n# Do weird Andreas PCA thing\\n\\nfrom sklearn import decomposition\\nimport matplotlib.pyplot as plt\\npca = decomposition.PCA(n_components=2)\\nprincipal_components = pca.fit_transform(xtrain_lasso)\\nxpca = pd.DataFrame(data = principal_components, columns = ['PC1', 'PC2'])\\n\\noutliers = (xpca['PC1'] <= 9) & (xpca['PC1'] >= -8) & (xpca['PC2'] <= 7) & (xpca['PC2'] >= -7)\\nprint(np.count_nonzero(outliers))\\nxtrain_without_outliers = xtrain_lasso[outliers]\\nytrain_without_outliers = ytrain[outliers]\\nxtrain_inliers = xtrain_without_outliers\\nytrain_inliers = ytrain_without_outliers\\n\\n\""
      ]
     },
     "execution_count": 128,
     "metadata": {},
     "output_type": "execute_result"
    }
   ],
   "source": [
    "\n",
    "\n",
    "# Do weird Andreas PCA thing\n",
    "\n",
    "from sklearn import decomposition\n",
    "import matplotlib.pyplot as plt\n",
    "pca = decomposition.PCA(n_components=2)\n",
    "principal_components = pca.fit_transform(xtrain_lasso)\n",
    "xpca = pd.DataFrame(data = principal_components, columns = ['PC1', 'PC2'])\n",
    "# Do weird Andreas PCA thing\n",
    "\n",
    "from sklearn import decomposition\n",
    "import matplotlib.pyplot as plt\n",
    "pca = decomposition.PCA(n_components=2)\n",
    "principal_components = pca.fit_transform(xtrain_lasso)\n",
    "xpca = pd.DataFrame(data = principal_components, columns = ['PC1', 'PC2'])\n",
    "\n",
    "outliers = (xpca['PC1'] <= 9) & (xpca['PC1'] >= -8) & (xpca['PC2'] <= 7) & (xpca['PC2'] >= -7)\n",
    "print(np.count_nonzero(outliers))\n",
    "xtrain_without_outliers = xtrain_lasso[outliers]\n",
    "ytrain_without_outliers = ytrain[outliers]\n",
    "xtrain_inliers = xtrain_without_outliers\n",
    "ytrain_inliers = ytrain_without_outliers\n",
    "\n"
   ]
  },
  {
   "cell_type": "code",
   "execution_count": 143,
   "metadata": {},
   "outputs": [],
   "source": [
    "#attempt with isaolation forest for outlier detection\n",
    "xtrain_lasso = pd.DataFrame(xtrain_lasso)\n",
    "to_model_columns = xtrain_lasso.columns\n",
    "clf = IsolationForest(n_estimators=500, max_samples='auto', contamination=float(.12), \\\n",
    "                        max_features=0.2, bootstrap=False, n_jobs=-1, random_state=42, verbose=0)\n",
    "clf.fit(xtrain_lasso[to_model_columns])\n",
    "\n",
    "pred = clf.predict(xtrain_lasso[to_model_columns])\n",
    "xtrain_lasso['anomaly'] = pred\n",
    "xtrain_lasso.drop(xtrain_lasso.columns[-1], axis = 1)\n",
    "xtrain_lasso.head()\n",
    "\n",
    "is_not_outlier = xtrain_lasso['anomaly']==1\n",
    "#print(is_not_outlier)\n",
    "xtrain_inliers = xtrain_lasso[is_not_outlier].drop('anomaly', axis = 1)\n",
    "ytrain_inliers = ytrain[is_not_outlier]"
   ]
  },
  {
   "cell_type": "code",
   "execution_count": 112,
   "metadata": {},
   "outputs": [
    {
     "data": {
      "text/plain": [
       "'\\n\\ndef to_be_eliminated(df):\\n    \\n    # Create correlation matrix\\n    corr_matrix = df.corr().abs()\\n\\n    # Select upper triangle of correlation matrix\\n    upper = corr_matrix.where(np.triu(np.ones(corr_matrix.shape), k=1).astype(np.bool))\\n\\n    # Find features with correlation greater than 0.95\\n    to_drop = [column for column in upper.columns if any(upper[column] > 0.90)]\\n\\n    return to_drop\\n\\nto_be_elim = to_be_eliminated(xtrain_poly)\\n\\n'"
      ]
     },
     "execution_count": 112,
     "metadata": {},
     "output_type": "execute_result"
    }
   ],
   "source": [
    "'''\n",
    "\n",
    "def to_be_eliminated(df):\n",
    "    \n",
    "    # Create correlation matrix\n",
    "    corr_matrix = df.corr().abs()\n",
    "\n",
    "    # Select upper triangle of correlation matrix\n",
    "    upper = corr_matrix.where(np.triu(np.ones(corr_matrix.shape), k=1).astype(np.bool))\n",
    "\n",
    "    # Find features with correlation greater than 0.95\n",
    "    to_drop = [column for column in upper.columns if any(upper[column] > 0.90)]\n",
    "\n",
    "    return to_drop\n",
    "\n",
    "to_be_elim = to_be_eliminated(xtrain_poly)\n",
    "\n",
    "'''"
   ]
  },
  {
   "cell_type": "code",
   "execution_count": 145,
   "metadata": {},
   "outputs": [
    {
     "name": "stdout",
     "output_type": "stream",
     "text": [
      "(1066, 4560)\n",
      "(776, 4560)\n"
     ]
    }
   ],
   "source": [
    "from sklearn.preprocessing import PolynomialFeatures\n",
    "poly = PolynomialFeatures(2)\n",
    "xtrain_poly = poly.fit_transform(xtrain_inliers)\n",
    "\n",
    "print(xtrain_poly.shape)\n",
    "\n",
    "# Create polynomial features for xtest\n",
    "poly = PolynomialFeatures(2)\n",
    "xtest_poly = poly.fit_transform(xtest_lasso)\n",
    "print(xtest_poly.shape)\n",
    "\n",
    "xtrain_poly = pd.DataFrame(xtrain_poly)\n"
   ]
  },
  {
   "cell_type": "code",
   "execution_count": null,
   "metadata": {},
   "outputs": [],
   "source": []
  },
  {
   "cell_type": "code",
   "execution_count": 146,
   "metadata": {},
   "outputs": [],
   "source": [
    "# Try Lasso to remove some of these\n",
    "#tune parameter via CV \n",
    "\n",
    "# Fit Lasso model on the data\n",
    "from sklearn import linear_model\n",
    "\n",
    "k = 5\n",
    "alphas = np.array([0, 0.01, 0.1, 0.2, 0.25, 0.26, 0.27, 0.28, 0.29, 0.3, 0.35, 0.4])\n",
    "\n",
    "cv_means = []\n",
    "cv_stds = []\n",
    "for a in alphas:\n",
    "    model= linear_model.Lasso(alpha = a, fit_intercept = False, normalize=False)\n",
    "    scores = cross_val_score(estimator = model,\n",
    "                             X = xtrain_poly,\n",
    "                             y = ytrain_inliers,\n",
    "                             scoring = 'r2',\n",
    "                             cv = k)\n",
    "    cv_means.append(np.mean(scores))\n",
    "    cv_stds.append(np.std(scores))"
   ]
  },
  {
   "cell_type": "code",
   "execution_count": 116,
   "metadata": {},
   "outputs": [
    {
     "data": {
      "text/plain": [
       "<ErrorbarContainer object of 3 artists>"
      ]
     },
     "execution_count": 116,
     "metadata": {},
     "output_type": "execute_result"
    },
    {
     "data": {
      "image/png": "[encoded data removed]",
      "text/plain": [
       "<Figure size 1152x432 with 1 Axes>"
      ]
     },
     "metadata": {
      "needs_background": "light"
     },
     "output_type": "display_data"
    }
   ],
   "source": [
    "fig, ax = plt.subplots(figsize=(16,6))\n",
    "ax.errorbar(x = alphas, y = cv_means, yerr = np.array(cv_stds)/math.sqrt(10), fmt='-o')"
   ]
  },
  {
   "cell_type": "markdown",
   "metadata": {},
   "source": [
    "ATTEMPT 1: REMOVE POLYNOMIAL FEATURES WITH LASSO "
   ]
  },
  {
   "cell_type": "code",
   "execution_count": 147,
   "metadata": {},
   "outputs": [
    {
     "name": "stdout",
     "output_type": "stream",
     "text": [
      "((1212, 832), (1066, 214))\n",
      "((1212, 832), (1066, 214))\n",
      "((776, 832), (776, 214))\n"
     ]
    }
   ],
   "source": [
    "# Fit Lasso model on the data\n",
    "from sklearn import linear_model\n",
    "reg = linear_model.Lasso(alpha=0.3)\n",
    "reg.fit(xtrain_poly, ytrain_inliers)  \n",
    "\n",
    "# Select top K features from Lasso\n",
    "from sklearn.feature_selection import SelectFromModel\n",
    "model = SelectFromModel(reg, prefit=True)\n",
    "xtrain_lasso_2 = model.transform(xtrain_poly)\n",
    "print((xtrain.shape, xtrain_lasso_2.shape))\n",
    "\n",
    "# Select top K features from xtest\n",
    "features = (reg.coef_ != 0)\n",
    "xtest_lasso_2 = pd.DataFrame(xtest_poly).iloc[:, features]\n",
    "print((xtrain.shape, xtrain_lasso_2.shape))\n",
    "print((xtest.shape, xtest_lasso_2.shape))\n"
   ]
  },
  {
   "cell_type": "code",
   "execution_count": 148,
   "metadata": {},
   "outputs": [
    {
     "name": "stdout",
     "output_type": "stream",
     "text": [
      "0.4260390419873276\n"
     ]
    }
   ],
   "source": [
    "# Step 7: Ridge Regression on this new xtrain\n",
    "\n",
    "# Ridge regression on this new xtrain\n",
    "# Try Lasso to remove some of these\n",
    "#tune parameter via CV \n",
    "\n",
    "# Step 7: Ridge Regression on this new xtrain\n",
    "\n",
    "# Ridge regression on this new xtrain\n",
    "#reg2 = linear_model.RidgeCV(alphas=(0.1, 0.25, 0.5, 1.0, 3.0, 10.0, 20.0))\n",
    "#reg2 = linear_model.LassoCV(cv=10, n_alphas=20)\n",
    "#reg2.fit(xtrain_lasso_2, ytrain_inliers)\n",
    "\n",
    "reg2 = linear_model.Lasso(alpha=0.3)\n",
    "\n",
    "# Check cross-val score\n",
    "from sklearn.model_selection import cross_val_score\n",
    "scores = cross_val_score(reg2, xtrain_lasso_2, ytrain_inliers, cv=30, scoring='r2')\n",
    "print(np.mean(scores))"
   ]
  },
  {
   "cell_type": "code",
   "execution_count": 149,
   "metadata": {},
   "outputs": [],
   "source": [
    "reg2.fit(xtrain_lasso_2, ytrain_inliers)\n",
    "predict = reg2.predict(X = xtest_lasso_2)\n",
    "index = pd.read_csv(\"sample.csv\")\n",
    "index['y'] = predict\n",
    "\n",
    "index.to_csv(\"trial.csv\")"
   ]
  },
  {
   "cell_type": "code",
   "execution_count": 121,
   "metadata": {},
   "outputs": [
    {
     "data": {
      "text/plain": [
       "41.07781748751473"
      ]
     },
     "execution_count": 121,
     "metadata": {},
     "output_type": "execute_result"
    }
   ],
   "source": [
    "min(predict)"
   ]
  },
  {
   "cell_type": "code",
   "execution_count": null,
   "metadata": {},
   "outputs": [],
   "source": []
  },
  {
   "cell_type": "code",
   "execution_count": null,
   "metadata": {},
   "outputs": [],
   "source": []
  },
  {
   "cell_type": "code",
   "execution_count": null,
   "metadata": {},
   "outputs": [],
   "source": []
  },
  {
   "cell_type": "code",
   "execution_count": null,
   "metadata": {},
   "outputs": [],
   "source": []
  },
  {
   "cell_type": "code",
   "execution_count": 93,
   "metadata": {},
   "outputs": [
    {
     "ename": "AttributeError",
     "evalue": "'list' object has no attribute 'size'",
     "output_type": "error",
     "traceback": [
      "\u001b[1;31m---------------------------------------------------------------------------\u001b[0m",
      "\u001b[1;31mAttributeError\u001b[0m                            Traceback (most recent call last)",
      "\u001b[1;32m<ipython-input-93-1482fea324ce>\u001b[0m in \u001b[0;36m<module>\u001b[1;34m\u001b[0m\n\u001b[1;32m----> 1\u001b[1;33m \u001b[0mto_be_elim\u001b[0m\u001b[1;33m.\u001b[0m\u001b[0msize\u001b[0m\u001b[1;33m\u001b[0m\u001b[1;33m\u001b[0m\u001b[0m\n\u001b[0m",
      "\u001b[1;31mAttributeError\u001b[0m: 'list' object has no attribute 'size'"
     ]
    }
   ],
   "source": []
  }
 ],
 "metadata": {
  "kernelspec": {
   "display_name": "Python 3",
   "language": "python",
   "name": "python3"
  },
  "language_info": {
   "codemirror_mode": {
    "name": "ipython",
    "version": 3
   },
   "file_extension": ".py",
   "mimetype": "text/x-python",
   "name": "python",
   "nbconvert_exporter": "python",
   "pygments_lexer": "ipython3",
   "version": "3.7.3"
  }
 },
 "nbformat": 4,
 "nbformat_minor": 2
}
